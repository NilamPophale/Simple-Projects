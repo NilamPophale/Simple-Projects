{
 "cells": [
  {
   "cell_type": "code",
   "execution_count": 1,
   "id": "769e9267",
   "metadata": {},
   "outputs": [
    {
     "name": "stdout",
     "output_type": "stream",
     "text": [
      "Enter a choice(rock,paper,scissors): rock\n",
      "player: rock\n",
      "computer:rock\n",
      "it's a tie!\n",
      "Play again?(y/n): y\n",
      "Enter a choice(rock,paper,scissors): paper\n",
      "player: paper\n",
      "computer:rock\n",
      "You win!\n",
      "Play again?(y/n): y\n",
      "Enter a choice(rock,paper,scissors): rock\n",
      "player: rock\n",
      "computer:paper\n",
      "You loss\n",
      "Play again?(y/n): n\n",
      "Thanks for playing!\n"
     ]
    }
   ],
   "source": [
    "import random\n",
    "\n",
    "options = ('rock','paper','scissors')\n",
    "\n",
    "running=True\n",
    "\n",
    "while running:\n",
    "    player= None\n",
    "    computer=random.choice(options)\n",
    "    \n",
    "    while player not in options:\n",
    "        player= input('Enter a choice(rock,paper,scissors): ')\n",
    "        print(f'player: {player}')\n",
    "        print(f'computer:{computer}')\n",
    "        \n",
    "        if player == computer:\n",
    "            print(\"it's a tie!\")\n",
    "        elif player == 'rock' and computer == 'scissors':\n",
    "            print('You win!')\n",
    "        elif player == 'paper' and computer == 'rock':\n",
    "            print('You win!')\n",
    "        elif player == 'scissors' and computer == 'paper':\n",
    "            print('You win!')\n",
    "        else:\n",
    "            print('You loss')\n",
    "        if not input('Play again?(y/n): ').lower() == 'y':     \n",
    "            running = False\n",
    "            \n",
    "print('Thanks for playing!')"
   ]
  },
  {
   "cell_type": "code",
   "execution_count": null,
   "id": "a4dd299f",
   "metadata": {},
   "outputs": [],
   "source": []
  }
 ],
 "metadata": {
  "kernelspec": {
   "display_name": "Python 3 (ipykernel)",
   "language": "python",
   "name": "python3"
  },
  "language_info": {
   "codemirror_mode": {
    "name": "ipython",
    "version": 3
   },
   "file_extension": ".py",
   "mimetype": "text/x-python",
   "name": "python",
   "nbconvert_exporter": "python",
   "pygments_lexer": "ipython3",
   "version": "3.11.5"
  }
 },
 "nbformat": 4,
 "nbformat_minor": 5
}
