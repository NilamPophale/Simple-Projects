{
 "cells": [
  {
   "cell_type": "code",
   "execution_count": 23,
   "id": "0a6958e7-b30d-43c6-b325-af4fa3640bc6",
   "metadata": {},
   "outputs": [
    {
     "name": "stdout",
     "output_type": "stream",
     "text": [
      "Requirement already satisfied: plotly in c:\\users\\admin\\anaconda3\\lib\\site-packages (5.9.0)\n",
      "Requirement already satisfied: tenacity>=6.2.0 in c:\\users\\admin\\anaconda3\\lib\\site-packages (from plotly) (8.2.2)\n"
     ]
    }
   ],
   "source": [
    "!pip install plotly"
   ]
  },
  {
   "cell_type": "code",
   "execution_count": 25,
   "id": "7bbbfb94-811d-4afa-be62-fbf4221db99e",
   "metadata": {},
   "outputs": [],
   "source": [
    "import pandas as pd\n",
    "import plotly.express as px\n",
    "import plotly.graph_objects as go\n",
    "import plotly.io as pio\n",
    "pio.templates.default = 'plotly_white'"
   ]
  },
  {
   "cell_type": "code",
   "execution_count": 27,
   "id": "04601d80-6206-41a7-af03-e7a6254b3fab",
   "metadata": {},
   "outputs": [],
   "source": [
    "data = pd.read_csv(r'F:\\Download\\IPL data\\matches.csv')"
   ]
  },
  {
   "cell_type": "code",
   "execution_count": 29,
   "id": "3ffbf476-738b-41c4-a591-1b00d0d5d2ba",
   "metadata": {},
   "outputs": [
    {
     "data": {
      "text/html": [
       "<div>\n",
       "<style scoped>\n",
       "    .dataframe tbody tr th:only-of-type {\n",
       "        vertical-align: middle;\n",
       "    }\n",
       "\n",
       "    .dataframe tbody tr th {\n",
       "        vertical-align: top;\n",
       "    }\n",
       "\n",
       "    .dataframe thead th {\n",
       "        text-align: right;\n",
       "    }\n",
       "</style>\n",
       "<table border=\"1\" class=\"dataframe\">\n",
       "  <thead>\n",
       "    <tr style=\"text-align: right;\">\n",
       "      <th></th>\n",
       "      <th>id</th>\n",
       "      <th>season</th>\n",
       "      <th>city</th>\n",
       "      <th>date</th>\n",
       "      <th>match_type</th>\n",
       "      <th>player_of_match</th>\n",
       "      <th>venue</th>\n",
       "      <th>team1</th>\n",
       "      <th>team2</th>\n",
       "      <th>toss_winner</th>\n",
       "      <th>toss_decision</th>\n",
       "      <th>winner</th>\n",
       "      <th>result</th>\n",
       "      <th>result_margin</th>\n",
       "      <th>target_runs</th>\n",
       "      <th>target_overs</th>\n",
       "      <th>super_over</th>\n",
       "      <th>method</th>\n",
       "      <th>umpire1</th>\n",
       "      <th>umpire2</th>\n",
       "    </tr>\n",
       "  </thead>\n",
       "  <tbody>\n",
       "    <tr>\n",
       "      <th>0</th>\n",
       "      <td>335982</td>\n",
       "      <td>2007/08</td>\n",
       "      <td>Bangalore</td>\n",
       "      <td>2008-04-18</td>\n",
       "      <td>League</td>\n",
       "      <td>BB McCullum</td>\n",
       "      <td>M Chinnaswamy Stadium</td>\n",
       "      <td>Royal Challengers Bangalore</td>\n",
       "      <td>Kolkata Knight Riders</td>\n",
       "      <td>Royal Challengers Bangalore</td>\n",
       "      <td>field</td>\n",
       "      <td>Kolkata Knight Riders</td>\n",
       "      <td>runs</td>\n",
       "      <td>140.0</td>\n",
       "      <td>223.0</td>\n",
       "      <td>20.0</td>\n",
       "      <td>N</td>\n",
       "      <td>NaN</td>\n",
       "      <td>Asad Rauf</td>\n",
       "      <td>RE Koertzen</td>\n",
       "    </tr>\n",
       "    <tr>\n",
       "      <th>1</th>\n",
       "      <td>335983</td>\n",
       "      <td>2007/08</td>\n",
       "      <td>Chandigarh</td>\n",
       "      <td>2008-04-19</td>\n",
       "      <td>League</td>\n",
       "      <td>MEK Hussey</td>\n",
       "      <td>Punjab Cricket Association Stadium, Mohali</td>\n",
       "      <td>Kings XI Punjab</td>\n",
       "      <td>Chennai Super Kings</td>\n",
       "      <td>Chennai Super Kings</td>\n",
       "      <td>bat</td>\n",
       "      <td>Chennai Super Kings</td>\n",
       "      <td>runs</td>\n",
       "      <td>33.0</td>\n",
       "      <td>241.0</td>\n",
       "      <td>20.0</td>\n",
       "      <td>N</td>\n",
       "      <td>NaN</td>\n",
       "      <td>MR Benson</td>\n",
       "      <td>SL Shastri</td>\n",
       "    </tr>\n",
       "    <tr>\n",
       "      <th>2</th>\n",
       "      <td>335984</td>\n",
       "      <td>2007/08</td>\n",
       "      <td>Delhi</td>\n",
       "      <td>2008-04-19</td>\n",
       "      <td>League</td>\n",
       "      <td>MF Maharoof</td>\n",
       "      <td>Feroz Shah Kotla</td>\n",
       "      <td>Delhi Daredevils</td>\n",
       "      <td>Rajasthan Royals</td>\n",
       "      <td>Rajasthan Royals</td>\n",
       "      <td>bat</td>\n",
       "      <td>Delhi Daredevils</td>\n",
       "      <td>wickets</td>\n",
       "      <td>9.0</td>\n",
       "      <td>130.0</td>\n",
       "      <td>20.0</td>\n",
       "      <td>N</td>\n",
       "      <td>NaN</td>\n",
       "      <td>Aleem Dar</td>\n",
       "      <td>GA Pratapkumar</td>\n",
       "    </tr>\n",
       "    <tr>\n",
       "      <th>3</th>\n",
       "      <td>335985</td>\n",
       "      <td>2007/08</td>\n",
       "      <td>Mumbai</td>\n",
       "      <td>2008-04-20</td>\n",
       "      <td>League</td>\n",
       "      <td>MV Boucher</td>\n",
       "      <td>Wankhede Stadium</td>\n",
       "      <td>Mumbai Indians</td>\n",
       "      <td>Royal Challengers Bangalore</td>\n",
       "      <td>Mumbai Indians</td>\n",
       "      <td>bat</td>\n",
       "      <td>Royal Challengers Bangalore</td>\n",
       "      <td>wickets</td>\n",
       "      <td>5.0</td>\n",
       "      <td>166.0</td>\n",
       "      <td>20.0</td>\n",
       "      <td>N</td>\n",
       "      <td>NaN</td>\n",
       "      <td>SJ Davis</td>\n",
       "      <td>DJ Harper</td>\n",
       "    </tr>\n",
       "    <tr>\n",
       "      <th>4</th>\n",
       "      <td>335986</td>\n",
       "      <td>2007/08</td>\n",
       "      <td>Kolkata</td>\n",
       "      <td>2008-04-20</td>\n",
       "      <td>League</td>\n",
       "      <td>DJ Hussey</td>\n",
       "      <td>Eden Gardens</td>\n",
       "      <td>Kolkata Knight Riders</td>\n",
       "      <td>Deccan Chargers</td>\n",
       "      <td>Deccan Chargers</td>\n",
       "      <td>bat</td>\n",
       "      <td>Kolkata Knight Riders</td>\n",
       "      <td>wickets</td>\n",
       "      <td>5.0</td>\n",
       "      <td>111.0</td>\n",
       "      <td>20.0</td>\n",
       "      <td>N</td>\n",
       "      <td>NaN</td>\n",
       "      <td>BF Bowden</td>\n",
       "      <td>K Hariharan</td>\n",
       "    </tr>\n",
       "    <tr>\n",
       "      <th>...</th>\n",
       "      <td>...</td>\n",
       "      <td>...</td>\n",
       "      <td>...</td>\n",
       "      <td>...</td>\n",
       "      <td>...</td>\n",
       "      <td>...</td>\n",
       "      <td>...</td>\n",
       "      <td>...</td>\n",
       "      <td>...</td>\n",
       "      <td>...</td>\n",
       "      <td>...</td>\n",
       "      <td>...</td>\n",
       "      <td>...</td>\n",
       "      <td>...</td>\n",
       "      <td>...</td>\n",
       "      <td>...</td>\n",
       "      <td>...</td>\n",
       "      <td>...</td>\n",
       "      <td>...</td>\n",
       "      <td>...</td>\n",
       "    </tr>\n",
       "    <tr>\n",
       "      <th>1090</th>\n",
       "      <td>1426307</td>\n",
       "      <td>2024</td>\n",
       "      <td>Hyderabad</td>\n",
       "      <td>2024-05-19</td>\n",
       "      <td>League</td>\n",
       "      <td>Abhishek Sharma</td>\n",
       "      <td>Rajiv Gandhi International Stadium, Uppal, Hyd...</td>\n",
       "      <td>Punjab Kings</td>\n",
       "      <td>Sunrisers Hyderabad</td>\n",
       "      <td>Punjab Kings</td>\n",
       "      <td>bat</td>\n",
       "      <td>Sunrisers Hyderabad</td>\n",
       "      <td>wickets</td>\n",
       "      <td>4.0</td>\n",
       "      <td>215.0</td>\n",
       "      <td>20.0</td>\n",
       "      <td>N</td>\n",
       "      <td>NaN</td>\n",
       "      <td>Nitin Menon</td>\n",
       "      <td>VK Sharma</td>\n",
       "    </tr>\n",
       "    <tr>\n",
       "      <th>1091</th>\n",
       "      <td>1426309</td>\n",
       "      <td>2024</td>\n",
       "      <td>Ahmedabad</td>\n",
       "      <td>2024-05-21</td>\n",
       "      <td>Qualifier 1</td>\n",
       "      <td>MA Starc</td>\n",
       "      <td>Narendra Modi Stadium, Ahmedabad</td>\n",
       "      <td>Sunrisers Hyderabad</td>\n",
       "      <td>Kolkata Knight Riders</td>\n",
       "      <td>Sunrisers Hyderabad</td>\n",
       "      <td>bat</td>\n",
       "      <td>Kolkata Knight Riders</td>\n",
       "      <td>wickets</td>\n",
       "      <td>8.0</td>\n",
       "      <td>160.0</td>\n",
       "      <td>20.0</td>\n",
       "      <td>N</td>\n",
       "      <td>NaN</td>\n",
       "      <td>AK Chaudhary</td>\n",
       "      <td>R Pandit</td>\n",
       "    </tr>\n",
       "    <tr>\n",
       "      <th>1092</th>\n",
       "      <td>1426310</td>\n",
       "      <td>2024</td>\n",
       "      <td>Ahmedabad</td>\n",
       "      <td>2024-05-22</td>\n",
       "      <td>Eliminator</td>\n",
       "      <td>R Ashwin</td>\n",
       "      <td>Narendra Modi Stadium, Ahmedabad</td>\n",
       "      <td>Royal Challengers Bengaluru</td>\n",
       "      <td>Rajasthan Royals</td>\n",
       "      <td>Rajasthan Royals</td>\n",
       "      <td>field</td>\n",
       "      <td>Rajasthan Royals</td>\n",
       "      <td>wickets</td>\n",
       "      <td>4.0</td>\n",
       "      <td>173.0</td>\n",
       "      <td>20.0</td>\n",
       "      <td>N</td>\n",
       "      <td>NaN</td>\n",
       "      <td>KN Ananthapadmanabhan</td>\n",
       "      <td>MV Saidharshan Kumar</td>\n",
       "    </tr>\n",
       "    <tr>\n",
       "      <th>1093</th>\n",
       "      <td>1426311</td>\n",
       "      <td>2024</td>\n",
       "      <td>Chennai</td>\n",
       "      <td>2024-05-24</td>\n",
       "      <td>Qualifier 2</td>\n",
       "      <td>Shahbaz Ahmed</td>\n",
       "      <td>MA Chidambaram Stadium, Chepauk, Chennai</td>\n",
       "      <td>Sunrisers Hyderabad</td>\n",
       "      <td>Rajasthan Royals</td>\n",
       "      <td>Rajasthan Royals</td>\n",
       "      <td>field</td>\n",
       "      <td>Sunrisers Hyderabad</td>\n",
       "      <td>runs</td>\n",
       "      <td>36.0</td>\n",
       "      <td>176.0</td>\n",
       "      <td>20.0</td>\n",
       "      <td>N</td>\n",
       "      <td>NaN</td>\n",
       "      <td>Nitin Menon</td>\n",
       "      <td>VK Sharma</td>\n",
       "    </tr>\n",
       "    <tr>\n",
       "      <th>1094</th>\n",
       "      <td>1426312</td>\n",
       "      <td>2024</td>\n",
       "      <td>Chennai</td>\n",
       "      <td>2024-05-26</td>\n",
       "      <td>Final</td>\n",
       "      <td>MA Starc</td>\n",
       "      <td>MA Chidambaram Stadium, Chepauk, Chennai</td>\n",
       "      <td>Sunrisers Hyderabad</td>\n",
       "      <td>Kolkata Knight Riders</td>\n",
       "      <td>Sunrisers Hyderabad</td>\n",
       "      <td>bat</td>\n",
       "      <td>Kolkata Knight Riders</td>\n",
       "      <td>wickets</td>\n",
       "      <td>8.0</td>\n",
       "      <td>114.0</td>\n",
       "      <td>20.0</td>\n",
       "      <td>N</td>\n",
       "      <td>NaN</td>\n",
       "      <td>J Madanagopal</td>\n",
       "      <td>Nitin Menon</td>\n",
       "    </tr>\n",
       "  </tbody>\n",
       "</table>\n",
       "<p>1095 rows × 20 columns</p>\n",
       "</div>"
      ],
      "text/plain": [
       "           id   season        city        date   match_type  player_of_match  \\\n",
       "0      335982  2007/08   Bangalore  2008-04-18       League      BB McCullum   \n",
       "1      335983  2007/08  Chandigarh  2008-04-19       League       MEK Hussey   \n",
       "2      335984  2007/08       Delhi  2008-04-19       League      MF Maharoof   \n",
       "3      335985  2007/08      Mumbai  2008-04-20       League       MV Boucher   \n",
       "4      335986  2007/08     Kolkata  2008-04-20       League        DJ Hussey   \n",
       "...       ...      ...         ...         ...          ...              ...   \n",
       "1090  1426307     2024   Hyderabad  2024-05-19       League  Abhishek Sharma   \n",
       "1091  1426309     2024   Ahmedabad  2024-05-21  Qualifier 1         MA Starc   \n",
       "1092  1426310     2024   Ahmedabad  2024-05-22   Eliminator         R Ashwin   \n",
       "1093  1426311     2024     Chennai  2024-05-24  Qualifier 2    Shahbaz Ahmed   \n",
       "1094  1426312     2024     Chennai  2024-05-26        Final         MA Starc   \n",
       "\n",
       "                                                  venue  \\\n",
       "0                                 M Chinnaswamy Stadium   \n",
       "1            Punjab Cricket Association Stadium, Mohali   \n",
       "2                                      Feroz Shah Kotla   \n",
       "3                                      Wankhede Stadium   \n",
       "4                                          Eden Gardens   \n",
       "...                                                 ...   \n",
       "1090  Rajiv Gandhi International Stadium, Uppal, Hyd...   \n",
       "1091                   Narendra Modi Stadium, Ahmedabad   \n",
       "1092                   Narendra Modi Stadium, Ahmedabad   \n",
       "1093           MA Chidambaram Stadium, Chepauk, Chennai   \n",
       "1094           MA Chidambaram Stadium, Chepauk, Chennai   \n",
       "\n",
       "                            team1                        team2  \\\n",
       "0     Royal Challengers Bangalore        Kolkata Knight Riders   \n",
       "1                 Kings XI Punjab          Chennai Super Kings   \n",
       "2                Delhi Daredevils             Rajasthan Royals   \n",
       "3                  Mumbai Indians  Royal Challengers Bangalore   \n",
       "4           Kolkata Knight Riders              Deccan Chargers   \n",
       "...                           ...                          ...   \n",
       "1090                 Punjab Kings          Sunrisers Hyderabad   \n",
       "1091          Sunrisers Hyderabad        Kolkata Knight Riders   \n",
       "1092  Royal Challengers Bengaluru             Rajasthan Royals   \n",
       "1093          Sunrisers Hyderabad             Rajasthan Royals   \n",
       "1094          Sunrisers Hyderabad        Kolkata Knight Riders   \n",
       "\n",
       "                      toss_winner toss_decision                       winner  \\\n",
       "0     Royal Challengers Bangalore         field        Kolkata Knight Riders   \n",
       "1             Chennai Super Kings           bat          Chennai Super Kings   \n",
       "2                Rajasthan Royals           bat             Delhi Daredevils   \n",
       "3                  Mumbai Indians           bat  Royal Challengers Bangalore   \n",
       "4                 Deccan Chargers           bat        Kolkata Knight Riders   \n",
       "...                           ...           ...                          ...   \n",
       "1090                 Punjab Kings           bat          Sunrisers Hyderabad   \n",
       "1091          Sunrisers Hyderabad           bat        Kolkata Knight Riders   \n",
       "1092             Rajasthan Royals         field             Rajasthan Royals   \n",
       "1093             Rajasthan Royals         field          Sunrisers Hyderabad   \n",
       "1094          Sunrisers Hyderabad           bat        Kolkata Knight Riders   \n",
       "\n",
       "       result  result_margin  target_runs  target_overs super_over method  \\\n",
       "0        runs          140.0        223.0          20.0          N    NaN   \n",
       "1        runs           33.0        241.0          20.0          N    NaN   \n",
       "2     wickets            9.0        130.0          20.0          N    NaN   \n",
       "3     wickets            5.0        166.0          20.0          N    NaN   \n",
       "4     wickets            5.0        111.0          20.0          N    NaN   \n",
       "...       ...            ...          ...           ...        ...    ...   \n",
       "1090  wickets            4.0        215.0          20.0          N    NaN   \n",
       "1091  wickets            8.0        160.0          20.0          N    NaN   \n",
       "1092  wickets            4.0        173.0          20.0          N    NaN   \n",
       "1093     runs           36.0        176.0          20.0          N    NaN   \n",
       "1094  wickets            8.0        114.0          20.0          N    NaN   \n",
       "\n",
       "                    umpire1               umpire2  \n",
       "0                 Asad Rauf           RE Koertzen  \n",
       "1                 MR Benson            SL Shastri  \n",
       "2                 Aleem Dar        GA Pratapkumar  \n",
       "3                  SJ Davis             DJ Harper  \n",
       "4                 BF Bowden           K Hariharan  \n",
       "...                     ...                   ...  \n",
       "1090            Nitin Menon             VK Sharma  \n",
       "1091           AK Chaudhary              R Pandit  \n",
       "1092  KN Ananthapadmanabhan  MV Saidharshan Kumar  \n",
       "1093            Nitin Menon             VK Sharma  \n",
       "1094          J Madanagopal           Nitin Menon  \n",
       "\n",
       "[1095 rows x 20 columns]"
      ]
     },
     "execution_count": 29,
     "metadata": {},
     "output_type": "execute_result"
    }
   ],
   "source": [
    "data"
   ]
  },
  {
   "cell_type": "code",
   "execution_count": 45,
   "id": "4c78e98a-c70d-4347-94c1-ca6c96384fa7",
   "metadata": {},
   "outputs": [],
   "source": [
    "matches_won = px.bar(data,\n",
    "                     x=data['winner'],\n",
    "                     title='Number of matches Won by teams in IPL')"
   ]
  },
  {
   "cell_type": "code",
   "execution_count": 47,
   "id": "6abf263c-1a98-4e7a-8e76-0c2b2788b60c",
   "metadata": {},
   "outputs": [
    {
     "data": {
      "application/vnd.plotly.v1+json": {
       "config": {
        "plotlyServerURL": "https://plot.ly"
       },
       "data": [
        {
         "alignmentgroup": "True",
         "hovertemplate": "winner=%{x}<br>count=%{y}<extra></extra>",
         "legendgroup": "",
         "marker": {
          "color": "#636efa",
          "pattern": {
           "shape": ""
          }
         },
         "name": "",
         "offsetgroup": "",
         "orientation": "v",
         "showlegend": false,
         "textposition": "auto",
         "type": "bar",
         "x": [
          "Kolkata Knight Riders",
          "Chennai Super Kings",
          "Delhi Daredevils",
          "Royal Challengers Bangalore",
          "Kolkata Knight Riders",
          "Rajasthan Royals",
          "Delhi Daredevils",
          "Chennai Super Kings",
          "Rajasthan Royals",
          "Kings XI Punjab",
          "Rajasthan Royals",
          "Chennai Super Kings",
          "Deccan Chargers",
          "Kings XI Punjab",
          "Chennai Super Kings",
          "Mumbai Indians",
          "Delhi Daredevils",
          "Kings XI Punjab",
          "Rajasthan Royals",
          "Delhi Daredevils",
          "Kings XI Punjab",
          "Royal Challengers Bangalore",
          "Mumbai Indians",
          "Rajasthan Royals",
          "Kings XI Punjab",
          "Deccan Chargers",
          "Mumbai Indians",
          "Chennai Super Kings",
          "Kolkata Knight Riders",
          "Rajasthan Royals",
          "Chennai Super Kings",
          "Kolkata Knight Riders",
          "Rajasthan Royals",
          "Kings XI Punjab",
          "Kolkata Knight Riders",
          "Mumbai Indians",
          "Delhi Daredevils",
          "Mumbai Indians",
          "Kings XI Punjab",
          "Rajasthan Royals",
          "Mumbai Indians",
          "Chennai Super Kings",
          "Delhi Daredevils",
          "Rajasthan Royals",
          "Kings XI Punjab",
          "Royal Challengers Bangalore",
          "Kings XI Punjab",
          "Delhi Daredevils",
          "Rajasthan Royals",
          "Royal Challengers Bangalore",
          "Kolkata Knight Riders",
          "Rajasthan Royals",
          "Chennai Super Kings",
          "Mumbai Indians",
          "Kings XI Punjab",
          "Rajasthan Royals",
          "Chennai Super Kings",
          "Rajasthan Royals",
          "Mumbai Indians",
          "Royal Challengers Bangalore",
          "Delhi Daredevils",
          "Deccan Chargers",
          "Chennai Super Kings",
          "Kolkata Knight Riders",
          "Deccan Chargers",
          "Delhi Daredevils",
          "Rajasthan Royals",
          "Kings XI Punjab",
          "Deccan Chargers",
          "Delhi Daredevils",
          "Kings XI Punjab",
          "Deccan Chargers",
          "Mumbai Indians",
          "Rajasthan Royals",
          "Royal Challengers Bangalore",
          "Kings XI Punjab",
          "Delhi Daredevils",
          "Chennai Super Kings",
          "Mumbai Indians",
          "Royal Challengers Bangalore",
          "Rajasthan Royals",
          "Chennai Super Kings",
          "Kings XI Punjab",
          "Royal Challengers Bangalore",
          "Chennai Super Kings",
          "Rajasthan Royals",
          "Delhi Daredevils",
          "Deccan Chargers",
          "Rajasthan Royals",
          "Chennai Super Kings",
          "Delhi Daredevils",
          "Kings XI Punjab",
          "Chennai Super Kings",
          "Mumbai Indians",
          "Delhi Daredevils",
          "Deccan Chargers",
          "Royal Challengers Bangalore",
          "Mumbai Indians",
          "Delhi Daredevils",
          "Royal Challengers Bangalore",
          "Rajasthan Royals",
          "Kings XI Punjab",
          "Chennai Super Kings",
          "Deccan Chargers",
          "Kings XI Punjab",
          "Delhi Daredevils",
          "Kolkata Knight Riders",
          "Royal Challengers Bangalore",
          "Kolkata Knight Riders",
          "Chennai Super Kings",
          "Delhi Daredevils",
          "Royal Challengers Bangalore",
          "Deccan Chargers",
          "Royal Challengers Bangalore",
          "Deccan Chargers",
          "Kolkata Knight Riders",
          "Mumbai Indians",
          "Delhi Daredevils",
          "Kolkata Knight Riders",
          "Deccan Chargers",
          "Delhi Daredevils",
          "Royal Challengers Bangalore",
          "Chennai Super Kings",
          "Mumbai Indians",
          "Royal Challengers Bangalore",
          "Chennai Super Kings",
          "Deccan Chargers",
          "Rajasthan Royals",
          "Royal Challengers Bangalore",
          "Deccan Chargers",
          "Kings XI Punjab",
          "Mumbai Indians",
          "Royal Challengers Bangalore",
          "Rajasthan Royals",
          "Mumbai Indians",
          "Delhi Daredevils",
          "Rajasthan Royals",
          "Kolkata Knight Riders",
          "Rajasthan Royals",
          "Mumbai Indians",
          "Delhi Daredevils",
          "Mumbai Indians",
          "Chennai Super Kings",
          "Delhi Daredevils",
          "Kolkata Knight Riders",
          "Royal Challengers Bangalore",
          "Chennai Super Kings",
          "Mumbai Indians",
          "Kings XI Punjab",
          "Delhi Daredevils",
          "Rajasthan Royals",
          "Chennai Super Kings",
          "Rajasthan Royals",
          "Kolkata Knight Riders",
          "Deccan Chargers",
          "Kings XI Punjab",
          "Deccan Chargers",
          "Royal Challengers Bangalore",
          "Kings XI Punjab",
          "Mumbai Indians",
          "Deccan Chargers",
          "Mumbai Indians",
          "Chennai Super Kings",
          "Royal Challengers Bangalore",
          "Delhi Daredevils",
          "Deccan Chargers",
          "Mumbai Indians",
          "Kolkata Knight Riders",
          "Chennai Super Kings",
          "Deccan Chargers",
          "Kolkata Knight Riders",
          "Mumbai Indians",
          "Chennai Super Kings",
          "Royal Challengers Bangalore",
          "Chennai Super Kings",
          "Chennai Super Kings",
          "Rajasthan Royals",
          "Royal Challengers Bangalore",
          "Mumbai Indians",
          "Pune Warriors",
          "Kolkata Knight Riders",
          "Rajasthan Royals",
          "Mumbai Indians",
          "Kings XI Punjab",
          "Pune Warriors",
          "Deccan Chargers",
          "Kolkata Knight Riders",
          "Kochi Tuskers Kerala",
          "Chennai Super Kings",
          "Kings XI Punjab",
          "Delhi Daredevils",
          "Kolkata Knight Riders",
          "Kochi Tuskers Kerala",
          "Deccan Chargers",
          "Mumbai Indians",
          "Kochi Tuskers Kerala",
          "Kings XI Punjab",
          "Mumbai Indians",
          "Royal Challengers Bangalore",
          "Delhi Daredevils",
          "Mumbai Indians",
          "Rajasthan Royals",
          "Chennai Super Kings",
          "Royal Challengers Bangalore",
          "Chennai Super Kings",
          "Deccan Chargers",
          "Kolkata Knight Riders",
          "Rajasthan Royals",
          "Royal Challengers Bangalore",
          "Delhi Daredevils",
          "Kolkata Knight Riders",
          "Rajasthan Royals",
          "Chennai Super Kings",
          "Mumbai Indians",
          "Kochi Tuskers Kerala",
          "Kolkata Knight Riders",
          "Chennai Super Kings",
          "Mumbai Indians",
          "Kochi Tuskers Kerala",
          "Delhi Daredevils",
          "Royal Challengers Bangalore",
          "Kolkata Knight Riders",
          "Mumbai Indians",
          "Royal Challengers Bangalore",
          "Pune Warriors",
          "Chennai Super Kings",
          "Pune Warriors",
          "Kings XI Punjab",
          "Royal Challengers Bangalore",
          "Chennai Super Kings",
          "Kings XI Punjab",
          "Royal Challengers Bangalore",
          "Deccan Chargers",
          "Kings XI Punjab",
          "Kochi Tuskers Kerala",
          "Deccan Chargers",
          "Kings XI Punjab",
          "Chennai Super Kings",
          "Kolkata Knight Riders",
          "Rajasthan Royals",
          "Deccan Chargers",
          null,
          "Royal Challengers Bangalore",
          "Mumbai Indians",
          "Chennai Super Kings",
          "Mumbai Indians",
          "Royal Challengers Bangalore",
          "Chennai Super Kings",
          "Mumbai Indians",
          "Delhi Daredevils",
          "Pune Warriors",
          "Rajasthan Royals",
          "Royal Challengers Bangalore",
          "Chennai Super Kings",
          "Rajasthan Royals",
          "Pune Warriors",
          "Mumbai Indians",
          "Kolkata Knight Riders",
          "Delhi Daredevils",
          "Mumbai Indians",
          "Chennai Super Kings",
          "Kings XI Punjab",
          "Kolkata Knight Riders",
          "Pune Warriors",
          "Kings XI Punjab",
          "Rajasthan Royals",
          "Delhi Daredevils",
          "Rajasthan Royals",
          "Royal Challengers Bangalore",
          "Kolkata Knight Riders",
          "Delhi Daredevils",
          "Chennai Super Kings",
          "Royal Challengers Bangalore",
          "Chennai Super Kings",
          "Pune Warriors",
          "Kings XI Punjab",
          "Kolkata Knight Riders",
          "Royal Challengers Bangalore",
          "Delhi Daredevils",
          "Mumbai Indians",
          "Deccan Chargers",
          "Delhi Daredevils",
          "Kings XI Punjab",
          "Kolkata Knight Riders",
          "Delhi Daredevils",
          "Mumbai Indians",
          "Kolkata Knight Riders",
          "Deccan Chargers",
          "Delhi Daredevils",
          "Kings XI Punjab",
          "Mumbai Indians",
          "Chennai Super Kings",
          "Kolkata Knight Riders",
          "Rajasthan Royals",
          "Mumbai Indians",
          "Royal Challengers Bangalore",
          "Kolkata Knight Riders",
          "Rajasthan Royals",
          "Kings XI Punjab",
          "Royal Challengers Bangalore",
          "Delhi Daredevils",
          "Chennai Super Kings",
          "Royal Challengers Bangalore",
          "Mumbai Indians",
          "Chennai Super Kings",
          "Rajasthan Royals",
          "Kings XI Punjab",
          "Mumbai Indians",
          "Chennai Super Kings",
          "Delhi Daredevils",
          "Kolkata Knight Riders",
          "Kings XI Punjab",
          "Royal Challengers Bangalore",
          "Deccan Chargers",
          "Delhi Daredevils",
          "Kolkata Knight Riders",
          "Deccan Chargers",
          "Mumbai Indians",
          "Kolkata Knight Riders",
          "Chennai Super Kings",
          "Chennai Super Kings",
          "Kolkata Knight Riders",
          "Kolkata Knight Riders",
          "Royal Challengers Bangalore",
          "Sunrisers Hyderabad",
          "Rajasthan Royals",
          "Mumbai Indians",
          "Kings XI Punjab",
          "Sunrisers Hyderabad",
          "Rajasthan Royals",
          "Mumbai Indians",
          "Royal Challengers Bangalore",
          "Chennai Super Kings",
          "Royal Challengers Bangalore",
          "Pune Warriors",
          "Sunrisers Hyderabad",
          "Mumbai Indians",
          "Chennai Super Kings",
          "Kolkata Knight Riders",
          "Rajasthan Royals",
          "Pune Warriors",
          "Kings XI Punjab",
          "Royal Challengers Bangalore",
          "Sunrisers Hyderabad",
          "Rajasthan Royals",
          "Chennai Super Kings",
          "Sunrisers Hyderabad",
          "Chennai Super Kings",
          "Royal Challengers Bangalore",
          "Delhi Daredevils",
          "Kings XI Punjab",
          "Chennai Super Kings",
          "Royal Challengers Bangalore",
          "Kings XI Punjab",
          "Mumbai Indians",
          "Chennai Super Kings",
          "Kolkata Knight Riders",
          "Rajasthan Royals",
          "Mumbai Indians",
          "Chennai Super Kings",
          "Delhi Daredevils",
          "Rajasthan Royals",
          "Mumbai Indians",
          "Chennai Super Kings",
          "Sunrisers Hyderabad",
          "Delhi Daredevils",
          "Chennai Super Kings",
          "Royal Challengers Bangalore",
          "Kolkata Knight Riders",
          "Sunrisers Hyderabad",
          "Mumbai Indians",
          "Rajasthan Royals",
          "Kings XI Punjab",
          "Rajasthan Royals",
          "Mumbai Indians",
          "Chennai Super Kings",
          "Rajasthan Royals",
          "Kolkata Knight Riders",
          "Royal Challengers Bangalore",
          "Mumbai Indians",
          "Sunrisers Hyderabad",
          "Kolkata Knight Riders",
          "Rajasthan Royals",
          "Mumbai Indians",
          "Kings XI Punjab",
          "Chennai Super Kings",
          "Pune Warriors",
          "Mumbai Indians",
          "Kings XI Punjab",
          "Sunrisers Hyderabad",
          "Kings XI Punjab",
          "Royal Challengers Bangalore",
          "Pune Warriors",
          "Sunrisers Hyderabad",
          "Chennai Super Kings",
          "Rajasthan Royals",
          "Mumbai Indians",
          "Mumbai Indians",
          "Kolkata Knight Riders",
          "Royal Challengers Bangalore",
          "Kings XI Punjab",
          "Rajasthan Royals",
          "Royal Challengers Bangalore",
          "Delhi Daredevils",
          "Kings XI Punjab",
          "Chennai Super Kings",
          "Kings XI Punjab",
          "Chennai Super Kings",
          "Kolkata Knight Riders",
          "Sunrisers Hyderabad",
          "Chennai Super Kings",
          "Rajasthan Royals",
          "Kings XI Punjab",
          "Delhi Daredevils",
          "Chennai Super Kings",
          "Kings XI Punjab",
          "Rajasthan Royals",
          "Sunrisers Hyderabad",
          "Chennai Super Kings",
          "Mumbai Indians",
          "Rajasthan Royals",
          "Royal Challengers Bangalore",
          "Rajasthan Royals",
          "Chennai Super Kings",
          "Mumbai Indians",
          "Kolkata Knight Riders",
          "Kings XI Punjab",
          "Sunrisers Hyderabad",
          "Kings XI Punjab",
          "Sunrisers Hyderabad",
          "Chennai Super Kings",
          "Kolkata Knight Riders",
          "Rajasthan Royals",
          "Mumbai Indians",
          "Chennai Super Kings",
          "Royal Challengers Bangalore",
          "Kings XI Punjab",
          "Kolkata Knight Riders",
          "Rajasthan Royals",
          "Royal Challengers Bangalore",
          "Kolkata Knight Riders",
          "Mumbai Indians",
          "Kings XI Punjab",
          "Sunrisers Hyderabad",
          "Kolkata Knight Riders",
          "Mumbai Indians",
          "Kolkata Knight Riders",
          "Sunrisers Hyderabad",
          "Mumbai Indians",
          "Kings XI Punjab",
          "Chennai Super Kings",
          "Kolkata Knight Riders",
          "Kings XI Punjab",
          "Mumbai Indians",
          "Kolkata Knight Riders",
          "Chennai Super Kings",
          "Kings XI Punjab",
          "Kolkata Knight Riders",
          "Kolkata Knight Riders",
          "Chennai Super Kings",
          "Rajasthan Royals",
          "Chennai Super Kings",
          "Royal Challengers Bangalore",
          "Rajasthan Royals",
          "Kings XI Punjab",
          "Sunrisers Hyderabad",
          "Rajasthan Royals",
          "Delhi Daredevils",
          "Rajasthan Royals",
          "Chennai Super Kings",
          "Delhi Daredevils",
          "Kolkata Knight Riders",
          "Rajasthan Royals",
          "Mumbai Indians",
          "Kolkata Knight Riders",
          "Kings XI Punjab",
          "Sunrisers Hyderabad",
          "Chennai Super Kings",
          "Delhi Daredevils",
          "Royal Challengers Bangalore",
          "Mumbai Indians",
          "Chennai Super Kings",
          "Royal Challengers Bangalore",
          "Sunrisers Hyderabad",
          "Chennai Super Kings",
          null,
          "Kolkata Knight Riders",
          "Delhi Daredevils",
          "Mumbai Indians",
          "Royal Challengers Bangalore",
          "Sunrisers Hyderabad",
          "Mumbai Indians",
          "Rajasthan Royals",
          "Chennai Super Kings",
          "Kolkata Knight Riders",
          "Mumbai Indians",
          "Royal Challengers Bangalore",
          "Kolkata Knight Riders",
          "Sunrisers Hyderabad",
          "Mumbai Indians",
          "Kolkata Knight Riders",
          "Sunrisers Hyderabad",
          "Royal Challengers Bangalore",
          "Chennai Super Kings",
          "Sunrisers Hyderabad",
          "Delhi Daredevils",
          "Kings XI Punjab",
          "Mumbai Indians",
          "Royal Challengers Bangalore",
          "Chennai Super Kings",
          "Rajasthan Royals",
          null,
          "Mumbai Indians",
          "Mumbai Indians",
          "Royal Challengers Bangalore",
          "Chennai Super Kings",
          "Mumbai Indians",
          "Rising Pune Supergiants",
          "Kolkata Knight Riders",
          "Gujarat Lions",
          "Royal Challengers Bangalore",
          "Mumbai Indians",
          "Gujarat Lions",
          "Delhi Daredevils",
          "Kolkata Knight Riders",
          "Gujarat Lions",
          "Kings XI Punjab",
          "Delhi Daredevils",
          "Sunrisers Hyderabad",
          "Kolkata Knight Riders",
          "Mumbai Indians",
          "Sunrisers Hyderabad",
          "Royal Challengers Bangalore",
          "Delhi Daredevils",
          "Sunrisers Hyderabad",
          "Gujarat Lions",
          "Kolkata Knight Riders",
          "Mumbai Indians",
          "Rising Pune Supergiants",
          "Gujarat Lions",
          "Mumbai Indians",
          "Gujarat Lions",
          "Delhi Daredevils",
          "Sunrisers Hyderabad",
          "Kings XI Punjab",
          "Mumbai Indians",
          "Kolkata Knight Riders",
          "Delhi Daredevils",
          "Kolkata Knight Riders",
          "Rising Pune Supergiants",
          "Sunrisers Hyderabad",
          "Royal Challengers Bangalore",
          "Kings XI Punjab",
          "Sunrisers Hyderabad",
          "Gujarat Lions",
          "Royal Challengers Bangalore",
          "Sunrisers Hyderabad",
          "Mumbai Indians",
          "Delhi Daredevils",
          "Kings XI Punjab",
          "Royal Challengers Bangalore",
          "Kolkata Knight Riders",
          "Sunrisers Hyderabad",
          "Mumbai Indians",
          "Royal Challengers Bangalore",
          "Rising Pune Supergiants",
          "Royal Challengers Bangalore",
          "Gujarat Lions",
          "Delhi Daredevils",
          "Rising Pune Supergiants",
          "Gujarat Lions",
          "Kolkata Knight Riders",
          "Royal Challengers Bangalore",
          "Royal Challengers Bangalore",
          "Sunrisers Hyderabad",
          "Sunrisers Hyderabad",
          "Sunrisers Hyderabad",
          "Sunrisers Hyderabad",
          "Rising Pune Supergiant",
          "Kolkata Knight Riders",
          "Kings XI Punjab",
          "Royal Challengers Bangalore",
          "Sunrisers Hyderabad",
          "Mumbai Indians",
          "Kings XI Punjab",
          "Delhi Daredevils",
          "Mumbai Indians",
          "Kolkata Knight Riders",
          "Mumbai Indians",
          "Gujarat Lions",
          "Kolkata Knight Riders",
          "Delhi Daredevils",
          "Mumbai Indians",
          "Rising Pune Supergiant",
          "Kolkata Knight Riders",
          "Sunrisers Hyderabad",
          "Royal Challengers Bangalore",
          "Sunrisers Hyderabad",
          "Mumbai Indians",
          "Gujarat Lions",
          "Mumbai Indians",
          "Rising Pune Supergiant",
          "Kings XI Punjab",
          "Kolkata Knight Riders",
          "Rising Pune Supergiant",
          "Kolkata Knight Riders",
          "Gujarat Lions",
          "Kolkata Knight Riders",
          "Sunrisers Hyderabad",
          "Rising Pune Supergiant",
          "Mumbai Indians",
          "Kings XI Punjab",
          "Sunrisers Hyderabad",
          "Mumbai Indians",
          "Rising Pune Supergiant",
          "Delhi Daredevils",
          "Rising Pune Supergiant",
          "Delhi Daredevils",
          "Kings XI Punjab",
          "Rising Pune Supergiant",
          "Mumbai Indians",
          "Kolkata Knight Riders",
          "Gujarat Lions",
          "Sunrisers Hyderabad",
          "Kings XI Punjab",
          "Delhi Daredevils",
          "Kings XI Punjab",
          "Delhi Daredevils",
          "Sunrisers Hyderabad",
          "Mumbai Indians",
          "Rising Pune Supergiant",
          "Royal Challengers Bangalore",
          "Rising Pune Supergiant",
          "Kolkata Knight Riders",
          "Mumbai Indians",
          "Mumbai Indians",
          "Chennai Super Kings",
          "Kings XI Punjab",
          "Kolkata Knight Riders",
          "Sunrisers Hyderabad",
          "Chennai Super Kings",
          "Rajasthan Royals",
          "Sunrisers Hyderabad",
          "Royal Challengers Bangalore",
          "Delhi Daredevils",
          "Sunrisers Hyderabad",
          "Rajasthan Royals",
          "Kings XI Punjab",
          "Kolkata Knight Riders",
          "Mumbai Indians",
          "Kolkata Knight Riders",
          "Kings XI Punjab",
          "Chennai Super Kings",
          "Kings XI Punjab",
          "Royal Challengers Bangalore",
          "Chennai Super Kings",
          "Rajasthan Royals",
          "Kings XI Punjab",
          "Sunrisers Hyderabad",
          "Chennai Super Kings",
          "Sunrisers Hyderabad",
          "Delhi Daredevils",
          "Mumbai Indians",
          "Sunrisers Hyderabad",
          "Kolkata Knight Riders",
          "Chennai Super Kings",
          "Royal Challengers Bangalore",
          "Delhi Daredevils",
          "Kolkata Knight Riders",
          "Mumbai Indians",
          "Chennai Super Kings",
          "Sunrisers Hyderabad",
          "Mumbai Indians",
          "Kings XI Punjab",
          "Sunrisers Hyderabad",
          "Rajasthan Royals",
          "Mumbai Indians",
          "Sunrisers Hyderabad",
          "Rajasthan Royals",
          "Kolkata Knight Riders",
          "Royal Challengers Bangalore",
          "Chennai Super Kings",
          "Rajasthan Royals",
          "Royal Challengers Bangalore",
          "Kolkata Knight Riders",
          "Mumbai Indians",
          "Royal Challengers Bangalore",
          "Delhi Daredevils",
          "Rajasthan Royals",
          "Kolkata Knight Riders",
          "Delhi Daredevils",
          "Chennai Super Kings",
          "Chennai Super Kings",
          "Kolkata Knight Riders",
          "Sunrisers Hyderabad",
          "Chennai Super Kings",
          "Chennai Super Kings",
          "Kolkata Knight Riders",
          "Delhi Capitals",
          "Kings XI Punjab",
          "Chennai Super Kings",
          "Kolkata Knight Riders",
          "Mumbai Indians",
          "Sunrisers Hyderabad",
          "Kings XI Punjab",
          "Delhi Capitals",
          "Sunrisers Hyderabad",
          "Chennai Super Kings",
          "Kings XI Punjab",
          "Rajasthan Royals",
          "Mumbai Indians",
          "Sunrisers Hyderabad",
          "Kolkata Knight Riders",
          "Chennai Super Kings",
          "Mumbai Indians",
          "Delhi Capitals",
          "Kolkata Knight Riders",
          "Kings XI Punjab",
          "Chennai Super Kings",
          "Mumbai Indians",
          "Chennai Super Kings",
          "Delhi Capitals",
          "Rajasthan Royals",
          "Royal Challengers Bangalore",
          "Chennai Super Kings",
          "Delhi Capitals",
          "Mumbai Indians",
          "Kings XI Punjab",
          "Sunrisers Hyderabad",
          "Mumbai Indians",
          "Royal Challengers Bangalore",
          "Rajasthan Royals",
          "Delhi Capitals",
          "Sunrisers Hyderabad",
          "Royal Challengers Bangalore",
          "Delhi Capitals",
          "Chennai Super Kings",
          "Royal Challengers Bangalore",
          "Rajasthan Royals",
          "Mumbai Indians",
          "Rajasthan Royals",
          "Delhi Capitals",
          "Kolkata Knight Riders",
          "Sunrisers Hyderabad",
          null,
          "Chennai Super Kings",
          "Mumbai Indians",
          "Kolkata Knight Riders",
          "Delhi Capitals",
          "Royal Challengers Bangalore",
          "Kings XI Punjab",
          "Mumbai Indians",
          "Mumbai Indians",
          "Delhi Capitals",
          "Chennai Super Kings",
          "Mumbai Indians",
          "Chennai Super Kings",
          "Delhi Capitals",
          "Royal Challengers Bangalore",
          "Rajasthan Royals",
          "Mumbai Indians",
          "Kings XI Punjab",
          "Delhi Capitals",
          "Kolkata Knight Riders",
          "Rajasthan Royals",
          "Royal Challengers Bangalore",
          "Sunrisers Hyderabad",
          "Kolkata Knight Riders",
          "Mumbai Indians",
          "Sunrisers Hyderabad",
          "Royal Challengers Bangalore",
          "Delhi Capitals",
          "Chennai Super Kings",
          "Mumbai Indians",
          "Delhi Capitals",
          "Mumbai Indians",
          "Kolkata Knight Riders",
          "Sunrisers Hyderabad",
          "Delhi Capitals",
          "Kolkata Knight Riders",
          "Royal Challengers Bangalore",
          "Rajasthan Royals",
          "Mumbai Indians",
          "Royal Challengers Bangalore",
          "Chennai Super Kings",
          "Delhi Capitals",
          "Kings XI Punjab",
          "Mumbai Indians",
          "Delhi Capitals",
          "Royal Challengers Bangalore",
          "Kolkata Knight Riders",
          "Kings XI Punjab",
          "Rajasthan Royals",
          "Kings XI Punjab",
          "Royal Challengers Bangalore",
          "Sunrisers Hyderabad",
          "Mumbai Indians",
          "Kolkata Knight Riders",
          "Kings XI Punjab",
          "Rajasthan Royals",
          "Chennai Super Kings",
          "Kings XI Punjab",
          "Sunrisers Hyderabad",
          "Mumbai Indians",
          "Chennai Super Kings",
          "Rajasthan Royals",
          "Sunrisers Hyderabad",
          "Mumbai Indians",
          "Chennai Super Kings",
          "Kolkata Knight Riders",
          "Delhi Capitals",
          "Sunrisers Hyderabad",
          "Mumbai Indians",
          "Sunrisers Hyderabad",
          "Delhi Capitals",
          "Mumbai Indians",
          "Royal Challengers Bangalore",
          "Delhi Capitals",
          "Kolkata Knight Riders",
          "Punjab Kings",
          "Mumbai Indians",
          "Royal Challengers Bangalore",
          "Rajasthan Royals",
          "Chennai Super Kings",
          "Mumbai Indians",
          "Royal Challengers Bangalore",
          "Delhi Capitals",
          "Chennai Super Kings",
          "Delhi Capitals",
          "Sunrisers Hyderabad",
          "Chennai Super Kings",
          "Royal Challengers Bangalore",
          "Punjab Kings",
          "Rajasthan Royals",
          "Chennai Super Kings",
          "Delhi Capitals",
          "Kolkata Knight Riders",
          "Royal Challengers Bangalore",
          "Chennai Super Kings",
          "Mumbai Indians",
          "Delhi Capitals",
          "Punjab Kings",
          "Mumbai Indians",
          "Rajasthan Royals",
          "Delhi Capitals",
          "Chennai Super Kings",
          "Kolkata Knight Riders",
          "Rajasthan Royals",
          "Delhi Capitals",
          "Kolkata Knight Riders",
          "Chennai Super Kings",
          "Delhi Capitals",
          "Punjab Kings",
          "Chennai Super Kings",
          "Royal Challengers Bangalore",
          "Sunrisers Hyderabad",
          "Kolkata Knight Riders",
          "Mumbai Indians",
          "Royal Challengers Bangalore",
          "Chennai Super Kings",
          "Punjab Kings",
          "Rajasthan Royals",
          "Delhi Capitals",
          "Royal Challengers Bangalore",
          "Kolkata Knight Riders",
          "Delhi Capitals",
          "Mumbai Indians",
          "Sunrisers Hyderabad",
          "Punjab Kings",
          "Kolkata Knight Riders",
          "Mumbai Indians",
          "Royal Challengers Bangalore",
          "Chennai Super Kings",
          "Kolkata Knight Riders",
          "Kolkata Knight Riders",
          "Chennai Super Kings",
          "Kolkata Knight Riders",
          "Delhi Capitals",
          "Punjab Kings",
          "Gujarat Titans",
          "Rajasthan Royals",
          "Royal Challengers Bangalore",
          "Lucknow Super Giants",
          "Kolkata Knight Riders",
          "Rajasthan Royals",
          "Gujarat Titans",
          "Punjab Kings",
          "Lucknow Super Giants",
          "Royal Challengers Bangalore",
          "Kolkata Knight Riders",
          "Lucknow Super Giants",
          "Gujarat Titans",
          "Sunrisers Hyderabad",
          "Royal Challengers Bangalore",
          "Delhi Capitals",
          "Rajasthan Royals",
          "Sunrisers Hyderabad",
          "Chennai Super Kings",
          "Punjab Kings",
          "Gujarat Titans",
          "Sunrisers Hyderabad",
          "Lucknow Super Giants",
          "Royal Challengers Bangalore",
          "Sunrisers Hyderabad",
          "Gujarat Titans",
          "Rajasthan Royals",
          "Royal Challengers Bangalore",
          "Delhi Capitals",
          "Chennai Super Kings",
          "Rajasthan Royals",
          "Gujarat Titans",
          "Sunrisers Hyderabad",
          "Lucknow Super Giants",
          "Punjab Kings",
          "Rajasthan Royals",
          "Gujarat Titans",
          "Delhi Capitals",
          "Lucknow Super Giants",
          "Gujarat Titans",
          "Mumbai Indians",
          "Lucknow Super Giants",
          "Chennai Super Kings",
          "Kolkata Knight Riders",
          "Punjab Kings",
          "Royal Challengers Bangalore",
          "Delhi Capitals",
          "Mumbai Indians",
          "Rajasthan Royals",
          "Lucknow Super Giants",
          "Royal Challengers Bangalore",
          "Chennai Super Kings",
          "Kolkata Knight Riders",
          "Gujarat Titans",
          "Delhi Capitals",
          "Mumbai Indians",
          "Punjab Kings",
          "Kolkata Knight Riders",
          "Gujarat Titans",
          "Rajasthan Royals",
          "Delhi Capitals",
          "Sunrisers Hyderabad",
          "Lucknow Super Giants",
          "Royal Challengers Bangalore",
          "Rajasthan Royals",
          "Mumbai Indians",
          "Punjab Kings",
          "Gujarat Titans",
          "Royal Challengers Bangalore",
          "Rajasthan Royals",
          "Gujarat Titans",
          "Gujarat Titans",
          "Punjab Kings",
          "Lucknow Super Giants",
          "Rajasthan Royals",
          "Royal Challengers Bangalore",
          "Chennai Super Kings",
          "Gujarat Titans",
          "Punjab Kings",
          "Kolkata Knight Riders",
          "Lucknow Super Giants",
          "Rajasthan Royals",
          "Chennai Super Kings",
          "Kolkata Knight Riders",
          "Sunrisers Hyderabad",
          "Lucknow Super Giants",
          "Mumbai Indians",
          "Rajasthan Royals",
          "Gujarat Titans",
          "Sunrisers Hyderabad",
          "Royal Challengers Bangalore",
          "Punjab Kings",
          "Mumbai Indians",
          "Rajasthan Royals",
          "Chennai Super Kings",
          "Mumbai Indians",
          "Lucknow Super Giants",
          "Royal Challengers Bangalore",
          "Delhi Capitals",
          "Chennai Super Kings",
          "Gujarat Titans",
          "Punjab Kings",
          "Royal Challengers Bangalore",
          "Chennai Super Kings",
          "Delhi Capitals",
          "Gujarat Titans",
          "Kolkata Knight Riders",
          "Rajasthan Royals",
          "Lucknow Super Giants",
          "Gujarat Titans",
          "Sunrisers Hyderabad",
          "Punjab Kings",
          "Mumbai Indians",
          "Royal Challengers Bangalore",
          "Delhi Capitals",
          null,
          "Mumbai Indians",
          "Kolkata Knight Riders",
          "Gujarat Titans",
          "Chennai Super Kings",
          "Delhi Capitals",
          "Gujarat Titans",
          "Sunrisers Hyderabad",
          "Kolkata Knight Riders",
          "Mumbai Indians",
          "Chennai Super Kings",
          "Rajasthan Royals",
          "Mumbai Indians",
          "Lucknow Super Giants",
          "Punjab Kings",
          "Royal Challengers Bangalore",
          "Kolkata Knight Riders",
          "Gujarat Titans",
          "Lucknow Super Giants",
          "Delhi Capitals",
          "Royal Challengers Bangalore",
          "Rajasthan Royals",
          "Chennai Super Kings",
          "Lucknow Super Giants",
          "Mumbai Indians",
          "Gujarat Titans",
          "Chennai Super Kings",
          "Mumbai Indians",
          "Gujarat Titans",
          "Chennai Super Kings",
          "Chennai Super Kings",
          "Punjab Kings",
          "Kolkata Knight Riders",
          "Rajasthan Royals",
          "Gujarat Titans",
          "Royal Challengers Bengaluru",
          "Chennai Super Kings",
          "Sunrisers Hyderabad",
          "Rajasthan Royals",
          "Kolkata Knight Riders",
          "Lucknow Super Giants",
          "Gujarat Titans",
          "Delhi Capitals",
          "Rajasthan Royals",
          "Lucknow Super Giants",
          "Kolkata Knight Riders",
          "Punjab Kings",
          "Sunrisers Hyderabad",
          "Rajasthan Royals",
          "Mumbai Indians",
          "Lucknow Super Giants",
          "Chennai Super Kings",
          "Sunrisers Hyderabad",
          "Gujarat Titans",
          "Mumbai Indians",
          "Delhi Capitals",
          "Rajasthan Royals",
          "Kolkata Knight Riders",
          "Chennai Super Kings",
          "Sunrisers Hyderabad",
          "Rajasthan Royals",
          "Delhi Capitals",
          "Mumbai Indians",
          "Lucknow Super Giants",
          "Sunrisers Hyderabad",
          "Kolkata Knight Riders",
          "Gujarat Titans",
          "Rajasthan Royals",
          "Lucknow Super Giants",
          "Delhi Capitals",
          "Royal Challengers Bengaluru",
          "Punjab Kings",
          "Delhi Capitals",
          "Rajasthan Royals",
          "Royal Challengers Bengaluru",
          "Chennai Super Kings",
          "Kolkata Knight Riders",
          "Lucknow Super Giants",
          "Punjab Kings",
          "Sunrisers Hyderabad",
          "Kolkata Knight Riders",
          "Royal Challengers Bengaluru",
          "Chennai Super Kings",
          "Kolkata Knight Riders",
          "Mumbai Indians",
          "Delhi Capitals",
          "Sunrisers Hyderabad",
          "Royal Challengers Bengaluru",
          "Gujarat Titans",
          "Kolkata Knight Riders",
          "Chennai Super Kings",
          "Royal Challengers Bengaluru",
          "Delhi Capitals",
          "Punjab Kings",
          "Lucknow Super Giants",
          "Royal Challengers Bengaluru",
          "Sunrisers Hyderabad",
          "Kolkata Knight Riders",
          "Rajasthan Royals",
          "Sunrisers Hyderabad",
          "Kolkata Knight Riders"
         ],
         "xaxis": "x",
         "y": [
          1,
          1,
          1,
          1,
          1,
          1,
          1,
          1,
          1,
          1,
          1,
          1,
          1,
          1,
          1,
          1,
          1,
          1,
          1,
          1,
          1,
          1,
          1,
          1,
          1,
          1,
          1,
          1,
          1,
          1,
          1,
          1,
          1,
          1,
          1,
          1,
          1,
          1,
          1,
          1,
          1,
          1,
          1,
          1,
          1,
          1,
          1,
          1,
          1,
          1,
          1,
          1,
          1,
          1,
          1,
          1,
          1,
          1,
          1,
          1,
          1,
          1,
          1,
          1,
          1,
          1,
          1,
          1,
          1,
          1,
          1,
          1,
          1,
          1,
          1,
          1,
          1,
          1,
          1,
          1,
          1,
          1,
          1,
          1,
          1,
          1,
          1,
          1,
          1,
          1,
          1,
          1,
          1,
          1,
          1,
          1,
          1,
          1,
          1,
          1,
          1,
          1,
          1,
          1,
          1,
          1,
          1,
          1,
          1,
          1,
          1,
          1,
          1,
          1,
          1,
          1,
          1,
          1,
          1,
          1,
          1,
          1,
          1,
          1,
          1,
          1,
          1,
          1,
          1,
          1,
          1,
          1,
          1,
          1,
          1,
          1,
          1,
          1,
          1,
          1,
          1,
          1,
          1,
          1,
          1,
          1,
          1,
          1,
          1,
          1,
          1,
          1,
          1,
          1,
          1,
          1,
          1,
          1,
          1,
          1,
          1,
          1,
          1,
          1,
          1,
          1,
          1,
          1,
          1,
          1,
          1,
          1,
          1,
          1,
          1,
          1,
          1,
          1,
          1,
          1,
          1,
          1,
          1,
          1,
          1,
          1,
          1,
          1,
          1,
          1,
          1,
          1,
          1,
          1,
          1,
          1,
          1,
          1,
          1,
          1,
          1,
          1,
          1,
          1,
          1,
          1,
          1,
          1,
          1,
          1,
          1,
          1,
          1,
          1,
          1,
          1,
          1,
          1,
          1,
          1,
          1,
          1,
          1,
          1,
          1,
          1,
          1,
          1,
          1,
          1,
          1,
          1,
          1,
          1,
          1,
          1,
          1,
          1,
          1,
          1,
          1,
          1,
          1,
          1,
          1,
          1,
          1,
          1,
          1,
          1,
          1,
          1,
          1,
          1,
          1,
          1,
          1,
          1,
          1,
          1,
          1,
          1,
          1,
          1,
          1,
          1,
          1,
          1,
          1,
          1,
          1,
          1,
          1,
          1,
          1,
          1,
          1,
          1,
          1,
          1,
          1,
          1,
          1,
          1,
          1,
          1,
          1,
          1,
          1,
          1,
          1,
          1,
          1,
          1,
          1,
          1,
          1,
          1,
          1,
          1,
          1,
          1,
          1,
          1,
          1,
          1,
          1,
          1,
          1,
          1,
          1,
          1,
          1,
          1,
          1,
          1,
          1,
          1,
          1,
          1,
          1,
          1,
          1,
          1,
          1,
          1,
          1,
          1,
          1,
          1,
          1,
          1,
          1,
          1,
          1,
          1,
          1,
          1,
          1,
          1,
          1,
          1,
          1,
          1,
          1,
          1,
          1,
          1,
          1,
          1,
          1,
          1,
          1,
          1,
          1,
          1,
          1,
          1,
          1,
          1,
          1,
          1,
          1,
          1,
          1,
          1,
          1,
          1,
          1,
          1,
          1,
          1,
          1,
          1,
          1,
          1,
          1,
          1,
          1,
          1,
          1,
          1,
          1,
          1,
          1,
          1,
          1,
          1,
          1,
          1,
          1,
          1,
          1,
          1,
          1,
          1,
          1,
          1,
          1,
          1,
          1,
          1,
          1,
          1,
          1,
          1,
          1,
          1,
          1,
          1,
          1,
          1,
          1,
          1,
          1,
          1,
          1,
          1,
          1,
          1,
          1,
          1,
          1,
          1,
          1,
          1,
          1,
          1,
          1,
          1,
          1,
          1,
          1,
          1,
          1,
          1,
          1,
          1,
          1,
          1,
          1,
          1,
          1,
          1,
          1,
          1,
          1,
          1,
          1,
          1,
          1,
          1,
          1,
          1,
          1,
          1,
          1,
          1,
          1,
          1,
          1,
          1,
          1,
          1,
          1,
          1,
          1,
          1,
          1,
          1,
          1,
          1,
          1,
          1,
          1,
          1,
          1,
          1,
          1,
          1,
          1,
          1,
          1,
          1,
          1,
          1,
          1,
          1,
          1,
          1,
          1,
          1,
          1,
          1,
          1,
          1,
          1,
          1,
          1,
          1,
          1,
          1,
          1,
          1,
          1,
          1,
          1,
          1,
          1,
          1,
          1,
          1,
          1,
          1,
          1,
          1,
          1,
          1,
          1,
          1,
          1,
          1,
          1,
          1,
          1,
          1,
          1,
          1,
          1,
          1,
          1,
          1,
          1,
          1,
          1,
          1,
          1,
          1,
          1,
          1,
          1,
          1,
          1,
          1,
          1,
          1,
          1,
          1,
          1,
          1,
          1,
          1,
          1,
          1,
          1,
          1,
          1,
          1,
          1,
          1,
          1,
          1,
          1,
          1,
          1,
          1,
          1,
          1,
          1,
          1,
          1,
          1,
          1,
          1,
          1,
          1,
          1,
          1,
          1,
          1,
          1,
          1,
          1,
          1,
          1,
          1,
          1,
          1,
          1,
          1,
          1,
          1,
          1,
          1,
          1,
          1,
          1,
          1,
          1,
          1,
          1,
          1,
          1,
          1,
          1,
          1,
          1,
          1,
          1,
          1,
          1,
          1,
          1,
          1,
          1,
          1,
          1,
          1,
          1,
          1,
          1,
          1,
          1,
          1,
          1,
          1,
          1,
          1,
          1,
          1,
          1,
          1,
          1,
          1,
          1,
          1,
          1,
          1,
          1,
          1,
          1,
          1,
          1,
          1,
          1,
          1,
          1,
          1,
          1,
          1,
          1,
          1,
          1,
          1,
          1,
          1,
          1,
          1,
          1,
          1,
          1,
          1,
          1,
          1,
          1,
          1,
          1,
          1,
          1,
          1,
          1,
          1,
          1,
          1,
          1,
          1,
          1,
          1,
          1,
          1,
          1,
          1,
          1,
          1,
          1,
          1,
          1,
          1,
          1,
          1,
          1,
          1,
          1,
          1,
          1,
          1,
          1,
          1,
          1,
          1,
          1,
          1,
          1,
          1,
          1,
          1,
          1,
          1,
          1,
          1,
          1,
          1,
          1,
          1,
          1,
          1,
          1,
          1,
          1,
          1,
          1,
          1,
          1,
          1,
          1,
          1,
          1,
          1,
          1,
          1,
          1,
          1,
          1,
          1,
          1,
          1,
          1,
          1,
          1,
          1,
          1,
          1,
          1,
          1,
          1,
          1,
          1,
          1,
          1,
          1,
          1,
          1,
          1,
          1,
          1,
          1,
          1,
          1,
          1,
          1,
          1,
          1,
          1,
          1,
          1,
          1,
          1,
          1,
          1,
          1,
          1,
          1,
          1,
          1,
          1,
          1,
          1,
          1,
          1,
          1,
          1,
          1,
          1,
          1,
          1,
          1,
          1,
          1,
          1,
          1,
          1,
          1,
          1,
          1,
          1,
          1,
          1,
          1,
          1,
          1,
          1,
          1,
          1,
          1,
          1,
          1,
          1,
          1,
          1,
          1,
          1,
          1,
          1,
          1,
          1,
          1,
          1,
          1,
          1,
          1,
          1,
          1,
          1,
          1,
          1,
          1,
          1,
          1,
          1,
          1,
          1,
          1,
          1,
          1,
          1,
          1,
          1,
          1,
          1,
          1,
          1,
          1,
          1,
          1,
          1,
          1,
          1,
          1,
          1,
          1,
          1,
          1,
          1,
          1,
          1,
          1,
          1,
          1,
          1,
          1,
          1,
          1,
          1,
          1,
          1,
          1,
          1,
          1,
          1,
          1,
          1,
          1,
          1,
          1,
          1,
          1,
          1,
          1,
          1,
          1,
          1,
          1,
          1,
          1,
          1,
          1,
          1,
          1,
          1,
          1,
          1,
          1,
          1,
          1,
          1,
          1,
          1,
          1,
          1,
          1,
          1,
          1,
          1,
          1,
          1,
          1,
          1,
          1,
          1,
          1,
          1,
          1,
          1,
          1,
          1,
          1,
          1,
          1,
          1,
          1,
          1,
          1,
          1,
          1,
          1,
          1,
          1,
          1,
          1,
          1,
          1,
          1,
          1,
          1,
          1,
          1,
          1,
          1,
          1,
          1,
          1,
          1,
          1,
          1,
          1,
          1,
          1,
          1,
          1,
          1,
          1,
          1,
          1,
          1,
          1,
          1,
          1,
          1,
          1,
          1,
          1,
          1,
          1,
          1,
          1,
          1,
          1,
          1,
          1,
          1,
          1,
          1,
          1,
          1,
          1,
          1,
          1,
          1,
          1,
          1,
          1,
          1,
          1,
          1,
          1,
          1,
          1,
          1,
          1,
          1,
          1,
          1,
          1,
          1,
          1,
          1,
          1,
          1,
          1,
          1,
          1,
          1,
          1,
          1,
          1,
          1,
          1,
          1,
          1,
          1,
          1,
          1,
          1,
          1,
          1,
          1,
          1,
          1,
          1,
          1,
          1,
          1,
          1,
          1,
          1,
          1,
          1,
          1,
          1,
          1,
          1,
          1,
          1,
          1,
          1,
          1,
          1,
          1,
          1,
          1,
          1,
          1,
          1,
          1,
          1,
          1,
          1,
          1,
          1,
          1,
          1,
          1,
          1,
          1,
          1,
          1,
          1,
          1,
          1,
          1,
          1,
          1,
          1,
          1,
          1,
          1,
          1,
          1,
          1,
          1,
          1,
          1,
          1,
          1,
          1,
          1,
          1,
          1,
          1,
          1,
          1,
          1,
          1,
          1,
          1,
          1,
          1,
          1,
          1,
          1,
          1,
          1,
          1,
          1,
          1
         ],
         "yaxis": "y"
        }
       ],
       "layout": {
        "autosize": true,
        "barmode": "relative",
        "legend": {
         "tracegroupgap": 0
        },
        "template": {
         "data": {
          "bar": [
           {
            "error_x": {
             "color": "#2a3f5f"
            },
            "error_y": {
             "color": "#2a3f5f"
            },
            "marker": {
             "line": {
              "color": "white",
              "width": 0.5
             },
             "pattern": {
              "fillmode": "overlay",
              "size": 10,
              "solidity": 0.2
             }
            },
            "type": "bar"
           }
          ],
          "barpolar": [
           {
            "marker": {
             "line": {
              "color": "white",
              "width": 0.5
             },
             "pattern": {
              "fillmode": "overlay",
              "size": 10,
              "solidity": 0.2
             }
            },
            "type": "barpolar"
           }
          ],
          "carpet": [
           {
            "aaxis": {
             "endlinecolor": "#2a3f5f",
             "gridcolor": "#C8D4E3",
             "linecolor": "#C8D4E3",
             "minorgridcolor": "#C8D4E3",
             "startlinecolor": "#2a3f5f"
            },
            "baxis": {
             "endlinecolor": "#2a3f5f",
             "gridcolor": "#C8D4E3",
             "linecolor": "#C8D4E3",
             "minorgridcolor": "#C8D4E3",
             "startlinecolor": "#2a3f5f"
            },
            "type": "carpet"
           }
          ],
          "choropleth": [
           {
            "colorbar": {
             "outlinewidth": 0,
             "ticks": ""
            },
            "type": "choropleth"
           }
          ],
          "contour": [
           {
            "colorbar": {
             "outlinewidth": 0,
             "ticks": ""
            },
            "colorscale": [
             [
              0,
              "#0d0887"
             ],
             [
              0.1111111111111111,
              "#46039f"
             ],
             [
              0.2222222222222222,
              "#7201a8"
             ],
             [
              0.3333333333333333,
              "#9c179e"
             ],
             [
              0.4444444444444444,
              "#bd3786"
             ],
             [
              0.5555555555555556,
              "#d8576b"
             ],
             [
              0.6666666666666666,
              "#ed7953"
             ],
             [
              0.7777777777777778,
              "#fb9f3a"
             ],
             [
              0.8888888888888888,
              "#fdca26"
             ],
             [
              1,
              "#f0f921"
             ]
            ],
            "type": "contour"
           }
          ],
          "contourcarpet": [
           {
            "colorbar": {
             "outlinewidth": 0,
             "ticks": ""
            },
            "type": "contourcarpet"
           }
          ],
          "heatmap": [
           {
            "colorbar": {
             "outlinewidth": 0,
             "ticks": ""
            },
            "colorscale": [
             [
              0,
              "#0d0887"
             ],
             [
              0.1111111111111111,
              "#46039f"
             ],
             [
              0.2222222222222222,
              "#7201a8"
             ],
             [
              0.3333333333333333,
              "#9c179e"
             ],
             [
              0.4444444444444444,
              "#bd3786"
             ],
             [
              0.5555555555555556,
              "#d8576b"
             ],
             [
              0.6666666666666666,
              "#ed7953"
             ],
             [
              0.7777777777777778,
              "#fb9f3a"
             ],
             [
              0.8888888888888888,
              "#fdca26"
             ],
             [
              1,
              "#f0f921"
             ]
            ],
            "type": "heatmap"
           }
          ],
          "heatmapgl": [
           {
            "colorbar": {
             "outlinewidth": 0,
             "ticks": ""
            },
            "colorscale": [
             [
              0,
              "#0d0887"
             ],
             [
              0.1111111111111111,
              "#46039f"
             ],
             [
              0.2222222222222222,
              "#7201a8"
             ],
             [
              0.3333333333333333,
              "#9c179e"
             ],
             [
              0.4444444444444444,
              "#bd3786"
             ],
             [
              0.5555555555555556,
              "#d8576b"
             ],
             [
              0.6666666666666666,
              "#ed7953"
             ],
             [
              0.7777777777777778,
              "#fb9f3a"
             ],
             [
              0.8888888888888888,
              "#fdca26"
             ],
             [
              1,
              "#f0f921"
             ]
            ],
            "type": "heatmapgl"
           }
          ],
          "histogram": [
           {
            "marker": {
             "pattern": {
              "fillmode": "overlay",
              "size": 10,
              "solidity": 0.2
             }
            },
            "type": "histogram"
           }
          ],
          "histogram2d": [
           {
            "colorbar": {
             "outlinewidth": 0,
             "ticks": ""
            },
            "colorscale": [
             [
              0,
              "#0d0887"
             ],
             [
              0.1111111111111111,
              "#46039f"
             ],
             [
              0.2222222222222222,
              "#7201a8"
             ],
             [
              0.3333333333333333,
              "#9c179e"
             ],
             [
              0.4444444444444444,
              "#bd3786"
             ],
             [
              0.5555555555555556,
              "#d8576b"
             ],
             [
              0.6666666666666666,
              "#ed7953"
             ],
             [
              0.7777777777777778,
              "#fb9f3a"
             ],
             [
              0.8888888888888888,
              "#fdca26"
             ],
             [
              1,
              "#f0f921"
             ]
            ],
            "type": "histogram2d"
           }
          ],
          "histogram2dcontour": [
           {
            "colorbar": {
             "outlinewidth": 0,
             "ticks": ""
            },
            "colorscale": [
             [
              0,
              "#0d0887"
             ],
             [
              0.1111111111111111,
              "#46039f"
             ],
             [
              0.2222222222222222,
              "#7201a8"
             ],
             [
              0.3333333333333333,
              "#9c179e"
             ],
             [
              0.4444444444444444,
              "#bd3786"
             ],
             [
              0.5555555555555556,
              "#d8576b"
             ],
             [
              0.6666666666666666,
              "#ed7953"
             ],
             [
              0.7777777777777778,
              "#fb9f3a"
             ],
             [
              0.8888888888888888,
              "#fdca26"
             ],
             [
              1,
              "#f0f921"
             ]
            ],
            "type": "histogram2dcontour"
           }
          ],
          "mesh3d": [
           {
            "colorbar": {
             "outlinewidth": 0,
             "ticks": ""
            },
            "type": "mesh3d"
           }
          ],
          "parcoords": [
           {
            "line": {
             "colorbar": {
              "outlinewidth": 0,
              "ticks": ""
             }
            },
            "type": "parcoords"
           }
          ],
          "pie": [
           {
            "automargin": true,
            "type": "pie"
           }
          ],
          "scatter": [
           {
            "fillpattern": {
             "fillmode": "overlay",
             "size": 10,
             "solidity": 0.2
            },
            "type": "scatter"
           }
          ],
          "scatter3d": [
           {
            "line": {
             "colorbar": {
              "outlinewidth": 0,
              "ticks": ""
             }
            },
            "marker": {
             "colorbar": {
              "outlinewidth": 0,
              "ticks": ""
             }
            },
            "type": "scatter3d"
           }
          ],
          "scattercarpet": [
           {
            "marker": {
             "colorbar": {
              "outlinewidth": 0,
              "ticks": ""
             }
            },
            "type": "scattercarpet"
           }
          ],
          "scattergeo": [
           {
            "marker": {
             "colorbar": {
              "outlinewidth": 0,
              "ticks": ""
             }
            },
            "type": "scattergeo"
           }
          ],
          "scattergl": [
           {
            "marker": {
             "colorbar": {
              "outlinewidth": 0,
              "ticks": ""
             }
            },
            "type": "scattergl"
           }
          ],
          "scattermapbox": [
           {
            "marker": {
             "colorbar": {
              "outlinewidth": 0,
              "ticks": ""
             }
            },
            "type": "scattermapbox"
           }
          ],
          "scatterpolar": [
           {
            "marker": {
             "colorbar": {
              "outlinewidth": 0,
              "ticks": ""
             }
            },
            "type": "scatterpolar"
           }
          ],
          "scatterpolargl": [
           {
            "marker": {
             "colorbar": {
              "outlinewidth": 0,
              "ticks": ""
             }
            },
            "type": "scatterpolargl"
           }
          ],
          "scatterternary": [
           {
            "marker": {
             "colorbar": {
              "outlinewidth": 0,
              "ticks": ""
             }
            },
            "type": "scatterternary"
           }
          ],
          "surface": [
           {
            "colorbar": {
             "outlinewidth": 0,
             "ticks": ""
            },
            "colorscale": [
             [
              0,
              "#0d0887"
             ],
             [
              0.1111111111111111,
              "#46039f"
             ],
             [
              0.2222222222222222,
              "#7201a8"
             ],
             [
              0.3333333333333333,
              "#9c179e"
             ],
             [
              0.4444444444444444,
              "#bd3786"
             ],
             [
              0.5555555555555556,
              "#d8576b"
             ],
             [
              0.6666666666666666,
              "#ed7953"
             ],
             [
              0.7777777777777778,
              "#fb9f3a"
             ],
             [
              0.8888888888888888,
              "#fdca26"
             ],
             [
              1,
              "#f0f921"
             ]
            ],
            "type": "surface"
           }
          ],
          "table": [
           {
            "cells": {
             "fill": {
              "color": "#EBF0F8"
             },
             "line": {
              "color": "white"
             }
            },
            "header": {
             "fill": {
              "color": "#C8D4E3"
             },
             "line": {
              "color": "white"
             }
            },
            "type": "table"
           }
          ]
         },
         "layout": {
          "annotationdefaults": {
           "arrowcolor": "#2a3f5f",
           "arrowhead": 0,
           "arrowwidth": 1
          },
          "autotypenumbers": "strict",
          "coloraxis": {
           "colorbar": {
            "outlinewidth": 0,
            "ticks": ""
           }
          },
          "colorscale": {
           "diverging": [
            [
             0,
             "#8e0152"
            ],
            [
             0.1,
             "#c51b7d"
            ],
            [
             0.2,
             "#de77ae"
            ],
            [
             0.3,
             "#f1b6da"
            ],
            [
             0.4,
             "#fde0ef"
            ],
            [
             0.5,
             "#f7f7f7"
            ],
            [
             0.6,
             "#e6f5d0"
            ],
            [
             0.7,
             "#b8e186"
            ],
            [
             0.8,
             "#7fbc41"
            ],
            [
             0.9,
             "#4d9221"
            ],
            [
             1,
             "#276419"
            ]
           ],
           "sequential": [
            [
             0,
             "#0d0887"
            ],
            [
             0.1111111111111111,
             "#46039f"
            ],
            [
             0.2222222222222222,
             "#7201a8"
            ],
            [
             0.3333333333333333,
             "#9c179e"
            ],
            [
             0.4444444444444444,
             "#bd3786"
            ],
            [
             0.5555555555555556,
             "#d8576b"
            ],
            [
             0.6666666666666666,
             "#ed7953"
            ],
            [
             0.7777777777777778,
             "#fb9f3a"
            ],
            [
             0.8888888888888888,
             "#fdca26"
            ],
            [
             1,
             "#f0f921"
            ]
           ],
           "sequentialminus": [
            [
             0,
             "#0d0887"
            ],
            [
             0.1111111111111111,
             "#46039f"
            ],
            [
             0.2222222222222222,
             "#7201a8"
            ],
            [
             0.3333333333333333,
             "#9c179e"
            ],
            [
             0.4444444444444444,
             "#bd3786"
            ],
            [
             0.5555555555555556,
             "#d8576b"
            ],
            [
             0.6666666666666666,
             "#ed7953"
            ],
            [
             0.7777777777777778,
             "#fb9f3a"
            ],
            [
             0.8888888888888888,
             "#fdca26"
            ],
            [
             1,
             "#f0f921"
            ]
           ]
          },
          "colorway": [
           "#636efa",
           "#EF553B",
           "#00cc96",
           "#ab63fa",
           "#FFA15A",
           "#19d3f3",
           "#FF6692",
           "#B6E880",
           "#FF97FF",
           "#FECB52"
          ],
          "font": {
           "color": "#2a3f5f"
          },
          "geo": {
           "bgcolor": "white",
           "lakecolor": "white",
           "landcolor": "white",
           "showlakes": true,
           "showland": true,
           "subunitcolor": "#C8D4E3"
          },
          "hoverlabel": {
           "align": "left"
          },
          "hovermode": "closest",
          "mapbox": {
           "style": "light"
          },
          "paper_bgcolor": "white",
          "plot_bgcolor": "white",
          "polar": {
           "angularaxis": {
            "gridcolor": "#EBF0F8",
            "linecolor": "#EBF0F8",
            "ticks": ""
           },
           "bgcolor": "white",
           "radialaxis": {
            "gridcolor": "#EBF0F8",
            "linecolor": "#EBF0F8",
            "ticks": ""
           }
          },
          "scene": {
           "xaxis": {
            "backgroundcolor": "white",
            "gridcolor": "#DFE8F3",
            "gridwidth": 2,
            "linecolor": "#EBF0F8",
            "showbackground": true,
            "ticks": "",
            "zerolinecolor": "#EBF0F8"
           },
           "yaxis": {
            "backgroundcolor": "white",
            "gridcolor": "#DFE8F3",
            "gridwidth": 2,
            "linecolor": "#EBF0F8",
            "showbackground": true,
            "ticks": "",
            "zerolinecolor": "#EBF0F8"
           },
           "zaxis": {
            "backgroundcolor": "white",
            "gridcolor": "#DFE8F3",
            "gridwidth": 2,
            "linecolor": "#EBF0F8",
            "showbackground": true,
            "ticks": "",
            "zerolinecolor": "#EBF0F8"
           }
          },
          "shapedefaults": {
           "line": {
            "color": "#2a3f5f"
           }
          },
          "ternary": {
           "aaxis": {
            "gridcolor": "#DFE8F3",
            "linecolor": "#A2B1C6",
            "ticks": ""
           },
           "baxis": {
            "gridcolor": "#DFE8F3",
            "linecolor": "#A2B1C6",
            "ticks": ""
           },
           "bgcolor": "white",
           "caxis": {
            "gridcolor": "#DFE8F3",
            "linecolor": "#A2B1C6",
            "ticks": ""
           }
          },
          "title": {
           "x": 0.05
          },
          "xaxis": {
           "automargin": true,
           "gridcolor": "#EBF0F8",
           "linecolor": "#EBF0F8",
           "ticks": "",
           "title": {
            "standoff": 15
           },
           "zerolinecolor": "#EBF0F8",
           "zerolinewidth": 2
          },
          "yaxis": {
           "automargin": true,
           "gridcolor": "#EBF0F8",
           "linecolor": "#EBF0F8",
           "ticks": "",
           "title": {
            "standoff": 15
           },
           "zerolinecolor": "#EBF0F8",
           "zerolinewidth": 2
          }
         }
        },
        "title": {
         "text": "Number of matches Won by teams in IPL"
        },
        "xaxis": {
         "anchor": "y",
         "autorange": true,
         "domain": [
          0,
          1
         ],
         "range": [
          -0.5,
          18.5
         ],
         "title": {
          "text": "winner"
         },
         "type": "category"
        },
        "yaxis": {
         "anchor": "x",
         "autorange": true,
         "domain": [
          0,
          1
         ],
         "range": [
          0,
          151.57894736842104
         ],
         "title": {
          "text": "count"
         },
         "type": "linear"
        }
       }
      },
      "image/png": "[encoded data removed]",
      "text/html": [
       "<div>                            <div id=\"160322be-eb45-4e97-9123-8844b0b4c688\" class=\"plotly-graph-div\" style=\"height:525px; width:100%;\"></div>            <script type=\"text/javascript\">                require([\"plotly\"], function(Plotly) {                    window.PLOTLYENV=window.PLOTLYENV || {};                                    if (document.getElementById(\"160322be-eb45-4e97-9123-8844b0b4c688\")) {                    Plotly.newPlot(                        \"160322be-eb45-4e97-9123-8844b0b4c688\",                        [{\"alignmentgroup\":\"True\",\"hovertemplate\":\"winner=%{x}<br>count=%{y}<extra></extra>\",\"legendgroup\":\"\",\"marker\":{\"color\":\"#636efa\",\"pattern\":{\"shape\":\"\"}},\"name\":\"\",\"offsetgroup\":\"\",\"orientation\":\"v\",\"showlegend\":false,\"textposition\":\"auto\",\"x\":[\"Kolkata Knight Riders\",\"Chennai Super Kings\",\"Delhi Daredevils\",\"Royal Challengers Bangalore\",\"Kolkata Knight Riders\",\"Rajasthan Royals\",\"Delhi Daredevils\",\"Chennai Super Kings\",\"Rajasthan Royals\",\"Kings XI Punjab\",\"Rajasthan Royals\",\"Chennai Super Kings\",\"Deccan Chargers\",\"Kings XI Punjab\",\"Chennai Super Kings\",\"Mumbai Indians\",\"Delhi Daredevils\",\"Kings XI Punjab\",\"Rajasthan Royals\",\"Delhi Daredevils\",\"Kings XI Punjab\",\"Royal Challengers Bangalore\",\"Mumbai Indians\",\"Rajasthan Royals\",\"Kings XI Punjab\",\"Deccan Chargers\",\"Mumbai Indians\",\"Chennai Super Kings\",\"Kolkata Knight Riders\",\"Rajasthan Royals\",\"Chennai Super Kings\",\"Kolkata Knight Riders\",\"Rajasthan Royals\",\"Kings XI Punjab\",\"Kolkata Knight Riders\",\"Mumbai Indians\",\"Delhi Daredevils\",\"Mumbai Indians\",\"Kings XI Punjab\",\"Rajasthan Royals\",\"Mumbai Indians\",\"Chennai Super Kings\",\"Delhi Daredevils\",\"Rajasthan Royals\",\"Kings XI Punjab\",\"Royal Challengers Bangalore\",\"Kings XI Punjab\",\"Delhi Daredevils\",\"Rajasthan Royals\",\"Royal Challengers Bangalore\",\"Kolkata Knight Riders\",\"Rajasthan Royals\",\"Chennai Super Kings\",\"Mumbai Indians\",\"Kings XI Punjab\",\"Rajasthan Royals\",\"Chennai Super Kings\",\"Rajasthan Royals\",\"Mumbai Indians\",\"Royal Challengers Bangalore\",\"Delhi Daredevils\",\"Deccan Chargers\",\"Chennai Super Kings\",\"Kolkata Knight Riders\",\"Deccan Chargers\",\"Delhi Daredevils\",\"Rajasthan Royals\",\"Kings XI Punjab\",\"Deccan Chargers\",\"Delhi Daredevils\",\"Kings XI Punjab\",\"Deccan Chargers\",\"Mumbai Indians\",\"Rajasthan Royals\",\"Royal Challengers Bangalore\",\"Kings XI Punjab\",\"Delhi Daredevils\",\"Chennai Super Kings\",\"Mumbai Indians\",\"Royal Challengers Bangalore\",\"Rajasthan Royals\",\"Chennai Super Kings\",\"Kings XI Punjab\",\"Royal Challengers Bangalore\",\"Chennai Super Kings\",\"Rajasthan Royals\",\"Delhi Daredevils\",\"Deccan Chargers\",\"Rajasthan Royals\",\"Chennai Super Kings\",\"Delhi Daredevils\",\"Kings XI Punjab\",\"Chennai Super Kings\",\"Mumbai Indians\",\"Delhi Daredevils\",\"Deccan Chargers\",\"Royal Challengers Bangalore\",\"Mumbai Indians\",\"Delhi Daredevils\",\"Royal Challengers Bangalore\",\"Rajasthan Royals\",\"Kings XI Punjab\",\"Chennai Super Kings\",\"Deccan Chargers\",\"Kings XI Punjab\",\"Delhi Daredevils\",\"Kolkata Knight Riders\",\"Royal Challengers Bangalore\",\"Kolkata Knight Riders\",\"Chennai Super Kings\",\"Delhi Daredevils\",\"Royal Challengers Bangalore\",\"Deccan Chargers\",\"Royal Challengers Bangalore\",\"Deccan Chargers\",\"Kolkata Knight Riders\",\"Mumbai Indians\",\"Delhi Daredevils\",\"Kolkata Knight Riders\",\"Deccan Chargers\",\"Delhi Daredevils\",\"Royal Challengers Bangalore\",\"Chennai Super Kings\",\"Mumbai Indians\",\"Royal Challengers Bangalore\",\"Chennai Super Kings\",\"Deccan Chargers\",\"Rajasthan Royals\",\"Royal Challengers Bangalore\",\"Deccan Chargers\",\"Kings XI Punjab\",\"Mumbai Indians\",\"Royal Challengers Bangalore\",\"Rajasthan Royals\",\"Mumbai Indians\",\"Delhi Daredevils\",\"Rajasthan Royals\",\"Kolkata Knight Riders\",\"Rajasthan Royals\",\"Mumbai Indians\",\"Delhi Daredevils\",\"Mumbai Indians\",\"Chennai Super Kings\",\"Delhi Daredevils\",\"Kolkata Knight Riders\",\"Royal Challengers Bangalore\",\"Chennai Super Kings\",\"Mumbai Indians\",\"Kings XI Punjab\",\"Delhi Daredevils\",\"Rajasthan Royals\",\"Chennai Super Kings\",\"Rajasthan Royals\",\"Kolkata Knight Riders\",\"Deccan Chargers\",\"Kings XI Punjab\",\"Deccan Chargers\",\"Royal Challengers Bangalore\",\"Kings XI Punjab\",\"Mumbai Indians\",\"Deccan Chargers\",\"Mumbai Indians\",\"Chennai Super Kings\",\"Royal Challengers Bangalore\",\"Delhi Daredevils\",\"Deccan Chargers\",\"Mumbai Indians\",\"Kolkata Knight Riders\",\"Chennai Super Kings\",\"Deccan Chargers\",\"Kolkata Knight Riders\",\"Mumbai Indians\",\"Chennai Super Kings\",\"Royal Challengers Bangalore\",\"Chennai Super Kings\",\"Chennai Super Kings\",\"Rajasthan Royals\",\"Royal Challengers Bangalore\",\"Mumbai Indians\",\"Pune Warriors\",\"Kolkata Knight Riders\",\"Rajasthan Royals\",\"Mumbai Indians\",\"Kings XI Punjab\",\"Pune Warriors\",\"Deccan Chargers\",\"Kolkata Knight Riders\",\"Kochi Tuskers Kerala\",\"Chennai Super Kings\",\"Kings XI Punjab\",\"Delhi Daredevils\",\"Kolkata Knight Riders\",\"Kochi Tuskers Kerala\",\"Deccan Chargers\",\"Mumbai Indians\",\"Kochi Tuskers Kerala\",\"Kings XI Punjab\",\"Mumbai Indians\",\"Royal Challengers Bangalore\",\"Delhi Daredevils\",\"Mumbai Indians\",\"Rajasthan Royals\",\"Chennai Super Kings\",\"Royal Challengers Bangalore\",\"Chennai Super Kings\",\"Deccan Chargers\",\"Kolkata Knight Riders\",\"Rajasthan Royals\",\"Royal Challengers Bangalore\",\"Delhi Daredevils\",\"Kolkata Knight Riders\",\"Rajasthan Royals\",\"Chennai Super Kings\",\"Mumbai Indians\",\"Kochi Tuskers Kerala\",\"Kolkata Knight Riders\",\"Chennai Super Kings\",\"Mumbai Indians\",\"Kochi Tuskers Kerala\",\"Delhi Daredevils\",\"Royal Challengers Bangalore\",\"Kolkata Knight Riders\",\"Mumbai Indians\",\"Royal Challengers Bangalore\",\"Pune Warriors\",\"Chennai Super Kings\",\"Pune Warriors\",\"Kings XI Punjab\",\"Royal Challengers Bangalore\",\"Chennai Super Kings\",\"Kings XI Punjab\",\"Royal Challengers Bangalore\",\"Deccan Chargers\",\"Kings XI Punjab\",\"Kochi Tuskers Kerala\",\"Deccan Chargers\",\"Kings XI Punjab\",\"Chennai Super Kings\",\"Kolkata Knight Riders\",\"Rajasthan Royals\",\"Deccan Chargers\",null,\"Royal Challengers Bangalore\",\"Mumbai Indians\",\"Chennai Super Kings\",\"Mumbai Indians\",\"Royal Challengers Bangalore\",\"Chennai Super Kings\",\"Mumbai Indians\",\"Delhi Daredevils\",\"Pune Warriors\",\"Rajasthan Royals\",\"Royal Challengers Bangalore\",\"Chennai Super Kings\",\"Rajasthan Royals\",\"Pune Warriors\",\"Mumbai Indians\",\"Kolkata Knight Riders\",\"Delhi Daredevils\",\"Mumbai Indians\",\"Chennai Super Kings\",\"Kings XI Punjab\",\"Kolkata Knight Riders\",\"Pune Warriors\",\"Kings XI Punjab\",\"Rajasthan Royals\",\"Delhi Daredevils\",\"Rajasthan Royals\",\"Royal Challengers Bangalore\",\"Kolkata Knight Riders\",\"Delhi Daredevils\",\"Chennai Super Kings\",\"Royal Challengers Bangalore\",\"Chennai Super Kings\",\"Pune Warriors\",\"Kings XI Punjab\",\"Kolkata Knight Riders\",\"Royal Challengers Bangalore\",\"Delhi Daredevils\",\"Mumbai Indians\",\"Deccan Chargers\",\"Delhi Daredevils\",\"Kings XI Punjab\",\"Kolkata Knight Riders\",\"Delhi Daredevils\",\"Mumbai Indians\",\"Kolkata Knight Riders\",\"Deccan Chargers\",\"Delhi Daredevils\",\"Kings XI Punjab\",\"Mumbai Indians\",\"Chennai Super Kings\",\"Kolkata Knight Riders\",\"Rajasthan Royals\",\"Mumbai Indians\",\"Royal Challengers Bangalore\",\"Kolkata Knight Riders\",\"Rajasthan Royals\",\"Kings XI Punjab\",\"Royal Challengers Bangalore\",\"Delhi Daredevils\",\"Chennai Super Kings\",\"Royal Challengers Bangalore\",\"Mumbai Indians\",\"Chennai Super Kings\",\"Rajasthan Royals\",\"Kings XI Punjab\",\"Mumbai Indians\",\"Chennai Super Kings\",\"Delhi Daredevils\",\"Kolkata Knight Riders\",\"Kings XI Punjab\",\"Royal Challengers Bangalore\",\"Deccan Chargers\",\"Delhi Daredevils\",\"Kolkata Knight Riders\",\"Deccan Chargers\",\"Mumbai Indians\",\"Kolkata Knight Riders\",\"Chennai Super Kings\",\"Chennai Super Kings\",\"Kolkata Knight Riders\",\"Kolkata Knight Riders\",\"Royal Challengers Bangalore\",\"Sunrisers Hyderabad\",\"Rajasthan Royals\",\"Mumbai Indians\",\"Kings XI Punjab\",\"Sunrisers Hyderabad\",\"Rajasthan Royals\",\"Mumbai Indians\",\"Royal Challengers Bangalore\",\"Chennai Super Kings\",\"Royal Challengers Bangalore\",\"Pune Warriors\",\"Sunrisers Hyderabad\",\"Mumbai Indians\",\"Chennai Super Kings\",\"Kolkata Knight Riders\",\"Rajasthan Royals\",\"Pune Warriors\",\"Kings XI Punjab\",\"Royal Challengers Bangalore\",\"Sunrisers Hyderabad\",\"Rajasthan Royals\",\"Chennai Super Kings\",\"Sunrisers Hyderabad\",\"Chennai Super Kings\",\"Royal Challengers Bangalore\",\"Delhi Daredevils\",\"Kings XI Punjab\",\"Chennai Super Kings\",\"Royal Challengers Bangalore\",\"Kings XI Punjab\",\"Mumbai Indians\",\"Chennai Super Kings\",\"Kolkata Knight Riders\",\"Rajasthan Royals\",\"Mumbai Indians\",\"Chennai Super Kings\",\"Delhi Daredevils\",\"Rajasthan Royals\",\"Mumbai Indians\",\"Chennai Super Kings\",\"Sunrisers Hyderabad\",\"Delhi Daredevils\",\"Chennai Super Kings\",\"Royal Challengers Bangalore\",\"Kolkata Knight Riders\",\"Sunrisers Hyderabad\",\"Mumbai Indians\",\"Rajasthan Royals\",\"Kings XI Punjab\",\"Rajasthan Royals\",\"Mumbai Indians\",\"Chennai Super Kings\",\"Rajasthan Royals\",\"Kolkata Knight Riders\",\"Royal Challengers Bangalore\",\"Mumbai Indians\",\"Sunrisers Hyderabad\",\"Kolkata Knight Riders\",\"Rajasthan Royals\",\"Mumbai Indians\",\"Kings XI Punjab\",\"Chennai Super Kings\",\"Pune Warriors\",\"Mumbai Indians\",\"Kings XI Punjab\",\"Sunrisers Hyderabad\",\"Kings XI Punjab\",\"Royal Challengers Bangalore\",\"Pune Warriors\",\"Sunrisers Hyderabad\",\"Chennai Super Kings\",\"Rajasthan Royals\",\"Mumbai Indians\",\"Mumbai Indians\",\"Kolkata Knight Riders\",\"Royal Challengers Bangalore\",\"Kings XI Punjab\",\"Rajasthan Royals\",\"Royal Challengers Bangalore\",\"Delhi Daredevils\",\"Kings XI Punjab\",\"Chennai Super Kings\",\"Kings XI Punjab\",\"Chennai Super Kings\",\"Kolkata Knight Riders\",\"Sunrisers Hyderabad\",\"Chennai Super Kings\",\"Rajasthan Royals\",\"Kings XI Punjab\",\"Delhi Daredevils\",\"Chennai Super Kings\",\"Kings XI Punjab\",\"Rajasthan Royals\",\"Sunrisers Hyderabad\",\"Chennai Super Kings\",\"Mumbai Indians\",\"Rajasthan Royals\",\"Royal Challengers Bangalore\",\"Rajasthan Royals\",\"Chennai Super Kings\",\"Mumbai Indians\",\"Kolkata Knight Riders\",\"Kings XI Punjab\",\"Sunrisers Hyderabad\",\"Kings XI Punjab\",\"Sunrisers Hyderabad\",\"Chennai Super Kings\",\"Kolkata Knight Riders\",\"Rajasthan Royals\",\"Mumbai Indians\",\"Chennai Super Kings\",\"Royal Challengers Bangalore\",\"Kings XI Punjab\",\"Kolkata Knight Riders\",\"Rajasthan Royals\",\"Royal Challengers Bangalore\",\"Kolkata Knight Riders\",\"Mumbai Indians\",\"Kings XI Punjab\",\"Sunrisers Hyderabad\",\"Kolkata Knight Riders\",\"Mumbai Indians\",\"Kolkata Knight Riders\",\"Sunrisers Hyderabad\",\"Mumbai Indians\",\"Kings XI Punjab\",\"Chennai Super Kings\",\"Kolkata Knight Riders\",\"Kings XI Punjab\",\"Mumbai Indians\",\"Kolkata Knight Riders\",\"Chennai Super Kings\",\"Kings XI Punjab\",\"Kolkata Knight Riders\",\"Kolkata Knight Riders\",\"Chennai Super Kings\",\"Rajasthan Royals\",\"Chennai Super Kings\",\"Royal Challengers Bangalore\",\"Rajasthan Royals\",\"Kings XI Punjab\",\"Sunrisers Hyderabad\",\"Rajasthan Royals\",\"Delhi Daredevils\",\"Rajasthan Royals\",\"Chennai Super Kings\",\"Delhi Daredevils\",\"Kolkata Knight Riders\",\"Rajasthan Royals\",\"Mumbai Indians\",\"Kolkata Knight Riders\",\"Kings XI Punjab\",\"Sunrisers Hyderabad\",\"Chennai Super Kings\",\"Delhi Daredevils\",\"Royal Challengers Bangalore\",\"Mumbai Indians\",\"Chennai Super Kings\",\"Royal Challengers Bangalore\",\"Sunrisers Hyderabad\",\"Chennai Super Kings\",null,\"Kolkata Knight Riders\",\"Delhi Daredevils\",\"Mumbai Indians\",\"Royal Challengers Bangalore\",\"Sunrisers Hyderabad\",\"Mumbai Indians\",\"Rajasthan Royals\",\"Chennai Super Kings\",\"Kolkata Knight Riders\",\"Mumbai Indians\",\"Royal Challengers Bangalore\",\"Kolkata Knight Riders\",\"Sunrisers Hyderabad\",\"Mumbai Indians\",\"Kolkata Knight Riders\",\"Sunrisers Hyderabad\",\"Royal Challengers Bangalore\",\"Chennai Super Kings\",\"Sunrisers Hyderabad\",\"Delhi Daredevils\",\"Kings XI Punjab\",\"Mumbai Indians\",\"Royal Challengers Bangalore\",\"Chennai Super Kings\",\"Rajasthan Royals\",null,\"Mumbai Indians\",\"Mumbai Indians\",\"Royal Challengers Bangalore\",\"Chennai Super Kings\",\"Mumbai Indians\",\"Rising Pune Supergiants\",\"Kolkata Knight Riders\",\"Gujarat Lions\",\"Royal Challengers Bangalore\",\"Mumbai Indians\",\"Gujarat Lions\",\"Delhi Daredevils\",\"Kolkata Knight Riders\",\"Gujarat Lions\",\"Kings XI Punjab\",\"Delhi Daredevils\",\"Sunrisers Hyderabad\",\"Kolkata Knight Riders\",\"Mumbai Indians\",\"Sunrisers Hyderabad\",\"Royal Challengers Bangalore\",\"Delhi Daredevils\",\"Sunrisers Hyderabad\",\"Gujarat Lions\",\"Kolkata Knight Riders\",\"Mumbai Indians\",\"Rising Pune Supergiants\",\"Gujarat Lions\",\"Mumbai Indians\",\"Gujarat Lions\",\"Delhi Daredevils\",\"Sunrisers Hyderabad\",\"Kings XI Punjab\",\"Mumbai Indians\",\"Kolkata Knight Riders\",\"Delhi Daredevils\",\"Kolkata Knight Riders\",\"Rising Pune Supergiants\",\"Sunrisers Hyderabad\",\"Royal Challengers Bangalore\",\"Kings XI Punjab\",\"Sunrisers Hyderabad\",\"Gujarat Lions\",\"Royal Challengers Bangalore\",\"Sunrisers Hyderabad\",\"Mumbai Indians\",\"Delhi Daredevils\",\"Kings XI Punjab\",\"Royal Challengers Bangalore\",\"Kolkata Knight Riders\",\"Sunrisers Hyderabad\",\"Mumbai Indians\",\"Royal Challengers Bangalore\",\"Rising Pune Supergiants\",\"Royal Challengers Bangalore\",\"Gujarat Lions\",\"Delhi Daredevils\",\"Rising Pune Supergiants\",\"Gujarat Lions\",\"Kolkata Knight Riders\",\"Royal Challengers Bangalore\",\"Royal Challengers Bangalore\",\"Sunrisers Hyderabad\",\"Sunrisers Hyderabad\",\"Sunrisers Hyderabad\",\"Sunrisers Hyderabad\",\"Rising Pune Supergiant\",\"Kolkata Knight Riders\",\"Kings XI Punjab\",\"Royal Challengers Bangalore\",\"Sunrisers Hyderabad\",\"Mumbai Indians\",\"Kings XI Punjab\",\"Delhi Daredevils\",\"Mumbai Indians\",\"Kolkata Knight Riders\",\"Mumbai Indians\",\"Gujarat Lions\",\"Kolkata Knight Riders\",\"Delhi Daredevils\",\"Mumbai Indians\",\"Rising Pune Supergiant\",\"Kolkata Knight Riders\",\"Sunrisers Hyderabad\",\"Royal Challengers Bangalore\",\"Sunrisers Hyderabad\",\"Mumbai Indians\",\"Gujarat Lions\",\"Mumbai Indians\",\"Rising Pune Supergiant\",\"Kings XI Punjab\",\"Kolkata Knight Riders\",\"Rising Pune Supergiant\",\"Kolkata Knight Riders\",\"Gujarat Lions\",\"Kolkata Knight Riders\",\"Sunrisers Hyderabad\",\"Rising Pune Supergiant\",\"Mumbai Indians\",\"Kings XI Punjab\",\"Sunrisers Hyderabad\",\"Mumbai Indians\",\"Rising Pune Supergiant\",\"Delhi Daredevils\",\"Rising Pune Supergiant\",\"Delhi Daredevils\",\"Kings XI Punjab\",\"Rising Pune Supergiant\",\"Mumbai Indians\",\"Kolkata Knight Riders\",\"Gujarat Lions\",\"Sunrisers Hyderabad\",\"Kings XI Punjab\",\"Delhi Daredevils\",\"Kings XI Punjab\",\"Delhi Daredevils\",\"Sunrisers Hyderabad\",\"Mumbai Indians\",\"Rising Pune Supergiant\",\"Royal Challengers Bangalore\",\"Rising Pune Supergiant\",\"Kolkata Knight Riders\",\"Mumbai Indians\",\"Mumbai Indians\",\"Chennai Super Kings\",\"Kings XI Punjab\",\"Kolkata Knight Riders\",\"Sunrisers Hyderabad\",\"Chennai Super Kings\",\"Rajasthan Royals\",\"Sunrisers Hyderabad\",\"Royal Challengers Bangalore\",\"Delhi Daredevils\",\"Sunrisers Hyderabad\",\"Rajasthan Royals\",\"Kings XI Punjab\",\"Kolkata Knight Riders\",\"Mumbai Indians\",\"Kolkata Knight Riders\",\"Kings XI Punjab\",\"Chennai Super Kings\",\"Kings XI Punjab\",\"Royal Challengers Bangalore\",\"Chennai Super Kings\",\"Rajasthan Royals\",\"Kings XI Punjab\",\"Sunrisers Hyderabad\",\"Chennai Super Kings\",\"Sunrisers Hyderabad\",\"Delhi Daredevils\",\"Mumbai Indians\",\"Sunrisers Hyderabad\",\"Kolkata Knight Riders\",\"Chennai Super Kings\",\"Royal Challengers Bangalore\",\"Delhi Daredevils\",\"Kolkata Knight Riders\",\"Mumbai Indians\",\"Chennai Super Kings\",\"Sunrisers Hyderabad\",\"Mumbai Indians\",\"Kings XI Punjab\",\"Sunrisers Hyderabad\",\"Rajasthan Royals\",\"Mumbai Indians\",\"Sunrisers Hyderabad\",\"Rajasthan Royals\",\"Kolkata Knight Riders\",\"Royal Challengers Bangalore\",\"Chennai Super Kings\",\"Rajasthan Royals\",\"Royal Challengers Bangalore\",\"Kolkata Knight Riders\",\"Mumbai Indians\",\"Royal Challengers Bangalore\",\"Delhi Daredevils\",\"Rajasthan Royals\",\"Kolkata Knight Riders\",\"Delhi Daredevils\",\"Chennai Super Kings\",\"Chennai Super Kings\",\"Kolkata Knight Riders\",\"Sunrisers Hyderabad\",\"Chennai Super Kings\",\"Chennai Super Kings\",\"Kolkata Knight Riders\",\"Delhi Capitals\",\"Kings XI Punjab\",\"Chennai Super Kings\",\"Kolkata Knight Riders\",\"Mumbai Indians\",\"Sunrisers Hyderabad\",\"Kings XI Punjab\",\"Delhi Capitals\",\"Sunrisers Hyderabad\",\"Chennai Super Kings\",\"Kings XI Punjab\",\"Rajasthan Royals\",\"Mumbai Indians\",\"Sunrisers Hyderabad\",\"Kolkata Knight Riders\",\"Chennai Super Kings\",\"Mumbai Indians\",\"Delhi Capitals\",\"Kolkata Knight Riders\",\"Kings XI Punjab\",\"Chennai Super Kings\",\"Mumbai Indians\",\"Chennai Super Kings\",\"Delhi Capitals\",\"Rajasthan Royals\",\"Royal Challengers Bangalore\",\"Chennai Super Kings\",\"Delhi Capitals\",\"Mumbai Indians\",\"Kings XI Punjab\",\"Sunrisers Hyderabad\",\"Mumbai Indians\",\"Royal Challengers Bangalore\",\"Rajasthan Royals\",\"Delhi Capitals\",\"Sunrisers Hyderabad\",\"Royal Challengers Bangalore\",\"Delhi Capitals\",\"Chennai Super Kings\",\"Royal Challengers Bangalore\",\"Rajasthan Royals\",\"Mumbai Indians\",\"Rajasthan Royals\",\"Delhi Capitals\",\"Kolkata Knight Riders\",\"Sunrisers Hyderabad\",null,\"Chennai Super Kings\",\"Mumbai Indians\",\"Kolkata Knight Riders\",\"Delhi Capitals\",\"Royal Challengers Bangalore\",\"Kings XI Punjab\",\"Mumbai Indians\",\"Mumbai Indians\",\"Delhi Capitals\",\"Chennai Super Kings\",\"Mumbai Indians\",\"Chennai Super Kings\",\"Delhi Capitals\",\"Royal Challengers Bangalore\",\"Rajasthan Royals\",\"Mumbai Indians\",\"Kings XI Punjab\",\"Delhi Capitals\",\"Kolkata Knight Riders\",\"Rajasthan Royals\",\"Royal Challengers Bangalore\",\"Sunrisers Hyderabad\",\"Kolkata Knight Riders\",\"Mumbai Indians\",\"Sunrisers Hyderabad\",\"Royal Challengers Bangalore\",\"Delhi Capitals\",\"Chennai Super Kings\",\"Mumbai Indians\",\"Delhi Capitals\",\"Mumbai Indians\",\"Kolkata Knight Riders\",\"Sunrisers Hyderabad\",\"Delhi Capitals\",\"Kolkata Knight Riders\",\"Royal Challengers Bangalore\",\"Rajasthan Royals\",\"Mumbai Indians\",\"Royal Challengers Bangalore\",\"Chennai Super Kings\",\"Delhi Capitals\",\"Kings XI Punjab\",\"Mumbai Indians\",\"Delhi Capitals\",\"Royal Challengers Bangalore\",\"Kolkata Knight Riders\",\"Kings XI Punjab\",\"Rajasthan Royals\",\"Kings XI Punjab\",\"Royal Challengers Bangalore\",\"Sunrisers Hyderabad\",\"Mumbai Indians\",\"Kolkata Knight Riders\",\"Kings XI Punjab\",\"Rajasthan Royals\",\"Chennai Super Kings\",\"Kings XI Punjab\",\"Sunrisers Hyderabad\",\"Mumbai Indians\",\"Chennai Super Kings\",\"Rajasthan Royals\",\"Sunrisers Hyderabad\",\"Mumbai Indians\",\"Chennai Super Kings\",\"Kolkata Knight Riders\",\"Delhi Capitals\",\"Sunrisers Hyderabad\",\"Mumbai Indians\",\"Sunrisers Hyderabad\",\"Delhi Capitals\",\"Mumbai Indians\",\"Royal Challengers Bangalore\",\"Delhi Capitals\",\"Kolkata Knight Riders\",\"Punjab Kings\",\"Mumbai Indians\",\"Royal Challengers Bangalore\",\"Rajasthan Royals\",\"Chennai Super Kings\",\"Mumbai Indians\",\"Royal Challengers Bangalore\",\"Delhi Capitals\",\"Chennai Super Kings\",\"Delhi Capitals\",\"Sunrisers Hyderabad\",\"Chennai Super Kings\",\"Royal Challengers Bangalore\",\"Punjab Kings\",\"Rajasthan Royals\",\"Chennai Super Kings\",\"Delhi Capitals\",\"Kolkata Knight Riders\",\"Royal Challengers Bangalore\",\"Chennai Super Kings\",\"Mumbai Indians\",\"Delhi Capitals\",\"Punjab Kings\",\"Mumbai Indians\",\"Rajasthan Royals\",\"Delhi Capitals\",\"Chennai Super Kings\",\"Kolkata Knight Riders\",\"Rajasthan Royals\",\"Delhi Capitals\",\"Kolkata Knight Riders\",\"Chennai Super Kings\",\"Delhi Capitals\",\"Punjab Kings\",\"Chennai Super Kings\",\"Royal Challengers Bangalore\",\"Sunrisers Hyderabad\",\"Kolkata Knight Riders\",\"Mumbai Indians\",\"Royal Challengers Bangalore\",\"Chennai Super Kings\",\"Punjab Kings\",\"Rajasthan Royals\",\"Delhi Capitals\",\"Royal Challengers Bangalore\",\"Kolkata Knight Riders\",\"Delhi Capitals\",\"Mumbai Indians\",\"Sunrisers Hyderabad\",\"Punjab Kings\",\"Kolkata Knight Riders\",\"Mumbai Indians\",\"Royal Challengers Bangalore\",\"Chennai Super Kings\",\"Kolkata Knight Riders\",\"Kolkata Knight Riders\",\"Chennai Super Kings\",\"Kolkata Knight Riders\",\"Delhi Capitals\",\"Punjab Kings\",\"Gujarat Titans\",\"Rajasthan Royals\",\"Royal Challengers Bangalore\",\"Lucknow Super Giants\",\"Kolkata Knight Riders\",\"Rajasthan Royals\",\"Gujarat Titans\",\"Punjab Kings\",\"Lucknow Super Giants\",\"Royal Challengers Bangalore\",\"Kolkata Knight Riders\",\"Lucknow Super Giants\",\"Gujarat Titans\",\"Sunrisers Hyderabad\",\"Royal Challengers Bangalore\",\"Delhi Capitals\",\"Rajasthan Royals\",\"Sunrisers Hyderabad\",\"Chennai Super Kings\",\"Punjab Kings\",\"Gujarat Titans\",\"Sunrisers Hyderabad\",\"Lucknow Super Giants\",\"Royal Challengers Bangalore\",\"Sunrisers Hyderabad\",\"Gujarat Titans\",\"Rajasthan Royals\",\"Royal Challengers Bangalore\",\"Delhi Capitals\",\"Chennai Super Kings\",\"Rajasthan Royals\",\"Gujarat Titans\",\"Sunrisers Hyderabad\",\"Lucknow Super Giants\",\"Punjab Kings\",\"Rajasthan Royals\",\"Gujarat Titans\",\"Delhi Capitals\",\"Lucknow Super Giants\",\"Gujarat Titans\",\"Mumbai Indians\",\"Lucknow Super Giants\",\"Chennai Super Kings\",\"Kolkata Knight Riders\",\"Punjab Kings\",\"Royal Challengers Bangalore\",\"Delhi Capitals\",\"Mumbai Indians\",\"Rajasthan Royals\",\"Lucknow Super Giants\",\"Royal Challengers Bangalore\",\"Chennai Super Kings\",\"Kolkata Knight Riders\",\"Gujarat Titans\",\"Delhi Capitals\",\"Mumbai Indians\",\"Punjab Kings\",\"Kolkata Knight Riders\",\"Gujarat Titans\",\"Rajasthan Royals\",\"Delhi Capitals\",\"Sunrisers Hyderabad\",\"Lucknow Super Giants\",\"Royal Challengers Bangalore\",\"Rajasthan Royals\",\"Mumbai Indians\",\"Punjab Kings\",\"Gujarat Titans\",\"Royal Challengers Bangalore\",\"Rajasthan Royals\",\"Gujarat Titans\",\"Gujarat Titans\",\"Punjab Kings\",\"Lucknow Super Giants\",\"Rajasthan Royals\",\"Royal Challengers Bangalore\",\"Chennai Super Kings\",\"Gujarat Titans\",\"Punjab Kings\",\"Kolkata Knight Riders\",\"Lucknow Super Giants\",\"Rajasthan Royals\",\"Chennai Super Kings\",\"Kolkata Knight Riders\",\"Sunrisers Hyderabad\",\"Lucknow Super Giants\",\"Mumbai Indians\",\"Rajasthan Royals\",\"Gujarat Titans\",\"Sunrisers Hyderabad\",\"Royal Challengers Bangalore\",\"Punjab Kings\",\"Mumbai Indians\",\"Rajasthan Royals\",\"Chennai Super Kings\",\"Mumbai Indians\",\"Lucknow Super Giants\",\"Royal Challengers Bangalore\",\"Delhi Capitals\",\"Chennai Super Kings\",\"Gujarat Titans\",\"Punjab Kings\",\"Royal Challengers Bangalore\",\"Chennai Super Kings\",\"Delhi Capitals\",\"Gujarat Titans\",\"Kolkata Knight Riders\",\"Rajasthan Royals\",\"Lucknow Super Giants\",\"Gujarat Titans\",\"Sunrisers Hyderabad\",\"Punjab Kings\",\"Mumbai Indians\",\"Royal Challengers Bangalore\",\"Delhi Capitals\",null,\"Mumbai Indians\",\"Kolkata Knight Riders\",\"Gujarat Titans\",\"Chennai Super Kings\",\"Delhi Capitals\",\"Gujarat Titans\",\"Sunrisers Hyderabad\",\"Kolkata Knight Riders\",\"Mumbai Indians\",\"Chennai Super Kings\",\"Rajasthan Royals\",\"Mumbai Indians\",\"Lucknow Super Giants\",\"Punjab Kings\",\"Royal Challengers Bangalore\",\"Kolkata Knight Riders\",\"Gujarat Titans\",\"Lucknow Super Giants\",\"Delhi Capitals\",\"Royal Challengers Bangalore\",\"Rajasthan Royals\",\"Chennai Super Kings\",\"Lucknow Super Giants\",\"Mumbai Indians\",\"Gujarat Titans\",\"Chennai Super Kings\",\"Mumbai Indians\",\"Gujarat Titans\",\"Chennai Super Kings\",\"Chennai Super Kings\",\"Punjab Kings\",\"Kolkata Knight Riders\",\"Rajasthan Royals\",\"Gujarat Titans\",\"Royal Challengers Bengaluru\",\"Chennai Super Kings\",\"Sunrisers Hyderabad\",\"Rajasthan Royals\",\"Kolkata Knight Riders\",\"Lucknow Super Giants\",\"Gujarat Titans\",\"Delhi Capitals\",\"Rajasthan Royals\",\"Lucknow Super Giants\",\"Kolkata Knight Riders\",\"Punjab Kings\",\"Sunrisers Hyderabad\",\"Rajasthan Royals\",\"Mumbai Indians\",\"Lucknow Super Giants\",\"Chennai Super Kings\",\"Sunrisers Hyderabad\",\"Gujarat Titans\",\"Mumbai Indians\",\"Delhi Capitals\",\"Rajasthan Royals\",\"Kolkata Knight Riders\",\"Chennai Super Kings\",\"Sunrisers Hyderabad\",\"Rajasthan Royals\",\"Delhi Capitals\",\"Mumbai Indians\",\"Lucknow Super Giants\",\"Sunrisers Hyderabad\",\"Kolkata Knight Riders\",\"Gujarat Titans\",\"Rajasthan Royals\",\"Lucknow Super Giants\",\"Delhi Capitals\",\"Royal Challengers Bengaluru\",\"Punjab Kings\",\"Delhi Capitals\",\"Rajasthan Royals\",\"Royal Challengers Bengaluru\",\"Chennai Super Kings\",\"Kolkata Knight Riders\",\"Lucknow Super Giants\",\"Punjab Kings\",\"Sunrisers Hyderabad\",\"Kolkata Knight Riders\",\"Royal Challengers Bengaluru\",\"Chennai Super Kings\",\"Kolkata Knight Riders\",\"Mumbai Indians\",\"Delhi Capitals\",\"Sunrisers Hyderabad\",\"Royal Challengers Bengaluru\",\"Gujarat Titans\",\"Kolkata Knight Riders\",\"Chennai Super Kings\",\"Royal Challengers Bengaluru\",\"Delhi Capitals\",\"Punjab Kings\",\"Lucknow Super Giants\",\"Royal Challengers Bengaluru\",\"Sunrisers Hyderabad\",\"Kolkata Knight Riders\",\"Rajasthan Royals\",\"Sunrisers Hyderabad\",\"Kolkata Knight Riders\"],\"xaxis\":\"x\",\"y\":[1,1,1,1,1,1,1,1,1,1,1,1,1,1,1,1,1,1,1,1,1,1,1,1,1,1,1,1,1,1,1,1,1,1,1,1,1,1,1,1,1,1,1,1,1,1,1,1,1,1,1,1,1,1,1,1,1,1,1,1,1,1,1,1,1,1,1,1,1,1,1,1,1,1,1,1,1,1,1,1,1,1,1,1,1,1,1,1,1,1,1,1,1,1,1,1,1,1,1,1,1,1,1,1,1,1,1,1,1,1,1,1,1,1,1,1,1,1,1,1,1,1,1,1,1,1,1,1,1,1,1,1,1,1,1,1,1,1,1,1,1,1,1,1,1,1,1,1,1,1,1,1,1,1,1,1,1,1,1,1,1,1,1,1,1,1,1,1,1,1,1,1,1,1,1,1,1,1,1,1,1,1,1,1,1,1,1,1,1,1,1,1,1,1,1,1,1,1,1,1,1,1,1,1,1,1,1,1,1,1,1,1,1,1,1,1,1,1,1,1,1,1,1,1,1,1,1,1,1,1,1,1,1,1,1,1,1,1,1,1,1,1,1,1,1,1,1,1,1,1,1,1,1,1,1,1,1,1,1,1,1,1,1,1,1,1,1,1,1,1,1,1,1,1,1,1,1,1,1,1,1,1,1,1,1,1,1,1,1,1,1,1,1,1,1,1,1,1,1,1,1,1,1,1,1,1,1,1,1,1,1,1,1,1,1,1,1,1,1,1,1,1,1,1,1,1,1,1,1,1,1,1,1,1,1,1,1,1,1,1,1,1,1,1,1,1,1,1,1,1,1,1,1,1,1,1,1,1,1,1,1,1,1,1,1,1,1,1,1,1,1,1,1,1,1,1,1,1,1,1,1,1,1,1,1,1,1,1,1,1,1,1,1,1,1,1,1,1,1,1,1,1,1,1,1,1,1,1,1,1,1,1,1,1,1,1,1,1,1,1,1,1,1,1,1,1,1,1,1,1,1,1,1,1,1,1,1,1,1,1,1,1,1,1,1,1,1,1,1,1,1,1,1,1,1,1,1,1,1,1,1,1,1,1,1,1,1,1,1,1,1,1,1,1,1,1,1,1,1,1,1,1,1,1,1,1,1,1,1,1,1,1,1,1,1,1,1,1,1,1,1,1,1,1,1,1,1,1,1,1,1,1,1,1,1,1,1,1,1,1,1,1,1,1,1,1,1,1,1,1,1,1,1,1,1,1,1,1,1,1,1,1,1,1,1,1,1,1,1,1,1,1,1,1,1,1,1,1,1,1,1,1,1,1,1,1,1,1,1,1,1,1,1,1,1,1,1,1,1,1,1,1,1,1,1,1,1,1,1,1,1,1,1,1,1,1,1,1,1,1,1,1,1,1,1,1,1,1,1,1,1,1,1,1,1,1,1,1,1,1,1,1,1,1,1,1,1,1,1,1,1,1,1,1,1,1,1,1,1,1,1,1,1,1,1,1,1,1,1,1,1,1,1,1,1,1,1,1,1,1,1,1,1,1,1,1,1,1,1,1,1,1,1,1,1,1,1,1,1,1,1,1,1,1,1,1,1,1,1,1,1,1,1,1,1,1,1,1,1,1,1,1,1,1,1,1,1,1,1,1,1,1,1,1,1,1,1,1,1,1,1,1,1,1,1,1,1,1,1,1,1,1,1,1,1,1,1,1,1,1,1,1,1,1,1,1,1,1,1,1,1,1,1,1,1,1,1,1,1,1,1,1,1,1,1,1,1,1,1,1,1,1,1,1,1,1,1,1,1,1,1,1,1,1,1,1,1,1,1,1,1,1,1,1,1,1,1,1,1,1,1,1,1,1,1,1,1,1,1,1,1,1,1,1,1,1,1,1,1,1,1,1,1,1,1,1,1,1,1,1,1,1,1,1,1,1,1,1,1,1,1,1,1,1,1,1,1,1,1,1,1,1,1,1,1,1,1,1,1,1,1,1,1,1,1,1,1,1,1,1,1,1,1,1,1,1,1,1,1,1,1,1,1,1,1,1,1,1,1,1,1,1,1,1,1,1,1,1,1,1,1,1,1,1,1,1,1,1,1,1,1,1,1,1,1,1,1,1,1,1,1,1,1,1,1,1,1,1,1,1,1,1,1,1,1,1,1,1,1,1,1,1,1,1,1,1,1,1,1,1,1,1,1,1,1,1,1,1,1,1,1,1,1,1,1,1,1,1,1,1,1,1,1,1,1,1,1,1,1,1,1,1,1,1,1,1,1,1,1,1,1,1,1,1,1,1,1,1,1,1,1,1,1,1,1,1,1,1,1,1,1,1,1,1,1,1,1,1,1,1,1,1,1,1,1,1,1,1,1,1,1,1,1,1,1,1,1,1,1,1,1,1,1,1,1,1,1,1,1,1,1,1,1,1,1,1,1,1,1,1,1,1,1,1,1,1,1,1,1,1,1,1,1,1,1,1,1,1,1,1,1,1,1,1,1,1,1,1,1,1,1,1,1,1,1],\"yaxis\":\"y\",\"type\":\"bar\"}],                        {\"template\":{\"data\":{\"histogram2dcontour\":[{\"type\":\"histogram2dcontour\",\"colorbar\":{\"outlinewidth\":0,\"ticks\":\"\"},\"colorscale\":[[0.0,\"#0d0887\"],[0.1111111111111111,\"#46039f\"],[0.2222222222222222,\"#7201a8\"],[0.3333333333333333,\"#9c179e\"],[0.4444444444444444,\"#bd3786\"],[0.5555555555555556,\"#d8576b\"],[0.6666666666666666,\"#ed7953\"],[0.7777777777777778,\"#fb9f3a\"],[0.8888888888888888,\"#fdca26\"],[1.0,\"#f0f921\"]]}],\"choropleth\":[{\"type\":\"choropleth\",\"colorbar\":{\"outlinewidth\":0,\"ticks\":\"\"}}],\"histogram2d\":[{\"type\":\"histogram2d\",\"colorbar\":{\"outlinewidth\":0,\"ticks\":\"\"},\"colorscale\":[[0.0,\"#0d0887\"],[0.1111111111111111,\"#46039f\"],[0.2222222222222222,\"#7201a8\"],[0.3333333333333333,\"#9c179e\"],[0.4444444444444444,\"#bd3786\"],[0.5555555555555556,\"#d8576b\"],[0.6666666666666666,\"#ed7953\"],[0.7777777777777778,\"#fb9f3a\"],[0.8888888888888888,\"#fdca26\"],[1.0,\"#f0f921\"]]}],\"heatmap\":[{\"type\":\"heatmap\",\"colorbar\":{\"outlinewidth\":0,\"ticks\":\"\"},\"colorscale\":[[0.0,\"#0d0887\"],[0.1111111111111111,\"#46039f\"],[0.2222222222222222,\"#7201a8\"],[0.3333333333333333,\"#9c179e\"],[0.4444444444444444,\"#bd3786\"],[0.5555555555555556,\"#d8576b\"],[0.6666666666666666,\"#ed7953\"],[0.7777777777777778,\"#fb9f3a\"],[0.8888888888888888,\"#fdca26\"],[1.0,\"#f0f921\"]]}],\"heatmapgl\":[{\"type\":\"heatmapgl\",\"colorbar\":{\"outlinewidth\":0,\"ticks\":\"\"},\"colorscale\":[[0.0,\"#0d0887\"],[0.1111111111111111,\"#46039f\"],[0.2222222222222222,\"#7201a8\"],[0.3333333333333333,\"#9c179e\"],[0.4444444444444444,\"#bd3786\"],[0.5555555555555556,\"#d8576b\"],[0.6666666666666666,\"#ed7953\"],[0.7777777777777778,\"#fb9f3a\"],[0.8888888888888888,\"#fdca26\"],[1.0,\"#f0f921\"]]}],\"contourcarpet\":[{\"type\":\"contourcarpet\",\"colorbar\":{\"outlinewidth\":0,\"ticks\":\"\"}}],\"contour\":[{\"type\":\"contour\",\"colorbar\":{\"outlinewidth\":0,\"ticks\":\"\"},\"colorscale\":[[0.0,\"#0d0887\"],[0.1111111111111111,\"#46039f\"],[0.2222222222222222,\"#7201a8\"],[0.3333333333333333,\"#9c179e\"],[0.4444444444444444,\"#bd3786\"],[0.5555555555555556,\"#d8576b\"],[0.6666666666666666,\"#ed7953\"],[0.7777777777777778,\"#fb9f3a\"],[0.8888888888888888,\"#fdca26\"],[1.0,\"#f0f921\"]]}],\"surface\":[{\"type\":\"surface\",\"colorbar\":{\"outlinewidth\":0,\"ticks\":\"\"},\"colorscale\":[[0.0,\"#0d0887\"],[0.1111111111111111,\"#46039f\"],[0.2222222222222222,\"#7201a8\"],[0.3333333333333333,\"#9c179e\"],[0.4444444444444444,\"#bd3786\"],[0.5555555555555556,\"#d8576b\"],[0.6666666666666666,\"#ed7953\"],[0.7777777777777778,\"#fb9f3a\"],[0.8888888888888888,\"#fdca26\"],[1.0,\"#f0f921\"]]}],\"mesh3d\":[{\"type\":\"mesh3d\",\"colorbar\":{\"outlinewidth\":0,\"ticks\":\"\"}}],\"scatter\":[{\"fillpattern\":{\"fillmode\":\"overlay\",\"size\":10,\"solidity\":0.2},\"type\":\"scatter\"}],\"parcoords\":[{\"type\":\"parcoords\",\"line\":{\"colorbar\":{\"outlinewidth\":0,\"ticks\":\"\"}}}],\"scatterpolargl\":[{\"type\":\"scatterpolargl\",\"marker\":{\"colorbar\":{\"outlinewidth\":0,\"ticks\":\"\"}}}],\"bar\":[{\"error_x\":{\"color\":\"#2a3f5f\"},\"error_y\":{\"color\":\"#2a3f5f\"},\"marker\":{\"line\":{\"color\":\"white\",\"width\":0.5},\"pattern\":{\"fillmode\":\"overlay\",\"size\":10,\"solidity\":0.2}},\"type\":\"bar\"}],\"scattergeo\":[{\"type\":\"scattergeo\",\"marker\":{\"colorbar\":{\"outlinewidth\":0,\"ticks\":\"\"}}}],\"scatterpolar\":[{\"type\":\"scatterpolar\",\"marker\":{\"colorbar\":{\"outlinewidth\":0,\"ticks\":\"\"}}}],\"histogram\":[{\"marker\":{\"pattern\":{\"fillmode\":\"overlay\",\"size\":10,\"solidity\":0.2}},\"type\":\"histogram\"}],\"scattergl\":[{\"type\":\"scattergl\",\"marker\":{\"colorbar\":{\"outlinewidth\":0,\"ticks\":\"\"}}}],\"scatter3d\":[{\"type\":\"scatter3d\",\"line\":{\"colorbar\":{\"outlinewidth\":0,\"ticks\":\"\"}},\"marker\":{\"colorbar\":{\"outlinewidth\":0,\"ticks\":\"\"}}}],\"scattermapbox\":[{\"type\":\"scattermapbox\",\"marker\":{\"colorbar\":{\"outlinewidth\":0,\"ticks\":\"\"}}}],\"scatterternary\":[{\"type\":\"scatterternary\",\"marker\":{\"colorbar\":{\"outlinewidth\":0,\"ticks\":\"\"}}}],\"scattercarpet\":[{\"type\":\"scattercarpet\",\"marker\":{\"colorbar\":{\"outlinewidth\":0,\"ticks\":\"\"}}}],\"carpet\":[{\"aaxis\":{\"endlinecolor\":\"#2a3f5f\",\"gridcolor\":\"#C8D4E3\",\"linecolor\":\"#C8D4E3\",\"minorgridcolor\":\"#C8D4E3\",\"startlinecolor\":\"#2a3f5f\"},\"baxis\":{\"endlinecolor\":\"#2a3f5f\",\"gridcolor\":\"#C8D4E3\",\"linecolor\":\"#C8D4E3\",\"minorgridcolor\":\"#C8D4E3\",\"startlinecolor\":\"#2a3f5f\"},\"type\":\"carpet\"}],\"table\":[{\"cells\":{\"fill\":{\"color\":\"#EBF0F8\"},\"line\":{\"color\":\"white\"}},\"header\":{\"fill\":{\"color\":\"#C8D4E3\"},\"line\":{\"color\":\"white\"}},\"type\":\"table\"}],\"barpolar\":[{\"marker\":{\"line\":{\"color\":\"white\",\"width\":0.5},\"pattern\":{\"fillmode\":\"overlay\",\"size\":10,\"solidity\":0.2}},\"type\":\"barpolar\"}],\"pie\":[{\"automargin\":true,\"type\":\"pie\"}]},\"layout\":{\"autotypenumbers\":\"strict\",\"colorway\":[\"#636efa\",\"#EF553B\",\"#00cc96\",\"#ab63fa\",\"#FFA15A\",\"#19d3f3\",\"#FF6692\",\"#B6E880\",\"#FF97FF\",\"#FECB52\"],\"font\":{\"color\":\"#2a3f5f\"},\"hovermode\":\"closest\",\"hoverlabel\":{\"align\":\"left\"},\"paper_bgcolor\":\"white\",\"plot_bgcolor\":\"white\",\"polar\":{\"bgcolor\":\"white\",\"angularaxis\":{\"gridcolor\":\"#EBF0F8\",\"linecolor\":\"#EBF0F8\",\"ticks\":\"\"},\"radialaxis\":{\"gridcolor\":\"#EBF0F8\",\"linecolor\":\"#EBF0F8\",\"ticks\":\"\"}},\"ternary\":{\"bgcolor\":\"white\",\"aaxis\":{\"gridcolor\":\"#DFE8F3\",\"linecolor\":\"#A2B1C6\",\"ticks\":\"\"},\"baxis\":{\"gridcolor\":\"#DFE8F3\",\"linecolor\":\"#A2B1C6\",\"ticks\":\"\"},\"caxis\":{\"gridcolor\":\"#DFE8F3\",\"linecolor\":\"#A2B1C6\",\"ticks\":\"\"}},\"coloraxis\":{\"colorbar\":{\"outlinewidth\":0,\"ticks\":\"\"}},\"colorscale\":{\"sequential\":[[0.0,\"#0d0887\"],[0.1111111111111111,\"#46039f\"],[0.2222222222222222,\"#7201a8\"],[0.3333333333333333,\"#9c179e\"],[0.4444444444444444,\"#bd3786\"],[0.5555555555555556,\"#d8576b\"],[0.6666666666666666,\"#ed7953\"],[0.7777777777777778,\"#fb9f3a\"],[0.8888888888888888,\"#fdca26\"],[1.0,\"#f0f921\"]],\"sequentialminus\":[[0.0,\"#0d0887\"],[0.1111111111111111,\"#46039f\"],[0.2222222222222222,\"#7201a8\"],[0.3333333333333333,\"#9c179e\"],[0.4444444444444444,\"#bd3786\"],[0.5555555555555556,\"#d8576b\"],[0.6666666666666666,\"#ed7953\"],[0.7777777777777778,\"#fb9f3a\"],[0.8888888888888888,\"#fdca26\"],[1.0,\"#f0f921\"]],\"diverging\":[[0,\"#8e0152\"],[0.1,\"#c51b7d\"],[0.2,\"#de77ae\"],[0.3,\"#f1b6da\"],[0.4,\"#fde0ef\"],[0.5,\"#f7f7f7\"],[0.6,\"#e6f5d0\"],[0.7,\"#b8e186\"],[0.8,\"#7fbc41\"],[0.9,\"#4d9221\"],[1,\"#276419\"]]},\"xaxis\":{\"gridcolor\":\"#EBF0F8\",\"linecolor\":\"#EBF0F8\",\"ticks\":\"\",\"title\":{\"standoff\":15},\"zerolinecolor\":\"#EBF0F8\",\"automargin\":true,\"zerolinewidth\":2},\"yaxis\":{\"gridcolor\":\"#EBF0F8\",\"linecolor\":\"#EBF0F8\",\"ticks\":\"\",\"title\":{\"standoff\":15},\"zerolinecolor\":\"#EBF0F8\",\"automargin\":true,\"zerolinewidth\":2},\"scene\":{\"xaxis\":{\"backgroundcolor\":\"white\",\"gridcolor\":\"#DFE8F3\",\"linecolor\":\"#EBF0F8\",\"showbackground\":true,\"ticks\":\"\",\"zerolinecolor\":\"#EBF0F8\",\"gridwidth\":2},\"yaxis\":{\"backgroundcolor\":\"white\",\"gridcolor\":\"#DFE8F3\",\"linecolor\":\"#EBF0F8\",\"showbackground\":true,\"ticks\":\"\",\"zerolinecolor\":\"#EBF0F8\",\"gridwidth\":2},\"zaxis\":{\"backgroundcolor\":\"white\",\"gridcolor\":\"#DFE8F3\",\"linecolor\":\"#EBF0F8\",\"showbackground\":true,\"ticks\":\"\",\"zerolinecolor\":\"#EBF0F8\",\"gridwidth\":2}},\"shapedefaults\":{\"line\":{\"color\":\"#2a3f5f\"}},\"annotationdefaults\":{\"arrowcolor\":\"#2a3f5f\",\"arrowhead\":0,\"arrowwidth\":1},\"geo\":{\"bgcolor\":\"white\",\"landcolor\":\"white\",\"subunitcolor\":\"#C8D4E3\",\"showland\":true,\"showlakes\":true,\"lakecolor\":\"white\"},\"title\":{\"x\":0.05},\"mapbox\":{\"style\":\"light\"}}},\"xaxis\":{\"anchor\":\"y\",\"domain\":[0.0,1.0],\"title\":{\"text\":\"winner\"}},\"yaxis\":{\"anchor\":\"x\",\"domain\":[0.0,1.0],\"title\":{\"text\":\"count\"}},\"legend\":{\"tracegroupgap\":0},\"title\":{\"text\":\"Number of matches Won by teams in IPL\"},\"barmode\":\"relative\"},                        {\"responsive\": true}                    ).then(function(){\n",
       "                            \n",
       "var gd = document.getElementById('160322be-eb45-4e97-9123-8844b0b4c688');\n",
       "var x = new MutationObserver(function (mutations, observer) {{\n",
       "        var display = window.getComputedStyle(gd).display;\n",
       "        if (!display || display === 'none') {{\n",
       "            console.log([gd, 'removed!']);\n",
       "            Plotly.purge(gd);\n",
       "            observer.disconnect();\n",
       "        }}\n",
       "}});\n",
       "\n",
       "// Listen for the removal of the full notebook cells\n",
       "var notebookContainer = gd.closest('#notebook-container');\n",
       "if (notebookContainer) {{\n",
       "    x.observe(notebookContainer, {childList: true});\n",
       "}}\n",
       "\n",
       "// Listen for the clearing of the current output cell\n",
       "var outputEl = gd.closest('.output');\n",
       "if (outputEl) {{\n",
       "    x.observe(outputEl, {childList: true});\n",
       "}}\n",
       "\n",
       "                        })                };                });            </script>        </div>"
      ]
     },
     "metadata": {},
     "output_type": "display_data"
    }
   ],
   "source": [
    "matches_won.show()"
   ]
  },
  {
   "cell_type": "code",
   "execution_count": 35,
   "id": "e322b9ff-94ad-4d19-a9dc-d1ecb75b03ed",
   "metadata": {},
   "outputs": [
    {
     "data": {
      "text/plain": [
       "result\n",
       "wickets      578\n",
       "runs         498\n",
       "tie           14\n",
       "no result      5\n",
       "Name: count, dtype: int64"
      ]
     },
     "execution_count": 35,
     "metadata": {},
     "output_type": "execute_result"
    }
   ],
   "source": [
    "data['result'].value_counts()"
   ]
  },
  {
   "cell_type": "code",
   "execution_count": 37,
   "id": "c046bc24-b9f4-4a74-9cf1-802bc18f4cc7",
   "metadata": {},
   "outputs": [
    {
     "data": {
      "application/vnd.plotly.v1+json": {
       "config": {
        "plotlyServerURL": "https://plot.ly"
       },
       "data": [
        {
         "hoverinfo": "label+percent",
         "labels": [
          "wickets",
          "runs",
          "tie",
          "no result"
         ],
         "marker": {
          "colors": [
           "gold",
           "lightgreen"
          ],
          "line": {
           "color": "black",
           "width": 3
          }
         },
         "textfont": {
          "size": 30
         },
         "textinfo": "value",
         "type": "pie",
         "values": [
          578,
          498,
          14,
          5
         ]
        }
       ],
       "layout": {
        "autosize": true,
        "template": {
         "data": {
          "bar": [
           {
            "error_x": {
             "color": "#2a3f5f"
            },
            "error_y": {
             "color": "#2a3f5f"
            },
            "marker": {
             "line": {
              "color": "white",
              "width": 0.5
             },
             "pattern": {
              "fillmode": "overlay",
              "size": 10,
              "solidity": 0.2
             }
            },
            "type": "bar"
           }
          ],
          "barpolar": [
           {
            "marker": {
             "line": {
              "color": "white",
              "width": 0.5
             },
             "pattern": {
              "fillmode": "overlay",
              "size": 10,
              "solidity": 0.2
             }
            },
            "type": "barpolar"
           }
          ],
          "carpet": [
           {
            "aaxis": {
             "endlinecolor": "#2a3f5f",
             "gridcolor": "#C8D4E3",
             "linecolor": "#C8D4E3",
             "minorgridcolor": "#C8D4E3",
             "startlinecolor": "#2a3f5f"
            },
            "baxis": {
             "endlinecolor": "#2a3f5f",
             "gridcolor": "#C8D4E3",
             "linecolor": "#C8D4E3",
             "minorgridcolor": "#C8D4E3",
             "startlinecolor": "#2a3f5f"
            },
            "type": "carpet"
           }
          ],
          "choropleth": [
           {
            "colorbar": {
             "outlinewidth": 0,
             "ticks": ""
            },
            "type": "choropleth"
           }
          ],
          "contour": [
           {
            "colorbar": {
             "outlinewidth": 0,
             "ticks": ""
            },
            "colorscale": [
             [
              0,
              "#0d0887"
             ],
             [
              0.1111111111111111,
              "#46039f"
             ],
             [
              0.2222222222222222,
              "#7201a8"
             ],
             [
              0.3333333333333333,
              "#9c179e"
             ],
             [
              0.4444444444444444,
              "#bd3786"
             ],
             [
              0.5555555555555556,
              "#d8576b"
             ],
             [
              0.6666666666666666,
              "#ed7953"
             ],
             [
              0.7777777777777778,
              "#fb9f3a"
             ],
             [
              0.8888888888888888,
              "#fdca26"
             ],
             [
              1,
              "#f0f921"
             ]
            ],
            "type": "contour"
           }
          ],
          "contourcarpet": [
           {
            "colorbar": {
             "outlinewidth": 0,
             "ticks": ""
            },
            "type": "contourcarpet"
           }
          ],
          "heatmap": [
           {
            "colorbar": {
             "outlinewidth": 0,
             "ticks": ""
            },
            "colorscale": [
             [
              0,
              "#0d0887"
             ],
             [
              0.1111111111111111,
              "#46039f"
             ],
             [
              0.2222222222222222,
              "#7201a8"
             ],
             [
              0.3333333333333333,
              "#9c179e"
             ],
             [
              0.4444444444444444,
              "#bd3786"
             ],
             [
              0.5555555555555556,
              "#d8576b"
             ],
             [
              0.6666666666666666,
              "#ed7953"
             ],
             [
              0.7777777777777778,
              "#fb9f3a"
             ],
             [
              0.8888888888888888,
              "#fdca26"
             ],
             [
              1,
              "#f0f921"
             ]
            ],
            "type": "heatmap"
           }
          ],
          "heatmapgl": [
           {
            "colorbar": {
             "outlinewidth": 0,
             "ticks": ""
            },
            "colorscale": [
             [
              0,
              "#0d0887"
             ],
             [
              0.1111111111111111,
              "#46039f"
             ],
             [
              0.2222222222222222,
              "#7201a8"
             ],
             [
              0.3333333333333333,
              "#9c179e"
             ],
             [
              0.4444444444444444,
              "#bd3786"
             ],
             [
              0.5555555555555556,
              "#d8576b"
             ],
             [
              0.6666666666666666,
              "#ed7953"
             ],
             [
              0.7777777777777778,
              "#fb9f3a"
             ],
             [
              0.8888888888888888,
              "#fdca26"
             ],
             [
              1,
              "#f0f921"
             ]
            ],
            "type": "heatmapgl"
           }
          ],
          "histogram": [
           {
            "marker": {
             "pattern": {
              "fillmode": "overlay",
              "size": 10,
              "solidity": 0.2
             }
            },
            "type": "histogram"
           }
          ],
          "histogram2d": [
           {
            "colorbar": {
             "outlinewidth": 0,
             "ticks": ""
            },
            "colorscale": [
             [
              0,
              "#0d0887"
             ],
             [
              0.1111111111111111,
              "#46039f"
             ],
             [
              0.2222222222222222,
              "#7201a8"
             ],
             [
              0.3333333333333333,
              "#9c179e"
             ],
             [
              0.4444444444444444,
              "#bd3786"
             ],
             [
              0.5555555555555556,
              "#d8576b"
             ],
             [
              0.6666666666666666,
              "#ed7953"
             ],
             [
              0.7777777777777778,
              "#fb9f3a"
             ],
             [
              0.8888888888888888,
              "#fdca26"
             ],
             [
              1,
              "#f0f921"
             ]
            ],
            "type": "histogram2d"
           }
          ],
          "histogram2dcontour": [
           {
            "colorbar": {
             "outlinewidth": 0,
             "ticks": ""
            },
            "colorscale": [
             [
              0,
              "#0d0887"
             ],
             [
              0.1111111111111111,
              "#46039f"
             ],
             [
              0.2222222222222222,
              "#7201a8"
             ],
             [
              0.3333333333333333,
              "#9c179e"
             ],
             [
              0.4444444444444444,
              "#bd3786"
             ],
             [
              0.5555555555555556,
              "#d8576b"
             ],
             [
              0.6666666666666666,
              "#ed7953"
             ],
             [
              0.7777777777777778,
              "#fb9f3a"
             ],
             [
              0.8888888888888888,
              "#fdca26"
             ],
             [
              1,
              "#f0f921"
             ]
            ],
            "type": "histogram2dcontour"
           }
          ],
          "mesh3d": [
           {
            "colorbar": {
             "outlinewidth": 0,
             "ticks": ""
            },
            "type": "mesh3d"
           }
          ],
          "parcoords": [
           {
            "line": {
             "colorbar": {
              "outlinewidth": 0,
              "ticks": ""
             }
            },
            "type": "parcoords"
           }
          ],
          "pie": [
           {
            "automargin": true,
            "type": "pie"
           }
          ],
          "scatter": [
           {
            "fillpattern": {
             "fillmode": "overlay",
             "size": 10,
             "solidity": 0.2
            },
            "type": "scatter"
           }
          ],
          "scatter3d": [
           {
            "line": {
             "colorbar": {
              "outlinewidth": 0,
              "ticks": ""
             }
            },
            "marker": {
             "colorbar": {
              "outlinewidth": 0,
              "ticks": ""
             }
            },
            "type": "scatter3d"
           }
          ],
          "scattercarpet": [
           {
            "marker": {
             "colorbar": {
              "outlinewidth": 0,
              "ticks": ""
             }
            },
            "type": "scattercarpet"
           }
          ],
          "scattergeo": [
           {
            "marker": {
             "colorbar": {
              "outlinewidth": 0,
              "ticks": ""
             }
            },
            "type": "scattergeo"
           }
          ],
          "scattergl": [
           {
            "marker": {
             "colorbar": {
              "outlinewidth": 0,
              "ticks": ""
             }
            },
            "type": "scattergl"
           }
          ],
          "scattermapbox": [
           {
            "marker": {
             "colorbar": {
              "outlinewidth": 0,
              "ticks": ""
             }
            },
            "type": "scattermapbox"
           }
          ],
          "scatterpolar": [
           {
            "marker": {
             "colorbar": {
              "outlinewidth": 0,
              "ticks": ""
             }
            },
            "type": "scatterpolar"
           }
          ],
          "scatterpolargl": [
           {
            "marker": {
             "colorbar": {
              "outlinewidth": 0,
              "ticks": ""
             }
            },
            "type": "scatterpolargl"
           }
          ],
          "scatterternary": [
           {
            "marker": {
             "colorbar": {
              "outlinewidth": 0,
              "ticks": ""
             }
            },
            "type": "scatterternary"
           }
          ],
          "surface": [
           {
            "colorbar": {
             "outlinewidth": 0,
             "ticks": ""
            },
            "colorscale": [
             [
              0,
              "#0d0887"
             ],
             [
              0.1111111111111111,
              "#46039f"
             ],
             [
              0.2222222222222222,
              "#7201a8"
             ],
             [
              0.3333333333333333,
              "#9c179e"
             ],
             [
              0.4444444444444444,
              "#bd3786"
             ],
             [
              0.5555555555555556,
              "#d8576b"
             ],
             [
              0.6666666666666666,
              "#ed7953"
             ],
             [
              0.7777777777777778,
              "#fb9f3a"
             ],
             [
              0.8888888888888888,
              "#fdca26"
             ],
             [
              1,
              "#f0f921"
             ]
            ],
            "type": "surface"
           }
          ],
          "table": [
           {
            "cells": {
             "fill": {
              "color": "#EBF0F8"
             },
             "line": {
              "color": "white"
             }
            },
            "header": {
             "fill": {
              "color": "#C8D4E3"
             },
             "line": {
              "color": "white"
             }
            },
            "type": "table"
           }
          ]
         },
         "layout": {
          "annotationdefaults": {
           "arrowcolor": "#2a3f5f",
           "arrowhead": 0,
           "arrowwidth": 1
          },
          "autotypenumbers": "strict",
          "coloraxis": {
           "colorbar": {
            "outlinewidth": 0,
            "ticks": ""
           }
          },
          "colorscale": {
           "diverging": [
            [
             0,
             "#8e0152"
            ],
            [
             0.1,
             "#c51b7d"
            ],
            [
             0.2,
             "#de77ae"
            ],
            [
             0.3,
             "#f1b6da"
            ],
            [
             0.4,
             "#fde0ef"
            ],
            [
             0.5,
             "#f7f7f7"
            ],
            [
             0.6,
             "#e6f5d0"
            ],
            [
             0.7,
             "#b8e186"
            ],
            [
             0.8,
             "#7fbc41"
            ],
            [
             0.9,
             "#4d9221"
            ],
            [
             1,
             "#276419"
            ]
           ],
           "sequential": [
            [
             0,
             "#0d0887"
            ],
            [
             0.1111111111111111,
             "#46039f"
            ],
            [
             0.2222222222222222,
             "#7201a8"
            ],
            [
             0.3333333333333333,
             "#9c179e"
            ],
            [
             0.4444444444444444,
             "#bd3786"
            ],
            [
             0.5555555555555556,
             "#d8576b"
            ],
            [
             0.6666666666666666,
             "#ed7953"
            ],
            [
             0.7777777777777778,
             "#fb9f3a"
            ],
            [
             0.8888888888888888,
             "#fdca26"
            ],
            [
             1,
             "#f0f921"
            ]
           ],
           "sequentialminus": [
            [
             0,
             "#0d0887"
            ],
            [
             0.1111111111111111,
             "#46039f"
            ],
            [
             0.2222222222222222,
             "#7201a8"
            ],
            [
             0.3333333333333333,
             "#9c179e"
            ],
            [
             0.4444444444444444,
             "#bd3786"
            ],
            [
             0.5555555555555556,
             "#d8576b"
            ],
            [
             0.6666666666666666,
             "#ed7953"
            ],
            [
             0.7777777777777778,
             "#fb9f3a"
            ],
            [
             0.8888888888888888,
             "#fdca26"
            ],
            [
             1,
             "#f0f921"
            ]
           ]
          },
          "colorway": [
           "#636efa",
           "#EF553B",
           "#00cc96",
           "#ab63fa",
           "#FFA15A",
           "#19d3f3",
           "#FF6692",
           "#B6E880",
           "#FF97FF",
           "#FECB52"
          ],
          "font": {
           "color": "#2a3f5f"
          },
          "geo": {
           "bgcolor": "white",
           "lakecolor": "white",
           "landcolor": "white",
           "showlakes": true,
           "showland": true,
           "subunitcolor": "#C8D4E3"
          },
          "hoverlabel": {
           "align": "left"
          },
          "hovermode": "closest",
          "mapbox": {
           "style": "light"
          },
          "paper_bgcolor": "white",
          "plot_bgcolor": "white",
          "polar": {
           "angularaxis": {
            "gridcolor": "#EBF0F8",
            "linecolor": "#EBF0F8",
            "ticks": ""
           },
           "bgcolor": "white",
           "radialaxis": {
            "gridcolor": "#EBF0F8",
            "linecolor": "#EBF0F8",
            "ticks": ""
           }
          },
          "scene": {
           "xaxis": {
            "backgroundcolor": "white",
            "gridcolor": "#DFE8F3",
            "gridwidth": 2,
            "linecolor": "#EBF0F8",
            "showbackground": true,
            "ticks": "",
            "zerolinecolor": "#EBF0F8"
           },
           "yaxis": {
            "backgroundcolor": "white",
            "gridcolor": "#DFE8F3",
            "gridwidth": 2,
            "linecolor": "#EBF0F8",
            "showbackground": true,
            "ticks": "",
            "zerolinecolor": "#EBF0F8"
           },
           "zaxis": {
            "backgroundcolor": "white",
            "gridcolor": "#DFE8F3",
            "gridwidth": 2,
            "linecolor": "#EBF0F8",
            "showbackground": true,
            "ticks": "",
            "zerolinecolor": "#EBF0F8"
           }
          },
          "shapedefaults": {
           "line": {
            "color": "#2a3f5f"
           }
          },
          "ternary": {
           "aaxis": {
            "gridcolor": "#DFE8F3",
            "linecolor": "#A2B1C6",
            "ticks": ""
           },
           "baxis": {
            "gridcolor": "#DFE8F3",
            "linecolor": "#A2B1C6",
            "ticks": ""
           },
           "bgcolor": "white",
           "caxis": {
            "gridcolor": "#DFE8F3",
            "linecolor": "#A2B1C6",
            "ticks": ""
           }
          },
          "title": {
           "x": 0.05
          },
          "xaxis": {
           "automargin": true,
           "gridcolor": "#EBF0F8",
           "linecolor": "#EBF0F8",
           "ticks": "",
           "title": {
            "standoff": 15
           },
           "zerolinecolor": "#EBF0F8",
           "zerolinewidth": 2
          },
          "yaxis": {
           "automargin": true,
           "gridcolor": "#EBF0F8",
           "linecolor": "#EBF0F8",
           "ticks": "",
           "title": {
            "standoff": 15
           },
           "zerolinecolor": "#EBF0F8",
           "zerolinewidth": 2
          }
         }
        },
        "title": {
         "text": "Number of Matches Won By Runs(Batting 1st) Or Wickets(Batting 2nd)"
        }
       }
      },
      "image/png": "[encoded data removed]",
      "text/html": [
       "<div>                            <div id=\"75ceed91-d950-4385-b19f-55ae75437c99\" class=\"plotly-graph-div\" style=\"height:525px; width:100%;\"></div>            <script type=\"text/javascript\">                require([\"plotly\"], function(Plotly) {                    window.PLOTLYENV=window.PLOTLYENV || {};                                    if (document.getElementById(\"75ceed91-d950-4385-b19f-55ae75437c99\")) {                    Plotly.newPlot(                        \"75ceed91-d950-4385-b19f-55ae75437c99\",                        [{\"labels\":[\"wickets\",\"runs\",\"tie\",\"no result\"],\"values\":[578,498,14,5],\"type\":\"pie\",\"textfont\":{\"size\":30},\"marker\":{\"line\":{\"color\":\"black\",\"width\":3},\"colors\":[\"gold\",\"lightgreen\"]},\"hoverinfo\":\"label+percent\",\"textinfo\":\"value\"}],                        {\"template\":{\"data\":{\"histogram2dcontour\":[{\"type\":\"histogram2dcontour\",\"colorbar\":{\"outlinewidth\":0,\"ticks\":\"\"},\"colorscale\":[[0.0,\"#0d0887\"],[0.1111111111111111,\"#46039f\"],[0.2222222222222222,\"#7201a8\"],[0.3333333333333333,\"#9c179e\"],[0.4444444444444444,\"#bd3786\"],[0.5555555555555556,\"#d8576b\"],[0.6666666666666666,\"#ed7953\"],[0.7777777777777778,\"#fb9f3a\"],[0.8888888888888888,\"#fdca26\"],[1.0,\"#f0f921\"]]}],\"choropleth\":[{\"type\":\"choropleth\",\"colorbar\":{\"outlinewidth\":0,\"ticks\":\"\"}}],\"histogram2d\":[{\"type\":\"histogram2d\",\"colorbar\":{\"outlinewidth\":0,\"ticks\":\"\"},\"colorscale\":[[0.0,\"#0d0887\"],[0.1111111111111111,\"#46039f\"],[0.2222222222222222,\"#7201a8\"],[0.3333333333333333,\"#9c179e\"],[0.4444444444444444,\"#bd3786\"],[0.5555555555555556,\"#d8576b\"],[0.6666666666666666,\"#ed7953\"],[0.7777777777777778,\"#fb9f3a\"],[0.8888888888888888,\"#fdca26\"],[1.0,\"#f0f921\"]]}],\"heatmap\":[{\"type\":\"heatmap\",\"colorbar\":{\"outlinewidth\":0,\"ticks\":\"\"},\"colorscale\":[[0.0,\"#0d0887\"],[0.1111111111111111,\"#46039f\"],[0.2222222222222222,\"#7201a8\"],[0.3333333333333333,\"#9c179e\"],[0.4444444444444444,\"#bd3786\"],[0.5555555555555556,\"#d8576b\"],[0.6666666666666666,\"#ed7953\"],[0.7777777777777778,\"#fb9f3a\"],[0.8888888888888888,\"#fdca26\"],[1.0,\"#f0f921\"]]}],\"heatmapgl\":[{\"type\":\"heatmapgl\",\"colorbar\":{\"outlinewidth\":0,\"ticks\":\"\"},\"colorscale\":[[0.0,\"#0d0887\"],[0.1111111111111111,\"#46039f\"],[0.2222222222222222,\"#7201a8\"],[0.3333333333333333,\"#9c179e\"],[0.4444444444444444,\"#bd3786\"],[0.5555555555555556,\"#d8576b\"],[0.6666666666666666,\"#ed7953\"],[0.7777777777777778,\"#fb9f3a\"],[0.8888888888888888,\"#fdca26\"],[1.0,\"#f0f921\"]]}],\"contourcarpet\":[{\"type\":\"contourcarpet\",\"colorbar\":{\"outlinewidth\":0,\"ticks\":\"\"}}],\"contour\":[{\"type\":\"contour\",\"colorbar\":{\"outlinewidth\":0,\"ticks\":\"\"},\"colorscale\":[[0.0,\"#0d0887\"],[0.1111111111111111,\"#46039f\"],[0.2222222222222222,\"#7201a8\"],[0.3333333333333333,\"#9c179e\"],[0.4444444444444444,\"#bd3786\"],[0.5555555555555556,\"#d8576b\"],[0.6666666666666666,\"#ed7953\"],[0.7777777777777778,\"#fb9f3a\"],[0.8888888888888888,\"#fdca26\"],[1.0,\"#f0f921\"]]}],\"surface\":[{\"type\":\"surface\",\"colorbar\":{\"outlinewidth\":0,\"ticks\":\"\"},\"colorscale\":[[0.0,\"#0d0887\"],[0.1111111111111111,\"#46039f\"],[0.2222222222222222,\"#7201a8\"],[0.3333333333333333,\"#9c179e\"],[0.4444444444444444,\"#bd3786\"],[0.5555555555555556,\"#d8576b\"],[0.6666666666666666,\"#ed7953\"],[0.7777777777777778,\"#fb9f3a\"],[0.8888888888888888,\"#fdca26\"],[1.0,\"#f0f921\"]]}],\"mesh3d\":[{\"type\":\"mesh3d\",\"colorbar\":{\"outlinewidth\":0,\"ticks\":\"\"}}],\"scatter\":[{\"fillpattern\":{\"fillmode\":\"overlay\",\"size\":10,\"solidity\":0.2},\"type\":\"scatter\"}],\"parcoords\":[{\"type\":\"parcoords\",\"line\":{\"colorbar\":{\"outlinewidth\":0,\"ticks\":\"\"}}}],\"scatterpolargl\":[{\"type\":\"scatterpolargl\",\"marker\":{\"colorbar\":{\"outlinewidth\":0,\"ticks\":\"\"}}}],\"bar\":[{\"error_x\":{\"color\":\"#2a3f5f\"},\"error_y\":{\"color\":\"#2a3f5f\"},\"marker\":{\"line\":{\"color\":\"white\",\"width\":0.5},\"pattern\":{\"fillmode\":\"overlay\",\"size\":10,\"solidity\":0.2}},\"type\":\"bar\"}],\"scattergeo\":[{\"type\":\"scattergeo\",\"marker\":{\"colorbar\":{\"outlinewidth\":0,\"ticks\":\"\"}}}],\"scatterpolar\":[{\"type\":\"scatterpolar\",\"marker\":{\"colorbar\":{\"outlinewidth\":0,\"ticks\":\"\"}}}],\"histogram\":[{\"marker\":{\"pattern\":{\"fillmode\":\"overlay\",\"size\":10,\"solidity\":0.2}},\"type\":\"histogram\"}],\"scattergl\":[{\"type\":\"scattergl\",\"marker\":{\"colorbar\":{\"outlinewidth\":0,\"ticks\":\"\"}}}],\"scatter3d\":[{\"type\":\"scatter3d\",\"line\":{\"colorbar\":{\"outlinewidth\":0,\"ticks\":\"\"}},\"marker\":{\"colorbar\":{\"outlinewidth\":0,\"ticks\":\"\"}}}],\"scattermapbox\":[{\"type\":\"scattermapbox\",\"marker\":{\"colorbar\":{\"outlinewidth\":0,\"ticks\":\"\"}}}],\"scatterternary\":[{\"type\":\"scatterternary\",\"marker\":{\"colorbar\":{\"outlinewidth\":0,\"ticks\":\"\"}}}],\"scattercarpet\":[{\"type\":\"scattercarpet\",\"marker\":{\"colorbar\":{\"outlinewidth\":0,\"ticks\":\"\"}}}],\"carpet\":[{\"aaxis\":{\"endlinecolor\":\"#2a3f5f\",\"gridcolor\":\"#C8D4E3\",\"linecolor\":\"#C8D4E3\",\"minorgridcolor\":\"#C8D4E3\",\"startlinecolor\":\"#2a3f5f\"},\"baxis\":{\"endlinecolor\":\"#2a3f5f\",\"gridcolor\":\"#C8D4E3\",\"linecolor\":\"#C8D4E3\",\"minorgridcolor\":\"#C8D4E3\",\"startlinecolor\":\"#2a3f5f\"},\"type\":\"carpet\"}],\"table\":[{\"cells\":{\"fill\":{\"color\":\"#EBF0F8\"},\"line\":{\"color\":\"white\"}},\"header\":{\"fill\":{\"color\":\"#C8D4E3\"},\"line\":{\"color\":\"white\"}},\"type\":\"table\"}],\"barpolar\":[{\"marker\":{\"line\":{\"color\":\"white\",\"width\":0.5},\"pattern\":{\"fillmode\":\"overlay\",\"size\":10,\"solidity\":0.2}},\"type\":\"barpolar\"}],\"pie\":[{\"automargin\":true,\"type\":\"pie\"}]},\"layout\":{\"autotypenumbers\":\"strict\",\"colorway\":[\"#636efa\",\"#EF553B\",\"#00cc96\",\"#ab63fa\",\"#FFA15A\",\"#19d3f3\",\"#FF6692\",\"#B6E880\",\"#FF97FF\",\"#FECB52\"],\"font\":{\"color\":\"#2a3f5f\"},\"hovermode\":\"closest\",\"hoverlabel\":{\"align\":\"left\"},\"paper_bgcolor\":\"white\",\"plot_bgcolor\":\"white\",\"polar\":{\"bgcolor\":\"white\",\"angularaxis\":{\"gridcolor\":\"#EBF0F8\",\"linecolor\":\"#EBF0F8\",\"ticks\":\"\"},\"radialaxis\":{\"gridcolor\":\"#EBF0F8\",\"linecolor\":\"#EBF0F8\",\"ticks\":\"\"}},\"ternary\":{\"bgcolor\":\"white\",\"aaxis\":{\"gridcolor\":\"#DFE8F3\",\"linecolor\":\"#A2B1C6\",\"ticks\":\"\"},\"baxis\":{\"gridcolor\":\"#DFE8F3\",\"linecolor\":\"#A2B1C6\",\"ticks\":\"\"},\"caxis\":{\"gridcolor\":\"#DFE8F3\",\"linecolor\":\"#A2B1C6\",\"ticks\":\"\"}},\"coloraxis\":{\"colorbar\":{\"outlinewidth\":0,\"ticks\":\"\"}},\"colorscale\":{\"sequential\":[[0.0,\"#0d0887\"],[0.1111111111111111,\"#46039f\"],[0.2222222222222222,\"#7201a8\"],[0.3333333333333333,\"#9c179e\"],[0.4444444444444444,\"#bd3786\"],[0.5555555555555556,\"#d8576b\"],[0.6666666666666666,\"#ed7953\"],[0.7777777777777778,\"#fb9f3a\"],[0.8888888888888888,\"#fdca26\"],[1.0,\"#f0f921\"]],\"sequentialminus\":[[0.0,\"#0d0887\"],[0.1111111111111111,\"#46039f\"],[0.2222222222222222,\"#7201a8\"],[0.3333333333333333,\"#9c179e\"],[0.4444444444444444,\"#bd3786\"],[0.5555555555555556,\"#d8576b\"],[0.6666666666666666,\"#ed7953\"],[0.7777777777777778,\"#fb9f3a\"],[0.8888888888888888,\"#fdca26\"],[1.0,\"#f0f921\"]],\"diverging\":[[0,\"#8e0152\"],[0.1,\"#c51b7d\"],[0.2,\"#de77ae\"],[0.3,\"#f1b6da\"],[0.4,\"#fde0ef\"],[0.5,\"#f7f7f7\"],[0.6,\"#e6f5d0\"],[0.7,\"#b8e186\"],[0.8,\"#7fbc41\"],[0.9,\"#4d9221\"],[1,\"#276419\"]]},\"xaxis\":{\"gridcolor\":\"#EBF0F8\",\"linecolor\":\"#EBF0F8\",\"ticks\":\"\",\"title\":{\"standoff\":15},\"zerolinecolor\":\"#EBF0F8\",\"automargin\":true,\"zerolinewidth\":2},\"yaxis\":{\"gridcolor\":\"#EBF0F8\",\"linecolor\":\"#EBF0F8\",\"ticks\":\"\",\"title\":{\"standoff\":15},\"zerolinecolor\":\"#EBF0F8\",\"automargin\":true,\"zerolinewidth\":2},\"scene\":{\"xaxis\":{\"backgroundcolor\":\"white\",\"gridcolor\":\"#DFE8F3\",\"linecolor\":\"#EBF0F8\",\"showbackground\":true,\"ticks\":\"\",\"zerolinecolor\":\"#EBF0F8\",\"gridwidth\":2},\"yaxis\":{\"backgroundcolor\":\"white\",\"gridcolor\":\"#DFE8F3\",\"linecolor\":\"#EBF0F8\",\"showbackground\":true,\"ticks\":\"\",\"zerolinecolor\":\"#EBF0F8\",\"gridwidth\":2},\"zaxis\":{\"backgroundcolor\":\"white\",\"gridcolor\":\"#DFE8F3\",\"linecolor\":\"#EBF0F8\",\"showbackground\":true,\"ticks\":\"\",\"zerolinecolor\":\"#EBF0F8\",\"gridwidth\":2}},\"shapedefaults\":{\"line\":{\"color\":\"#2a3f5f\"}},\"annotationdefaults\":{\"arrowcolor\":\"#2a3f5f\",\"arrowhead\":0,\"arrowwidth\":1},\"geo\":{\"bgcolor\":\"white\",\"landcolor\":\"white\",\"subunitcolor\":\"#C8D4E3\",\"showland\":true,\"showlakes\":true,\"lakecolor\":\"white\"},\"title\":{\"x\":0.05},\"mapbox\":{\"style\":\"light\"}}},\"title\":{\"text\":\"Number of Matches Won By Runs(Batting 1st) Or Wickets(Batting 2nd)\"}},                        {\"responsive\": true}                    ).then(function(){\n",
       "                            \n",
       "var gd = document.getElementById('75ceed91-d950-4385-b19f-55ae75437c99');\n",
       "var x = new MutationObserver(function (mutations, observer) {{\n",
       "        var display = window.getComputedStyle(gd).display;\n",
       "        if (!display || display === 'none') {{\n",
       "            console.log([gd, 'removed!']);\n",
       "            Plotly.purge(gd);\n",
       "            observer.disconnect();\n",
       "        }}\n",
       "}});\n",
       "\n",
       "// Listen for the removal of the full notebook cells\n",
       "var notebookContainer = gd.closest('#notebook-container');\n",
       "if (notebookContainer) {{\n",
       "    x.observe(notebookContainer, {childList: true});\n",
       "}}\n",
       "\n",
       "// Listen for the clearing of the current output cell\n",
       "var outputEl = gd.closest('.output');\n",
       "if (outputEl) {{\n",
       "    x.observe(outputEl, {childList: true});\n",
       "}}\n",
       "\n",
       "                        })                };                });            </script>        </div>"
      ]
     },
     "metadata": {},
     "output_type": "display_data"
    }
   ],
   "source": [
    "result = data['result'].value_counts()\n",
    "label = result.index\n",
    "counts = result.values\n",
    "colors = ['gold', 'lightgreen']\n",
    "\n",
    "fig = go.Figure(data=[go.Pie(labels=label, values=counts)])\n",
    "fig.update_layout(title_text='Number of Matches Won By Runs(Batting 1st) Or Wickets(Batting 2nd)')\n",
    "fig.update_traces(hoverinfo='label+percent', textinfo='value', textfont_size=30,\n",
    "                  marker=dict(colors=colors, line=dict(color='black', width=3)))\n",
    "fig.show()"
   ]
  },
  {
   "cell_type": "code",
   "execution_count": 43,
   "id": "c9535f68-d149-41a9-921a-2fa3daad0d16",
   "metadata": {},
   "outputs": [
    {
     "data": {
      "application/vnd.plotly.v1+json": {
       "config": {
        "plotlyServerURL": "https://plot.ly"
       },
       "data": [
        {
         "hoverinfo": "label+percent",
         "labels": [
          "field",
          "bat"
         ],
         "marker": {
          "colors": [
           "skyblue",
           "yellow"
          ],
          "line": {
           "color": "black",
           "width": 3
          }
         },
         "textfont": {
          "size": 30
         },
         "textinfo": "value",
         "type": "pie",
         "values": [
          704,
          391
         ]
        }
       ],
       "layout": {
        "autosize": true,
        "template": {
         "data": {
          "bar": [
           {
            "error_x": {
             "color": "#2a3f5f"
            },
            "error_y": {
             "color": "#2a3f5f"
            },
            "marker": {
             "line": {
              "color": "white",
              "width": 0.5
             },
             "pattern": {
              "fillmode": "overlay",
              "size": 10,
              "solidity": 0.2
             }
            },
            "type": "bar"
           }
          ],
          "barpolar": [
           {
            "marker": {
             "line": {
              "color": "white",
              "width": 0.5
             },
             "pattern": {
              "fillmode": "overlay",
              "size": 10,
              "solidity": 0.2
             }
            },
            "type": "barpolar"
           }
          ],
          "carpet": [
           {
            "aaxis": {
             "endlinecolor": "#2a3f5f",
             "gridcolor": "#C8D4E3",
             "linecolor": "#C8D4E3",
             "minorgridcolor": "#C8D4E3",
             "startlinecolor": "#2a3f5f"
            },
            "baxis": {
             "endlinecolor": "#2a3f5f",
             "gridcolor": "#C8D4E3",
             "linecolor": "#C8D4E3",
             "minorgridcolor": "#C8D4E3",
             "startlinecolor": "#2a3f5f"
            },
            "type": "carpet"
           }
          ],
          "choropleth": [
           {
            "colorbar": {
             "outlinewidth": 0,
             "ticks": ""
            },
            "type": "choropleth"
           }
          ],
          "contour": [
           {
            "colorbar": {
             "outlinewidth": 0,
             "ticks": ""
            },
            "colorscale": [
             [
              0,
              "#0d0887"
             ],
             [
              0.1111111111111111,
              "#46039f"
             ],
             [
              0.2222222222222222,
              "#7201a8"
             ],
             [
              0.3333333333333333,
              "#9c179e"
             ],
             [
              0.4444444444444444,
              "#bd3786"
             ],
             [
              0.5555555555555556,
              "#d8576b"
             ],
             [
              0.6666666666666666,
              "#ed7953"
             ],
             [
              0.7777777777777778,
              "#fb9f3a"
             ],
             [
              0.8888888888888888,
              "#fdca26"
             ],
             [
              1,
              "#f0f921"
             ]
            ],
            "type": "contour"
           }
          ],
          "contourcarpet": [
           {
            "colorbar": {
             "outlinewidth": 0,
             "ticks": ""
            },
            "type": "contourcarpet"
           }
          ],
          "heatmap": [
           {
            "colorbar": {
             "outlinewidth": 0,
             "ticks": ""
            },
            "colorscale": [
             [
              0,
              "#0d0887"
             ],
             [
              0.1111111111111111,
              "#46039f"
             ],
             [
              0.2222222222222222,
              "#7201a8"
             ],
             [
              0.3333333333333333,
              "#9c179e"
             ],
             [
              0.4444444444444444,
              "#bd3786"
             ],
             [
              0.5555555555555556,
              "#d8576b"
             ],
             [
              0.6666666666666666,
              "#ed7953"
             ],
             [
              0.7777777777777778,
              "#fb9f3a"
             ],
             [
              0.8888888888888888,
              "#fdca26"
             ],
             [
              1,
              "#f0f921"
             ]
            ],
            "type": "heatmap"
           }
          ],
          "heatmapgl": [
           {
            "colorbar": {
             "outlinewidth": 0,
             "ticks": ""
            },
            "colorscale": [
             [
              0,
              "#0d0887"
             ],
             [
              0.1111111111111111,
              "#46039f"
             ],
             [
              0.2222222222222222,
              "#7201a8"
             ],
             [
              0.3333333333333333,
              "#9c179e"
             ],
             [
              0.4444444444444444,
              "#bd3786"
             ],
             [
              0.5555555555555556,
              "#d8576b"
             ],
             [
              0.6666666666666666,
              "#ed7953"
             ],
             [
              0.7777777777777778,
              "#fb9f3a"
             ],
             [
              0.8888888888888888,
              "#fdca26"
             ],
             [
              1,
              "#f0f921"
             ]
            ],
            "type": "heatmapgl"
           }
          ],
          "histogram": [
           {
            "marker": {
             "pattern": {
              "fillmode": "overlay",
              "size": 10,
              "solidity": 0.2
             }
            },
            "type": "histogram"
           }
          ],
          "histogram2d": [
           {
            "colorbar": {
             "outlinewidth": 0,
             "ticks": ""
            },
            "colorscale": [
             [
              0,
              "#0d0887"
             ],
             [
              0.1111111111111111,
              "#46039f"
             ],
             [
              0.2222222222222222,
              "#7201a8"
             ],
             [
              0.3333333333333333,
              "#9c179e"
             ],
             [
              0.4444444444444444,
              "#bd3786"
             ],
             [
              0.5555555555555556,
              "#d8576b"
             ],
             [
              0.6666666666666666,
              "#ed7953"
             ],
             [
              0.7777777777777778,
              "#fb9f3a"
             ],
             [
              0.8888888888888888,
              "#fdca26"
             ],
             [
              1,
              "#f0f921"
             ]
            ],
            "type": "histogram2d"
           }
          ],
          "histogram2dcontour": [
           {
            "colorbar": {
             "outlinewidth": 0,
             "ticks": ""
            },
            "colorscale": [
             [
              0,
              "#0d0887"
             ],
             [
              0.1111111111111111,
              "#46039f"
             ],
             [
              0.2222222222222222,
              "#7201a8"
             ],
             [
              0.3333333333333333,
              "#9c179e"
             ],
             [
              0.4444444444444444,
              "#bd3786"
             ],
             [
              0.5555555555555556,
              "#d8576b"
             ],
             [
              0.6666666666666666,
              "#ed7953"
             ],
             [
              0.7777777777777778,
              "#fb9f3a"
             ],
             [
              0.8888888888888888,
              "#fdca26"
             ],
             [
              1,
              "#f0f921"
             ]
            ],
            "type": "histogram2dcontour"
           }
          ],
          "mesh3d": [
           {
            "colorbar": {
             "outlinewidth": 0,
             "ticks": ""
            },
            "type": "mesh3d"
           }
          ],
          "parcoords": [
           {
            "line": {
             "colorbar": {
              "outlinewidth": 0,
              "ticks": ""
             }
            },
            "type": "parcoords"
           }
          ],
          "pie": [
           {
            "automargin": true,
            "type": "pie"
           }
          ],
          "scatter": [
           {
            "fillpattern": {
             "fillmode": "overlay",
             "size": 10,
             "solidity": 0.2
            },
            "type": "scatter"
           }
          ],
          "scatter3d": [
           {
            "line": {
             "colorbar": {
              "outlinewidth": 0,
              "ticks": ""
             }
            },
            "marker": {
             "colorbar": {
              "outlinewidth": 0,
              "ticks": ""
             }
            },
            "type": "scatter3d"
           }
          ],
          "scattercarpet": [
           {
            "marker": {
             "colorbar": {
              "outlinewidth": 0,
              "ticks": ""
             }
            },
            "type": "scattercarpet"
           }
          ],
          "scattergeo": [
           {
            "marker": {
             "colorbar": {
              "outlinewidth": 0,
              "ticks": ""
             }
            },
            "type": "scattergeo"
           }
          ],
          "scattergl": [
           {
            "marker": {
             "colorbar": {
              "outlinewidth": 0,
              "ticks": ""
             }
            },
            "type": "scattergl"
           }
          ],
          "scattermapbox": [
           {
            "marker": {
             "colorbar": {
              "outlinewidth": 0,
              "ticks": ""
             }
            },
            "type": "scattermapbox"
           }
          ],
          "scatterpolar": [
           {
            "marker": {
             "colorbar": {
              "outlinewidth": 0,
              "ticks": ""
             }
            },
            "type": "scatterpolar"
           }
          ],
          "scatterpolargl": [
           {
            "marker": {
             "colorbar": {
              "outlinewidth": 0,
              "ticks": ""
             }
            },
            "type": "scatterpolargl"
           }
          ],
          "scatterternary": [
           {
            "marker": {
             "colorbar": {
              "outlinewidth": 0,
              "ticks": ""
             }
            },
            "type": "scatterternary"
           }
          ],
          "surface": [
           {
            "colorbar": {
             "outlinewidth": 0,
             "ticks": ""
            },
            "colorscale": [
             [
              0,
              "#0d0887"
             ],
             [
              0.1111111111111111,
              "#46039f"
             ],
             [
              0.2222222222222222,
              "#7201a8"
             ],
             [
              0.3333333333333333,
              "#9c179e"
             ],
             [
              0.4444444444444444,
              "#bd3786"
             ],
             [
              0.5555555555555556,
              "#d8576b"
             ],
             [
              0.6666666666666666,
              "#ed7953"
             ],
             [
              0.7777777777777778,
              "#fb9f3a"
             ],
             [
              0.8888888888888888,
              "#fdca26"
             ],
             [
              1,
              "#f0f921"
             ]
            ],
            "type": "surface"
           }
          ],
          "table": [
           {
            "cells": {
             "fill": {
              "color": "#EBF0F8"
             },
             "line": {
              "color": "white"
             }
            },
            "header": {
             "fill": {
              "color": "#C8D4E3"
             },
             "line": {
              "color": "white"
             }
            },
            "type": "table"
           }
          ]
         },
         "layout": {
          "annotationdefaults": {
           "arrowcolor": "#2a3f5f",
           "arrowhead": 0,
           "arrowwidth": 1
          },
          "autotypenumbers": "strict",
          "coloraxis": {
           "colorbar": {
            "outlinewidth": 0,
            "ticks": ""
           }
          },
          "colorscale": {
           "diverging": [
            [
             0,
             "#8e0152"
            ],
            [
             0.1,
             "#c51b7d"
            ],
            [
             0.2,
             "#de77ae"
            ],
            [
             0.3,
             "#f1b6da"
            ],
            [
             0.4,
             "#fde0ef"
            ],
            [
             0.5,
             "#f7f7f7"
            ],
            [
             0.6,
             "#e6f5d0"
            ],
            [
             0.7,
             "#b8e186"
            ],
            [
             0.8,
             "#7fbc41"
            ],
            [
             0.9,
             "#4d9221"
            ],
            [
             1,
             "#276419"
            ]
           ],
           "sequential": [
            [
             0,
             "#0d0887"
            ],
            [
             0.1111111111111111,
             "#46039f"
            ],
            [
             0.2222222222222222,
             "#7201a8"
            ],
            [
             0.3333333333333333,
             "#9c179e"
            ],
            [
             0.4444444444444444,
             "#bd3786"
            ],
            [
             0.5555555555555556,
             "#d8576b"
            ],
            [
             0.6666666666666666,
             "#ed7953"
            ],
            [
             0.7777777777777778,
             "#fb9f3a"
            ],
            [
             0.8888888888888888,
             "#fdca26"
            ],
            [
             1,
             "#f0f921"
            ]
           ],
           "sequentialminus": [
            [
             0,
             "#0d0887"
            ],
            [
             0.1111111111111111,
             "#46039f"
            ],
            [
             0.2222222222222222,
             "#7201a8"
            ],
            [
             0.3333333333333333,
             "#9c179e"
            ],
            [
             0.4444444444444444,
             "#bd3786"
            ],
            [
             0.5555555555555556,
             "#d8576b"
            ],
            [
             0.6666666666666666,
             "#ed7953"
            ],
            [
             0.7777777777777778,
             "#fb9f3a"
            ],
            [
             0.8888888888888888,
             "#fdca26"
            ],
            [
             1,
             "#f0f921"
            ]
           ]
          },
          "colorway": [
           "#636efa",
           "#EF553B",
           "#00cc96",
           "#ab63fa",
           "#FFA15A",
           "#19d3f3",
           "#FF6692",
           "#B6E880",
           "#FF97FF",
           "#FECB52"
          ],
          "font": {
           "color": "#2a3f5f"
          },
          "geo": {
           "bgcolor": "white",
           "lakecolor": "white",
           "landcolor": "white",
           "showlakes": true,
           "showland": true,
           "subunitcolor": "#C8D4E3"
          },
          "hoverlabel": {
           "align": "left"
          },
          "hovermode": "closest",
          "mapbox": {
           "style": "light"
          },
          "paper_bgcolor": "white",
          "plot_bgcolor": "white",
          "polar": {
           "angularaxis": {
            "gridcolor": "#EBF0F8",
            "linecolor": "#EBF0F8",
            "ticks": ""
           },
           "bgcolor": "white",
           "radialaxis": {
            "gridcolor": "#EBF0F8",
            "linecolor": "#EBF0F8",
            "ticks": ""
           }
          },
          "scene": {
           "xaxis": {
            "backgroundcolor": "white",
            "gridcolor": "#DFE8F3",
            "gridwidth": 2,
            "linecolor": "#EBF0F8",
            "showbackground": true,
            "ticks": "",
            "zerolinecolor": "#EBF0F8"
           },
           "yaxis": {
            "backgroundcolor": "white",
            "gridcolor": "#DFE8F3",
            "gridwidth": 2,
            "linecolor": "#EBF0F8",
            "showbackground": true,
            "ticks": "",
            "zerolinecolor": "#EBF0F8"
           },
           "zaxis": {
            "backgroundcolor": "white",
            "gridcolor": "#DFE8F3",
            "gridwidth": 2,
            "linecolor": "#EBF0F8",
            "showbackground": true,
            "ticks": "",
            "zerolinecolor": "#EBF0F8"
           }
          },
          "shapedefaults": {
           "line": {
            "color": "#2a3f5f"
           }
          },
          "ternary": {
           "aaxis": {
            "gridcolor": "#DFE8F3",
            "linecolor": "#A2B1C6",
            "ticks": ""
           },
           "baxis": {
            "gridcolor": "#DFE8F3",
            "linecolor": "#A2B1C6",
            "ticks": ""
           },
           "bgcolor": "white",
           "caxis": {
            "gridcolor": "#DFE8F3",
            "linecolor": "#A2B1C6",
            "ticks": ""
           }
          },
          "title": {
           "x": 0.05
          },
          "xaxis": {
           "automargin": true,
           "gridcolor": "#EBF0F8",
           "linecolor": "#EBF0F8",
           "ticks": "",
           "title": {
            "standoff": 15
           },
           "zerolinecolor": "#EBF0F8",
           "zerolinewidth": 2
          },
          "yaxis": {
           "automargin": true,
           "gridcolor": "#EBF0F8",
           "linecolor": "#EBF0F8",
           "ticks": "",
           "title": {
            "standoff": 15
           },
           "zerolinecolor": "#EBF0F8",
           "zerolinewidth": 2
          }
         }
        },
        "title": {
         "text": "Toss Decisions IPL"
        }
       }
      },
      "image/png": "[encoded data removed]",
      "text/html": [
       "<div>                            <div id=\"14fe5109-c98a-486a-84df-df8834980929\" class=\"plotly-graph-div\" style=\"height:525px; width:100%;\"></div>            <script type=\"text/javascript\">                require([\"plotly\"], function(Plotly) {                    window.PLOTLYENV=window.PLOTLYENV || {};                                    if (document.getElementById(\"14fe5109-c98a-486a-84df-df8834980929\")) {                    Plotly.newPlot(                        \"14fe5109-c98a-486a-84df-df8834980929\",                        [{\"labels\":[\"field\",\"bat\"],\"values\":[704,391],\"type\":\"pie\",\"textfont\":{\"size\":30},\"marker\":{\"line\":{\"color\":\"black\",\"width\":3},\"colors\":[\"skyblue\",\"yellow\"]},\"hoverinfo\":\"label+percent\",\"textinfo\":\"value\"}],                        {\"template\":{\"data\":{\"histogram2dcontour\":[{\"type\":\"histogram2dcontour\",\"colorbar\":{\"outlinewidth\":0,\"ticks\":\"\"},\"colorscale\":[[0.0,\"#0d0887\"],[0.1111111111111111,\"#46039f\"],[0.2222222222222222,\"#7201a8\"],[0.3333333333333333,\"#9c179e\"],[0.4444444444444444,\"#bd3786\"],[0.5555555555555556,\"#d8576b\"],[0.6666666666666666,\"#ed7953\"],[0.7777777777777778,\"#fb9f3a\"],[0.8888888888888888,\"#fdca26\"],[1.0,\"#f0f921\"]]}],\"choropleth\":[{\"type\":\"choropleth\",\"colorbar\":{\"outlinewidth\":0,\"ticks\":\"\"}}],\"histogram2d\":[{\"type\":\"histogram2d\",\"colorbar\":{\"outlinewidth\":0,\"ticks\":\"\"},\"colorscale\":[[0.0,\"#0d0887\"],[0.1111111111111111,\"#46039f\"],[0.2222222222222222,\"#7201a8\"],[0.3333333333333333,\"#9c179e\"],[0.4444444444444444,\"#bd3786\"],[0.5555555555555556,\"#d8576b\"],[0.6666666666666666,\"#ed7953\"],[0.7777777777777778,\"#fb9f3a\"],[0.8888888888888888,\"#fdca26\"],[1.0,\"#f0f921\"]]}],\"heatmap\":[{\"type\":\"heatmap\",\"colorbar\":{\"outlinewidth\":0,\"ticks\":\"\"},\"colorscale\":[[0.0,\"#0d0887\"],[0.1111111111111111,\"#46039f\"],[0.2222222222222222,\"#7201a8\"],[0.3333333333333333,\"#9c179e\"],[0.4444444444444444,\"#bd3786\"],[0.5555555555555556,\"#d8576b\"],[0.6666666666666666,\"#ed7953\"],[0.7777777777777778,\"#fb9f3a\"],[0.8888888888888888,\"#fdca26\"],[1.0,\"#f0f921\"]]}],\"heatmapgl\":[{\"type\":\"heatmapgl\",\"colorbar\":{\"outlinewidth\":0,\"ticks\":\"\"},\"colorscale\":[[0.0,\"#0d0887\"],[0.1111111111111111,\"#46039f\"],[0.2222222222222222,\"#7201a8\"],[0.3333333333333333,\"#9c179e\"],[0.4444444444444444,\"#bd3786\"],[0.5555555555555556,\"#d8576b\"],[0.6666666666666666,\"#ed7953\"],[0.7777777777777778,\"#fb9f3a\"],[0.8888888888888888,\"#fdca26\"],[1.0,\"#f0f921\"]]}],\"contourcarpet\":[{\"type\":\"contourcarpet\",\"colorbar\":{\"outlinewidth\":0,\"ticks\":\"\"}}],\"contour\":[{\"type\":\"contour\",\"colorbar\":{\"outlinewidth\":0,\"ticks\":\"\"},\"colorscale\":[[0.0,\"#0d0887\"],[0.1111111111111111,\"#46039f\"],[0.2222222222222222,\"#7201a8\"],[0.3333333333333333,\"#9c179e\"],[0.4444444444444444,\"#bd3786\"],[0.5555555555555556,\"#d8576b\"],[0.6666666666666666,\"#ed7953\"],[0.7777777777777778,\"#fb9f3a\"],[0.8888888888888888,\"#fdca26\"],[1.0,\"#f0f921\"]]}],\"surface\":[{\"type\":\"surface\",\"colorbar\":{\"outlinewidth\":0,\"ticks\":\"\"},\"colorscale\":[[0.0,\"#0d0887\"],[0.1111111111111111,\"#46039f\"],[0.2222222222222222,\"#7201a8\"],[0.3333333333333333,\"#9c179e\"],[0.4444444444444444,\"#bd3786\"],[0.5555555555555556,\"#d8576b\"],[0.6666666666666666,\"#ed7953\"],[0.7777777777777778,\"#fb9f3a\"],[0.8888888888888888,\"#fdca26\"],[1.0,\"#f0f921\"]]}],\"mesh3d\":[{\"type\":\"mesh3d\",\"colorbar\":{\"outlinewidth\":0,\"ticks\":\"\"}}],\"scatter\":[{\"fillpattern\":{\"fillmode\":\"overlay\",\"size\":10,\"solidity\":0.2},\"type\":\"scatter\"}],\"parcoords\":[{\"type\":\"parcoords\",\"line\":{\"colorbar\":{\"outlinewidth\":0,\"ticks\":\"\"}}}],\"scatterpolargl\":[{\"type\":\"scatterpolargl\",\"marker\":{\"colorbar\":{\"outlinewidth\":0,\"ticks\":\"\"}}}],\"bar\":[{\"error_x\":{\"color\":\"#2a3f5f\"},\"error_y\":{\"color\":\"#2a3f5f\"},\"marker\":{\"line\":{\"color\":\"white\",\"width\":0.5},\"pattern\":{\"fillmode\":\"overlay\",\"size\":10,\"solidity\":0.2}},\"type\":\"bar\"}],\"scattergeo\":[{\"type\":\"scattergeo\",\"marker\":{\"colorbar\":{\"outlinewidth\":0,\"ticks\":\"\"}}}],\"scatterpolar\":[{\"type\":\"scatterpolar\",\"marker\":{\"colorbar\":{\"outlinewidth\":0,\"ticks\":\"\"}}}],\"histogram\":[{\"marker\":{\"pattern\":{\"fillmode\":\"overlay\",\"size\":10,\"solidity\":0.2}},\"type\":\"histogram\"}],\"scattergl\":[{\"type\":\"scattergl\",\"marker\":{\"colorbar\":{\"outlinewidth\":0,\"ticks\":\"\"}}}],\"scatter3d\":[{\"type\":\"scatter3d\",\"line\":{\"colorbar\":{\"outlinewidth\":0,\"ticks\":\"\"}},\"marker\":{\"colorbar\":{\"outlinewidth\":0,\"ticks\":\"\"}}}],\"scattermapbox\":[{\"type\":\"scattermapbox\",\"marker\":{\"colorbar\":{\"outlinewidth\":0,\"ticks\":\"\"}}}],\"scatterternary\":[{\"type\":\"scatterternary\",\"marker\":{\"colorbar\":{\"outlinewidth\":0,\"ticks\":\"\"}}}],\"scattercarpet\":[{\"type\":\"scattercarpet\",\"marker\":{\"colorbar\":{\"outlinewidth\":0,\"ticks\":\"\"}}}],\"carpet\":[{\"aaxis\":{\"endlinecolor\":\"#2a3f5f\",\"gridcolor\":\"#C8D4E3\",\"linecolor\":\"#C8D4E3\",\"minorgridcolor\":\"#C8D4E3\",\"startlinecolor\":\"#2a3f5f\"},\"baxis\":{\"endlinecolor\":\"#2a3f5f\",\"gridcolor\":\"#C8D4E3\",\"linecolor\":\"#C8D4E3\",\"minorgridcolor\":\"#C8D4E3\",\"startlinecolor\":\"#2a3f5f\"},\"type\":\"carpet\"}],\"table\":[{\"cells\":{\"fill\":{\"color\":\"#EBF0F8\"},\"line\":{\"color\":\"white\"}},\"header\":{\"fill\":{\"color\":\"#C8D4E3\"},\"line\":{\"color\":\"white\"}},\"type\":\"table\"}],\"barpolar\":[{\"marker\":{\"line\":{\"color\":\"white\",\"width\":0.5},\"pattern\":{\"fillmode\":\"overlay\",\"size\":10,\"solidity\":0.2}},\"type\":\"barpolar\"}],\"pie\":[{\"automargin\":true,\"type\":\"pie\"}]},\"layout\":{\"autotypenumbers\":\"strict\",\"colorway\":[\"#636efa\",\"#EF553B\",\"#00cc96\",\"#ab63fa\",\"#FFA15A\",\"#19d3f3\",\"#FF6692\",\"#B6E880\",\"#FF97FF\",\"#FECB52\"],\"font\":{\"color\":\"#2a3f5f\"},\"hovermode\":\"closest\",\"hoverlabel\":{\"align\":\"left\"},\"paper_bgcolor\":\"white\",\"plot_bgcolor\":\"white\",\"polar\":{\"bgcolor\":\"white\",\"angularaxis\":{\"gridcolor\":\"#EBF0F8\",\"linecolor\":\"#EBF0F8\",\"ticks\":\"\"},\"radialaxis\":{\"gridcolor\":\"#EBF0F8\",\"linecolor\":\"#EBF0F8\",\"ticks\":\"\"}},\"ternary\":{\"bgcolor\":\"white\",\"aaxis\":{\"gridcolor\":\"#DFE8F3\",\"linecolor\":\"#A2B1C6\",\"ticks\":\"\"},\"baxis\":{\"gridcolor\":\"#DFE8F3\",\"linecolor\":\"#A2B1C6\",\"ticks\":\"\"},\"caxis\":{\"gridcolor\":\"#DFE8F3\",\"linecolor\":\"#A2B1C6\",\"ticks\":\"\"}},\"coloraxis\":{\"colorbar\":{\"outlinewidth\":0,\"ticks\":\"\"}},\"colorscale\":{\"sequential\":[[0.0,\"#0d0887\"],[0.1111111111111111,\"#46039f\"],[0.2222222222222222,\"#7201a8\"],[0.3333333333333333,\"#9c179e\"],[0.4444444444444444,\"#bd3786\"],[0.5555555555555556,\"#d8576b\"],[0.6666666666666666,\"#ed7953\"],[0.7777777777777778,\"#fb9f3a\"],[0.8888888888888888,\"#fdca26\"],[1.0,\"#f0f921\"]],\"sequentialminus\":[[0.0,\"#0d0887\"],[0.1111111111111111,\"#46039f\"],[0.2222222222222222,\"#7201a8\"],[0.3333333333333333,\"#9c179e\"],[0.4444444444444444,\"#bd3786\"],[0.5555555555555556,\"#d8576b\"],[0.6666666666666666,\"#ed7953\"],[0.7777777777777778,\"#fb9f3a\"],[0.8888888888888888,\"#fdca26\"],[1.0,\"#f0f921\"]],\"diverging\":[[0,\"#8e0152\"],[0.1,\"#c51b7d\"],[0.2,\"#de77ae\"],[0.3,\"#f1b6da\"],[0.4,\"#fde0ef\"],[0.5,\"#f7f7f7\"],[0.6,\"#e6f5d0\"],[0.7,\"#b8e186\"],[0.8,\"#7fbc41\"],[0.9,\"#4d9221\"],[1,\"#276419\"]]},\"xaxis\":{\"gridcolor\":\"#EBF0F8\",\"linecolor\":\"#EBF0F8\",\"ticks\":\"\",\"title\":{\"standoff\":15},\"zerolinecolor\":\"#EBF0F8\",\"automargin\":true,\"zerolinewidth\":2},\"yaxis\":{\"gridcolor\":\"#EBF0F8\",\"linecolor\":\"#EBF0F8\",\"ticks\":\"\",\"title\":{\"standoff\":15},\"zerolinecolor\":\"#EBF0F8\",\"automargin\":true,\"zerolinewidth\":2},\"scene\":{\"xaxis\":{\"backgroundcolor\":\"white\",\"gridcolor\":\"#DFE8F3\",\"linecolor\":\"#EBF0F8\",\"showbackground\":true,\"ticks\":\"\",\"zerolinecolor\":\"#EBF0F8\",\"gridwidth\":2},\"yaxis\":{\"backgroundcolor\":\"white\",\"gridcolor\":\"#DFE8F3\",\"linecolor\":\"#EBF0F8\",\"showbackground\":true,\"ticks\":\"\",\"zerolinecolor\":\"#EBF0F8\",\"gridwidth\":2},\"zaxis\":{\"backgroundcolor\":\"white\",\"gridcolor\":\"#DFE8F3\",\"linecolor\":\"#EBF0F8\",\"showbackground\":true,\"ticks\":\"\",\"zerolinecolor\":\"#EBF0F8\",\"gridwidth\":2}},\"shapedefaults\":{\"line\":{\"color\":\"#2a3f5f\"}},\"annotationdefaults\":{\"arrowcolor\":\"#2a3f5f\",\"arrowhead\":0,\"arrowwidth\":1},\"geo\":{\"bgcolor\":\"white\",\"landcolor\":\"white\",\"subunitcolor\":\"#C8D4E3\",\"showland\":true,\"showlakes\":true,\"lakecolor\":\"white\"},\"title\":{\"x\":0.05},\"mapbox\":{\"style\":\"light\"}}},\"title\":{\"text\":\"Toss Decisions IPL\"}},                        {\"responsive\": true}                    ).then(function(){\n",
       "                            \n",
       "var gd = document.getElementById('14fe5109-c98a-486a-84df-df8834980929');\n",
       "var x = new MutationObserver(function (mutations, observer) {{\n",
       "        var display = window.getComputedStyle(gd).display;\n",
       "        if (!display || display === 'none') {{\n",
       "            console.log([gd, 'removed!']);\n",
       "            Plotly.purge(gd);\n",
       "            observer.disconnect();\n",
       "        }}\n",
       "}});\n",
       "\n",
       "// Listen for the removal of the full notebook cells\n",
       "var notebookContainer = gd.closest('#notebook-container');\n",
       "if (notebookContainer) {{\n",
       "    x.observe(notebookContainer, {childList: true});\n",
       "}}\n",
       "\n",
       "// Listen for the clearing of the current output cell\n",
       "var outputEl = gd.closest('.output');\n",
       "if (outputEl) {{\n",
       "    x.observe(outputEl, {childList: true});\n",
       "}}\n",
       "\n",
       "                        })                };                });            </script>        </div>"
      ]
     },
     "metadata": {},
     "output_type": "display_data"
    }
   ],
   "source": [
    "toss = data['toss_decision'].value_counts()\n",
    "label = toss.index\n",
    "counts = toss.values\n",
    "colors = ['skyblue', 'yellow']\n",
    "\n",
    "fig = go.Figure(data=[go.Pie(labels=label, values=counts)])\n",
    "fig.update_layout(title_text='Toss Decisions IPL')\n",
    "fig.update_traces(hoverinfo='label+percent', textinfo='value', textfont_size=30,\n",
    "                  marker=dict(colors=colors, line=dict(color='black', width=3)))\n",
    "fig.show()"
   ]
  },
  {
   "cell_type": "code",
   "execution_count": 49,
   "id": "704ab937-2c6c-4069-8e06-cc3df324448f",
   "metadata": {},
   "outputs": [
    {
     "data": {
      "application/vnd.plotly.v1+json": {
       "config": {
        "plotlyServerURL": "https://plot.ly"
       },
       "data": [
        {
         "alignmentgroup": "True",
         "hovertemplate": "target_runs=%{marker.color}<br>target_overs=%{y}<extra></extra>",
         "legendgroup": "",
         "marker": {
          "color": [
           223,
           241,
           130,
           166,
           111,
           167,
           143,
           209,
           215,
           183,
           136,
           148,
           155,
           159,
           179,
           138,
           192,
           165,
           197,
           170,
           179,
           157,
           163,
           110,
           127,
           145,
           104,
           188,
           130,
           141,
           182,
           205,
           157,
           144,
           134,
           157,
           195,
           68,
           89,
           198,
           179,
           53,
           155,
           148,
           190,
           127,
           176,
           177,
           212,
           166,
           175,
           146,
           148,
           123,
           222,
           193,
           113,
           164,
           166,
           134,
           54,
           102,
           180,
           69,
           185,
           190,
           151,
           169,
           169,
           150,
           140,
           166,
           188,
           144,
           140,
           120,
           149,
           165,
           149,
           146,
           142,
           164,
           154,
           150,
           179,
           212,
           155,
           146,
           106,
           187,
           117,
           169,
           141,
           158,
           124,
           167,
           174,
           120,
           174,
           130,
           146,
           121,
           148,
           161,
           135,
           151,
           189,
           135,
           102,
           117,
           166,
           171,
           154,
           147,
           144,
           162,
           213,
           143,
           136,
           191,
           142,
           204,
           165,
           219,
           93,
           186,
           171,
           169,
           152,
           172,
           137,
           156,
           172,
           184,
           181,
           184,
           149,
           184,
           178,
           173,
           178,
           164,
           162,
           189,
           182,
           182,
           247,
           179,
           201,
           185,
           160,
           166,
           154,
           182,
           185,
           155,
           139,
           161,
           112,
           175,
           152,
           184,
           140,
           131,
           113,
           175,
           192,
           133,
           193,
           146,
           134,
           185,
           143,
           83,
           169,
           154,
           138,
           162,
           96,
           113,
           164,
           152,
           141,
           189,
           149,
           176,
           160,
           183,
           184,
           166,
           188,
           82,
           135,
           169,
           119,
           133,
           196,
           165,
           172,
           232,
           173,
           110,
           143,
           161,
           142,
           130,
           149,
           95,
           182,
           158,
           120,
           144,
           166,
           160,
           141,
           170,
           148,
           161,
           157,
           176,
           206,
           52,
           179,
           126,
           120,
           197,
           137,
           164,
           147,
           177,
           179,
           102,
           136,
           171,
           98,
           137,
           233,
           153,
           119,
           134,
           199,
           null,
           129,
           176,
           176,
           148,
           186,
           206,
           113,
           98,
           130,
           192,
           158,
           194,
           165,
           167,
           139,
           166,
           111,
           198,
           206,
           116,
           132,
           156,
           135,
           196,
           93,
           197,
           183,
           125,
           158,
           165,
           164,
           147,
           193,
           164,
           127,
           190,
           147,
           169,
           178,
           208,
           157,
           191,
           153,
           101,
           140,
           187,
           142,
           159,
           121,
           161,
           151,
           178,
           174,
           182,
           154,
           126,
           171,
           142,
           188,
           127,
           174,
           183,
           115,
           171,
           191,
           172,
           159,
           137,
           141,
           121,
           216,
           127,
           142,
           137,
           133,
           163,
           163,
           188,
           223,
           191,
           129,
           157,
           127,
           166,
           149,
           100,
           131,
           145,
           210,
           162,
           139,
           155,
           146,
           115,
           184,
           166,
           181,
           125,
           160,
           158,
           153,
           120,
           180,
           170,
           124,
           120,
           118,
           162,
           186,
           186,
           264,
           121,
           160,
           160,
           150,
           145,
           195,
           201,
           165,
           172,
           175,
           165,
           130,
           137,
           187,
           188,
           133,
           81,
           140,
           179,
           191,
           155,
           171,
           224,
           146,
           153,
           184,
           113,
           151,
           116,
           142,
           179,
           175,
           169,
           171,
           167,
           172,
           137,
           184,
           107,
           173,
           131,
           193,
           133,
           166,
           149,
           164,
           146,
           206,
           134,
           116,
           167,
           192,
           178,
           194,
           141,
           151,
           185,
           142,
           71,
           133,
           126,
           146,
           125,
           153,
           173,
           149,
           169,
           153,
           156,
           171,
           179,
           188,
           161,
           232,
           135,
           199,
           43,
           158,
           150,
           191,
           158,
           149,
           187,
           206,
           142,
           202,
           139,
           143,
           179,
           165,
           161,
           155,
           157,
           196,
           186,
           174,
           180,
           155,
           161,
           116,
           190,
           164,
           174,
           227,
           200,
           169,
           151,
           163,
           210,
           178,
           185,
           178,
           167,
           165,
           166,
           128,
           184,
           168,
           156,
           157,
           210,
           147,
           192,
           118,
           182,
           191,
           131,
           158,
           193,
           96,
           151,
           135,
           null,
           166,
           119,
           188,
           112,
           193,
           173,
           190,
           149,
           168,
           153,
           227,
           172,
           202,
           159,
           184,
           164,
           236,
           158,
           186,
           120,
           107,
           172,
           81,
           131,
           200,
           188,
           114,
           188,
           181,
           140,
           203,
           122,
           99,
           162,
           228,
           188,
           164,
           112,
           143,
           144,
           153,
           192,
           143,
           139,
           171,
           136,
           186,
           165,
           144,
           181,
           161,
           190,
           61,
           173,
           175,
           196,
           187,
           195,
           155,
           160,
           186,
           150,
           165,
           163,
           127,
           192,
           182,
           178,
           159,
           176,
           138,
           152,
           147,
           125,
           249,
           66,
           180,
           207,
           184,
           58,
           203,
           125,
           159,
           173,
           173,
           172,
           139,
           159,
           163,
           163,
           209,
           208,
           185,
           184,
           164,
           158,
           136,
           179,
           149,
           206,
           159,
           171,
           143,
           172,
           173,
           189,
           177,
           162,
           169,
           160,
           214,
           192,
           199,
           188,
           143,
           177,
           189,
           132,
           161,
           183,
           135,
           161,
           208,
           158,
           154,
           68,
           210,
           163,
           162,
           186,
           156,
           209,
           139,
           149,
           213,
           159,
           190,
           139,
           168,
           196,
           231,
           169,
           155,
           174,
           74,
           162,
           163,
           48,
           108,
           130,
           166,
           167,
           177,
           126,
           203,
           71,
           148,
           156,
           195,
           139,
           218,
           198,
           201,
           214,
           161,
           194,
           205,
           125,
           175,
           183,
           168,
           144,
           119,
           206,
           133,
           220,
           170,
           152,
           176,
           212,
           168,
           151,
           178,
           175,
           128,
           164,
           182,
           153,
           147,
           159,
           211,
           188,
           177,
           246,
           182,
           180,
           169,
           89,
           143,
           187,
           219,
           163,
           165,
           173,
           175,
           154,
           140,
           170,
           175,
           179,
           71,
           182,
           214,
           185,
           148,
           219,
           188,
           199,
           177,
           186,
           232,
           176,
           167,
           159,
           171,
           130,
           206,
           161,
           137,
           150,
           140,
           151,
           109,
           198,
           152,
           179,
           188,
           174,
           162,
           156,
           172,
           183,
           133,
           169,
           214,
           162,
           164,
           160,
           162,
           192,
           176,
           203,
           176,
           156,
           161,
           188,
           233,
           213,
           63,
           180,
           163,
           184,
           116,
           176,
           171,
           134,
           132,
           163,
           148,
           150,
           163,
           158,
           164,
           217,
           196,
           207,
           176,
           143,
           224,
           202,
           163,
           175,
           192,
           165,
           155,
           229,
           179,
           209,
           197,
           194,
           168,
           202,
           185,
           165,
           170,
           159,
           163,
           195,
           168,
           162,
           172,
           149,
           180,
           178,
           164,
           177,
           126,
           165,
           85,
           155,
           115,
           195,
           127,
           196,
           146,
           150,
           220,
           165,
           173,
           186,
           121,
           111,
           154,
           192,
           153,
           150,
           201,
           132,
           190,
           157,
           160,
           189,
           188,
           222,
           153,
           150,
           148,
           107,
           151,
           205,
           196,
           189,
           138,
           121,
           221,
           178,
           132,
           134,
           192,
           160,
           124,
           172,
           172,
           172,
           155,
           180,
           219,
           221,
           167,
           157,
           93,
           186,
           135,
           156,
           157,
           155,
           126,
           172,
           166,
           165,
           128,
           136,
           150,
           135,
           166,
           190,
           130,
           165,
           116,
           137,
           91,
           142,
           135,
           172,
           236,
           165,
           173,
           139,
           136,
           193,
           132,
           178,
           206,
           159,
           211,
           129,
           211,
           138,
           194,
           172,
           181,
           170,
           170,
           162,
           150,
           190,
           155,
           152,
           216,
           166,
           163,
           217,
           199,
           193,
           176,
           200,
           190,
           152,
           170,
           218,
           182,
           116,
           156,
           223,
           157,
           69,
           169,
           188,
           145,
           196,
           147,
           154,
           171,
           159,
           196,
           203,
           153,
           144,
           174,
           208,
           178,
           190,
           177,
           193,
           209,
           166,
           145,
           161,
           98,
           210,
           178,
           134,
           179,
           160,
           194,
           211,
           169,
           151,
           160,
           158,
           189,
           208,
           158,
           131,
           179,
           154,
           194,
           204,
           172,
           218,
           163,
           198,
           205,
           122,
           200,
           158,
           205,
           144,
           213,
           173,
           176,
           154,
           229,
           175,
           160,
           186,
           178,
           227,
           193,
           155,
           175,
           128,
           135,
           136,
           215,
           190,
           236,
           145,
           208,
           201,
           203,
           258,
           180,
           198,
           201,
           213,
           127,
           131,
           null,
           215,
           172,
           119,
           140,
           182,
           228,
           215,
           180,
           200,
           168,
           150,
           219,
           183,
           168,
           172,
           145,
           189,
           178,
           214,
           187,
           188,
           224,
           177,
           201,
           198,
           173,
           183,
           234,
           171,
           174,
           175,
           209,
           194,
           169,
           177,
           207,
           278,
           186,
           183,
           200,
           163,
           192,
           126,
           182,
           273,
           200,
           166,
           184,
           235,
           164,
           138,
           183,
           197,
           197,
           168,
           148,
           162,
           207,
           288,
           224,
           90,
           193,
           177,
           267,
           223,
           143,
           180,
           211,
           225,
           207,
           262,
           258,
           197,
           201,
           213,
           154,
           145,
           163,
           202,
           170,
           148,
           168,
           236,
           174,
           222,
           166,
           242,
           232,
           158,
           142,
           188,
           209,
           145,
           215,
           219,
           215,
           160,
           173,
           176,
           114
          ],
          "coloraxis": "coloraxis",
          "pattern": {
           "shape": ""
          }
         },
         "name": "",
         "offsetgroup": "",
         "orientation": "v",
         "showlegend": false,
         "textposition": "auto",
         "type": "bar",
         "x": [
          223,
          241,
          130,
          166,
          111,
          167,
          143,
          209,
          215,
          183,
          136,
          148,
          155,
          159,
          179,
          138,
          192,
          165,
          197,
          170,
          179,
          157,
          163,
          110,
          127,
          145,
          104,
          188,
          130,
          141,
          182,
          205,
          157,
          144,
          134,
          157,
          195,
          68,
          89,
          198,
          179,
          53,
          155,
          148,
          190,
          127,
          176,
          177,
          212,
          166,
          175,
          146,
          148,
          123,
          222,
          193,
          113,
          164,
          166,
          134,
          54,
          102,
          180,
          69,
          185,
          190,
          151,
          169,
          169,
          150,
          140,
          166,
          188,
          144,
          140,
          120,
          149,
          165,
          149,
          146,
          142,
          164,
          154,
          150,
          179,
          212,
          155,
          146,
          106,
          187,
          117,
          169,
          141,
          158,
          124,
          167,
          174,
          120,
          174,
          130,
          146,
          121,
          148,
          161,
          135,
          151,
          189,
          135,
          102,
          117,
          166,
          171,
          154,
          147,
          144,
          162,
          213,
          143,
          136,
          191,
          142,
          204,
          165,
          219,
          93,
          186,
          171,
          169,
          152,
          172,
          137,
          156,
          172,
          184,
          181,
          184,
          149,
          184,
          178,
          173,
          178,
          164,
          162,
          189,
          182,
          182,
          247,
          179,
          201,
          185,
          160,
          166,
          154,
          182,
          185,
          155,
          139,
          161,
          112,
          175,
          152,
          184,
          140,
          131,
          113,
          175,
          192,
          133,
          193,
          146,
          134,
          185,
          143,
          83,
          169,
          154,
          138,
          162,
          96,
          113,
          164,
          152,
          141,
          189,
          149,
          176,
          160,
          183,
          184,
          166,
          188,
          82,
          135,
          169,
          119,
          133,
          196,
          165,
          172,
          232,
          173,
          110,
          143,
          161,
          142,
          130,
          149,
          95,
          182,
          158,
          120,
          144,
          166,
          160,
          141,
          170,
          148,
          161,
          157,
          176,
          206,
          52,
          179,
          126,
          120,
          197,
          137,
          164,
          147,
          177,
          179,
          102,
          136,
          171,
          98,
          137,
          233,
          153,
          119,
          134,
          199,
          null,
          129,
          176,
          176,
          148,
          186,
          206,
          113,
          98,
          130,
          192,
          158,
          194,
          165,
          167,
          139,
          166,
          111,
          198,
          206,
          116,
          132,
          156,
          135,
          196,
          93,
          197,
          183,
          125,
          158,
          165,
          164,
          147,
          193,
          164,
          127,
          190,
          147,
          169,
          178,
          208,
          157,
          191,
          153,
          101,
          140,
          187,
          142,
          159,
          121,
          161,
          151,
          178,
          174,
          182,
          154,
          126,
          171,
          142,
          188,
          127,
          174,
          183,
          115,
          171,
          191,
          172,
          159,
          137,
          141,
          121,
          216,
          127,
          142,
          137,
          133,
          163,
          163,
          188,
          223,
          191,
          129,
          157,
          127,
          166,
          149,
          100,
          131,
          145,
          210,
          162,
          139,
          155,
          146,
          115,
          184,
          166,
          181,
          125,
          160,
          158,
          153,
          120,
          180,
          170,
          124,
          120,
          118,
          162,
          186,
          186,
          264,
          121,
          160,
          160,
          150,
          145,
          195,
          201,
          165,
          172,
          175,
          165,
          130,
          137,
          187,
          188,
          133,
          81,
          140,
          179,
          191,
          155,
          171,
          224,
          146,
          153,
          184,
          113,
          151,
          116,
          142,
          179,
          175,
          169,
          171,
          167,
          172,
          137,
          184,
          107,
          173,
          131,
          193,
          133,
          166,
          149,
          164,
          146,
          206,
          134,
          116,
          167,
          192,
          178,
          194,
          141,
          151,
          185,
          142,
          71,
          133,
          126,
          146,
          125,
          153,
          173,
          149,
          169,
          153,
          156,
          171,
          179,
          188,
          161,
          232,
          135,
          199,
          43,
          158,
          150,
          191,
          158,
          149,
          187,
          206,
          142,
          202,
          139,
          143,
          179,
          165,
          161,
          155,
          157,
          196,
          186,
          174,
          180,
          155,
          161,
          116,
          190,
          164,
          174,
          227,
          200,
          169,
          151,
          163,
          210,
          178,
          185,
          178,
          167,
          165,
          166,
          128,
          184,
          168,
          156,
          157,
          210,
          147,
          192,
          118,
          182,
          191,
          131,
          158,
          193,
          96,
          151,
          135,
          null,
          166,
          119,
          188,
          112,
          193,
          173,
          190,
          149,
          168,
          153,
          227,
          172,
          202,
          159,
          184,
          164,
          236,
          158,
          186,
          120,
          107,
          172,
          81,
          131,
          200,
          188,
          114,
          188,
          181,
          140,
          203,
          122,
          99,
          162,
          228,
          188,
          164,
          112,
          143,
          144,
          153,
          192,
          143,
          139,
          171,
          136,
          186,
          165,
          144,
          181,
          161,
          190,
          61,
          173,
          175,
          196,
          187,
          195,
          155,
          160,
          186,
          150,
          165,
          163,
          127,
          192,
          182,
          178,
          159,
          176,
          138,
          152,
          147,
          125,
          249,
          66,
          180,
          207,
          184,
          58,
          203,
          125,
          159,
          173,
          173,
          172,
          139,
          159,
          163,
          163,
          209,
          208,
          185,
          184,
          164,
          158,
          136,
          179,
          149,
          206,
          159,
          171,
          143,
          172,
          173,
          189,
          177,
          162,
          169,
          160,
          214,
          192,
          199,
          188,
          143,
          177,
          189,
          132,
          161,
          183,
          135,
          161,
          208,
          158,
          154,
          68,
          210,
          163,
          162,
          186,
          156,
          209,
          139,
          149,
          213,
          159,
          190,
          139,
          168,
          196,
          231,
          169,
          155,
          174,
          74,
          162,
          163,
          48,
          108,
          130,
          166,
          167,
          177,
          126,
          203,
          71,
          148,
          156,
          195,
          139,
          218,
          198,
          201,
          214,
          161,
          194,
          205,
          125,
          175,
          183,
          168,
          144,
          119,
          206,
          133,
          220,
          170,
          152,
          176,
          212,
          168,
          151,
          178,
          175,
          128,
          164,
          182,
          153,
          147,
          159,
          211,
          188,
          177,
          246,
          182,
          180,
          169,
          89,
          143,
          187,
          219,
          163,
          165,
          173,
          175,
          154,
          140,
          170,
          175,
          179,
          71,
          182,
          214,
          185,
          148,
          219,
          188,
          199,
          177,
          186,
          232,
          176,
          167,
          159,
          171,
          130,
          206,
          161,
          137,
          150,
          140,
          151,
          109,
          198,
          152,
          179,
          188,
          174,
          162,
          156,
          172,
          183,
          133,
          169,
          214,
          162,
          164,
          160,
          162,
          192,
          176,
          203,
          176,
          156,
          161,
          188,
          233,
          213,
          63,
          180,
          163,
          184,
          116,
          176,
          171,
          134,
          132,
          163,
          148,
          150,
          163,
          158,
          164,
          217,
          196,
          207,
          176,
          143,
          224,
          202,
          163,
          175,
          192,
          165,
          155,
          229,
          179,
          209,
          197,
          194,
          168,
          202,
          185,
          165,
          170,
          159,
          163,
          195,
          168,
          162,
          172,
          149,
          180,
          178,
          164,
          177,
          126,
          165,
          85,
          155,
          115,
          195,
          127,
          196,
          146,
          150,
          220,
          165,
          173,
          186,
          121,
          111,
          154,
          192,
          153,
          150,
          201,
          132,
          190,
          157,
          160,
          189,
          188,
          222,
          153,
          150,
          148,
          107,
          151,
          205,
          196,
          189,
          138,
          121,
          221,
          178,
          132,
          134,
          192,
          160,
          124,
          172,
          172,
          172,
          155,
          180,
          219,
          221,
          167,
          157,
          93,
          186,
          135,
          156,
          157,
          155,
          126,
          172,
          166,
          165,
          128,
          136,
          150,
          135,
          166,
          190,
          130,
          165,
          116,
          137,
          91,
          142,
          135,
          172,
          236,
          165,
          173,
          139,
          136,
          193,
          132,
          178,
          206,
          159,
          211,
          129,
          211,
          138,
          194,
          172,
          181,
          170,
          170,
          162,
          150,
          190,
          155,
          152,
          216,
          166,
          163,
          217,
          199,
          193,
          176,
          200,
          190,
          152,
          170,
          218,
          182,
          116,
          156,
          223,
          157,
          69,
          169,
          188,
          145,
          196,
          147,
          154,
          171,
          159,
          196,
          203,
          153,
          144,
          174,
          208,
          178,
          190,
          177,
          193,
          209,
          166,
          145,
          161,
          98,
          210,
          178,
          134,
          179,
          160,
          194,
          211,
          169,
          151,
          160,
          158,
          189,
          208,
          158,
          131,
          179,
          154,
          194,
          204,
          172,
          218,
          163,
          198,
          205,
          122,
          200,
          158,
          205,
          144,
          213,
          173,
          176,
          154,
          229,
          175,
          160,
          186,
          178,
          227,
          193,
          155,
          175,
          128,
          135,
          136,
          215,
          190,
          236,
          145,
          208,
          201,
          203,
          258,
          180,
          198,
          201,
          213,
          127,
          131,
          null,
          215,
          172,
          119,
          140,
          182,
          228,
          215,
          180,
          200,
          168,
          150,
          219,
          183,
          168,
          172,
          145,
          189,
          178,
          214,
          187,
          188,
          224,
          177,
          201,
          198,
          173,
          183,
          234,
          171,
          174,
          175,
          209,
          194,
          169,
          177,
          207,
          278,
          186,
          183,
          200,
          163,
          192,
          126,
          182,
          273,
          200,
          166,
          184,
          235,
          164,
          138,
          183,
          197,
          197,
          168,
          148,
          162,
          207,
          288,
          224,
          90,
          193,
          177,
          267,
          223,
          143,
          180,
          211,
          225,
          207,
          262,
          258,
          197,
          201,
          213,
          154,
          145,
          163,
          202,
          170,
          148,
          168,
          236,
          174,
          222,
          166,
          242,
          232,
          158,
          142,
          188,
          209,
          145,
          215,
          219,
          215,
          160,
          173,
          176,
          114
         ],
         "xaxis": "x",
         "y": [
          20,
          20,
          20,
          20,
          20,
          20,
          20,
          20,
          20,
          20,
          20,
          20,
          20,
          20,
          20,
          20,
          20,
          20,
          20,
          20,
          20,
          20,
          20,
          20,
          20,
          20,
          20,
          20,
          16,
          20,
          20,
          20,
          20,
          20,
          20,
          20,
          20,
          20,
          8,
          20,
          20,
          8,
          20,
          20,
          20,
          20,
          20,
          20,
          20,
          20,
          20,
          20,
          20,
          18,
          20,
          20,
          20,
          20,
          20,
          20,
          6,
          20,
          20,
          9.2,
          20,
          20,
          20,
          20,
          20,
          20,
          20,
          20,
          20,
          20,
          20,
          20,
          20,
          20,
          20,
          20,
          20,
          20,
          20,
          20,
          20,
          20,
          20,
          20,
          20,
          18,
          20,
          20,
          20,
          20,
          20,
          20,
          20,
          20,
          20,
          20,
          20,
          20,
          20,
          20,
          20,
          20,
          20,
          20,
          20,
          20,
          20,
          20,
          20,
          20,
          20,
          20,
          20,
          20,
          20,
          20,
          20,
          20,
          20,
          20,
          20,
          20,
          20,
          20,
          20,
          20,
          20,
          20,
          20,
          20,
          20,
          20,
          20,
          20,
          20,
          20,
          20,
          20,
          20,
          20,
          20,
          20,
          20,
          20,
          20,
          20,
          20,
          20,
          20,
          20,
          20,
          20,
          20,
          20,
          20,
          20,
          20,
          20,
          20,
          20,
          20,
          20,
          20,
          20,
          20,
          20,
          20,
          20,
          20,
          20,
          20,
          20,
          20,
          20,
          20,
          20,
          20,
          20,
          20,
          20,
          20,
          20,
          20,
          20,
          20,
          20,
          20,
          20,
          17,
          20,
          20,
          20,
          20,
          20,
          20,
          20,
          20,
          20,
          20,
          20,
          20,
          20,
          20,
          20,
          20,
          20,
          20,
          20,
          20,
          20,
          20,
          20,
          20,
          20,
          20,
          20,
          20,
          10,
          20,
          20,
          20,
          20,
          20,
          20,
          20,
          20,
          20,
          13,
          20,
          20,
          20,
          20,
          20,
          20,
          20,
          20,
          20,
          null,
          20,
          20,
          20,
          20,
          20,
          20,
          20,
          12,
          20,
          20,
          20,
          20,
          20,
          20,
          20,
          20,
          20,
          20,
          20,
          20,
          20,
          20,
          20,
          20,
          20,
          20,
          20,
          20,
          20,
          20,
          20,
          20,
          20,
          20,
          20,
          20,
          20,
          20,
          20,
          20,
          20,
          20,
          20,
          20,
          20,
          20,
          20,
          20,
          20,
          20,
          20,
          20,
          20,
          20,
          20,
          20,
          20,
          20,
          20,
          20,
          20,
          20,
          20,
          20,
          20,
          20,
          20,
          20,
          20,
          20,
          20,
          20,
          20,
          20,
          20,
          20,
          20,
          20,
          20,
          20,
          20,
          20,
          20,
          20,
          20,
          20,
          20,
          20,
          20,
          20,
          20,
          20,
          20,
          20,
          20,
          20,
          20,
          20,
          20,
          20,
          20,
          20,
          20,
          20,
          20,
          20,
          20,
          20,
          20,
          20,
          20,
          20,
          20,
          20,
          20,
          20,
          20,
          20,
          20,
          20,
          20,
          20,
          20,
          20,
          20,
          20,
          20,
          20,
          20,
          20,
          20,
          20,
          20,
          20,
          20,
          20,
          20,
          20,
          20,
          20,
          20,
          20,
          20,
          20,
          20,
          20,
          20,
          20,
          20,
          8,
          20,
          20,
          20,
          20,
          20,
          20,
          20,
          20,
          20,
          20,
          20,
          20,
          20,
          20,
          20,
          20,
          20,
          20,
          20,
          20,
          20,
          20,
          20,
          20,
          20,
          20,
          17,
          20,
          20,
          20,
          20,
          20,
          20,
          20,
          20,
          20,
          20,
          5,
          20,
          20,
          20,
          20,
          20,
          20,
          20,
          20,
          20,
          20,
          20,
          20,
          20,
          20,
          20,
          20,
          20,
          20,
          20,
          20,
          20,
          20,
          20,
          20,
          20,
          20,
          20,
          20,
          20,
          20,
          20,
          20,
          20,
          20,
          20,
          20,
          20,
          20,
          20,
          20,
          20,
          20,
          20,
          20,
          20,
          20,
          12,
          20,
          20,
          20,
          20,
          20,
          20,
          20,
          20,
          null,
          20,
          20,
          20,
          10,
          20,
          20,
          20,
          20,
          20,
          20,
          20,
          20,
          20,
          20,
          20,
          20,
          20,
          20,
          20,
          20,
          10,
          20,
          6,
          20,
          20,
          20,
          20,
          20,
          20,
          20,
          20,
          20,
          20,
          20,
          20,
          20,
          20,
          20,
          20,
          20,
          20,
          20,
          20,
          20,
          20,
          20,
          20,
          20,
          20,
          20,
          20,
          20,
          11,
          20,
          20,
          20,
          20,
          20,
          20,
          20,
          20,
          20,
          20,
          20,
          20,
          20,
          20,
          20,
          20,
          20,
          20,
          20,
          20,
          20,
          20,
          9,
          20,
          20,
          20,
          11,
          14,
          20,
          20,
          20,
          20,
          20,
          20,
          20,
          20,
          20,
          20,
          20,
          20,
          20,
          20,
          20,
          20,
          20,
          20,
          20,
          20,
          20,
          20,
          20,
          20,
          20,
          20,
          20,
          20,
          20,
          20,
          20,
          20,
          20,
          20,
          20,
          20,
          20,
          20,
          20,
          20,
          20,
          20,
          20,
          20,
          20,
          20,
          20,
          20,
          20,
          20,
          20,
          20,
          20,
          20,
          20,
          20,
          20,
          20,
          20,
          20,
          20,
          20,
          20,
          20,
          20,
          20,
          6,
          20,
          20,
          20,
          20,
          20,
          20,
          20,
          6,
          20,
          20,
          20,
          20,
          20,
          20,
          20,
          20,
          20,
          20,
          20,
          13,
          20,
          20,
          20,
          20,
          20,
          20,
          20,
          20,
          20,
          20,
          20,
          20,
          20,
          12,
          20,
          20,
          20,
          20,
          20,
          20,
          20,
          20,
          20,
          20,
          20,
          20,
          20,
          20,
          20,
          20,
          20,
          20,
          20,
          20,
          20,
          20,
          20,
          20,
          20,
          20,
          20,
          20,
          20,
          20,
          20,
          20,
          20,
          20,
          20,
          20,
          20,
          20,
          20,
          20,
          20,
          20,
          20,
          20,
          20,
          20,
          20,
          20,
          20,
          20,
          20,
          20,
          20,
          20,
          20,
          20,
          20,
          20,
          20,
          20,
          20,
          20,
          20,
          20,
          20,
          20,
          20,
          20,
          20,
          20,
          20,
          20,
          20,
          20,
          20,
          20,
          5,
          20,
          20,
          20,
          20,
          20,
          20,
          20,
          20,
          20,
          20,
          20,
          20,
          20,
          20,
          20,
          20,
          20,
          20,
          20,
          20,
          20,
          20,
          20,
          20,
          20,
          20,
          20,
          20,
          20,
          20,
          20,
          20,
          20,
          20,
          20,
          20,
          20,
          20,
          20,
          20,
          20,
          20,
          20,
          20,
          20,
          20,
          20,
          20,
          20,
          20,
          20,
          20,
          20,
          20,
          20,
          20,
          20,
          20,
          20,
          20,
          20,
          20,
          20,
          20,
          20,
          20,
          20,
          20,
          20,
          20,
          20,
          20,
          20,
          20,
          20,
          20,
          20,
          20,
          20,
          20,
          20,
          20,
          20,
          20,
          20,
          20,
          20,
          20,
          20,
          20,
          20,
          20,
          20,
          20,
          20,
          20,
          20,
          20,
          20,
          20,
          20,
          20,
          20,
          20,
          20,
          20,
          20,
          20,
          20,
          20,
          20,
          20,
          20,
          20,
          20,
          20,
          20,
          20,
          20,
          20,
          20,
          20,
          20,
          20,
          20,
          20,
          20,
          20,
          20,
          20,
          20,
          20,
          20,
          20,
          20,
          20,
          20,
          20,
          20,
          20,
          20,
          20,
          20,
          20,
          20,
          20,
          20,
          20,
          20,
          20,
          20,
          20,
          20,
          20,
          20,
          20,
          20,
          20,
          20,
          20,
          20,
          20,
          20,
          20,
          20,
          20,
          20,
          20,
          20,
          20,
          20,
          20,
          20,
          20,
          20,
          20,
          20,
          20,
          20,
          20,
          20,
          20,
          20,
          20,
          20,
          20,
          20,
          20,
          20,
          20,
          20,
          20,
          20,
          20,
          20,
          20,
          20,
          20,
          20,
          20,
          20,
          20,
          20,
          20,
          20,
          20,
          16,
          20,
          20,
          20,
          20,
          20,
          20,
          20,
          20,
          20,
          20,
          20,
          20,
          20,
          20,
          20,
          20,
          20,
          20,
          20,
          20,
          20,
          20,
          20,
          20,
          20,
          20,
          20,
          20,
          20,
          20,
          20,
          20,
          20,
          20,
          20,
          20,
          20,
          20,
          20,
          20,
          20,
          20,
          null,
          20,
          20,
          20,
          20,
          20,
          20,
          20,
          20,
          20,
          20,
          20,
          20,
          20,
          20,
          20,
          20,
          20,
          20,
          20,
          20,
          20,
          20,
          20,
          20,
          20,
          20,
          20,
          20,
          15,
          20,
          20,
          20,
          20,
          20,
          20,
          20,
          20,
          20,
          20,
          20,
          20,
          20,
          20,
          20,
          20,
          20,
          20,
          20,
          20,
          20,
          20,
          20,
          20,
          20,
          20,
          20,
          20,
          20,
          20,
          20,
          20,
          20,
          20,
          20,
          20,
          20,
          20,
          20,
          20,
          20,
          20,
          20,
          20,
          20,
          20,
          20,
          20,
          20,
          20,
          20,
          20,
          20,
          20,
          20,
          20,
          20,
          20,
          20,
          16,
          20,
          20,
          20,
          20,
          20,
          20,
          20,
          20,
          20,
          20,
          20
         ],
         "yaxis": "y"
        }
       ],
       "layout": {
        "autosize": true,
        "barmode": "relative",
        "coloraxis": {
         "colorbar": {
          "title": {
           "text": "target_runs"
          }
         },
         "colorscale": [
          [
           0,
           "#0d0887"
          ],
          [
           0.1111111111111111,
           "#46039f"
          ],
          [
           0.2222222222222222,
           "#7201a8"
          ],
          [
           0.3333333333333333,
           "#9c179e"
          ],
          [
           0.4444444444444444,
           "#bd3786"
          ],
          [
           0.5555555555555556,
           "#d8576b"
          ],
          [
           0.6666666666666666,
           "#ed7953"
          ],
          [
           0.7777777777777778,
           "#fb9f3a"
          ],
          [
           0.8888888888888888,
           "#fdca26"
          ],
          [
           1,
           "#f0f921"
          ]
         ]
        },
        "legend": {
         "tracegroupgap": 0
        },
        "template": {
         "data": {
          "bar": [
           {
            "error_x": {
             "color": "#2a3f5f"
            },
            "error_y": {
             "color": "#2a3f5f"
            },
            "marker": {
             "line": {
              "color": "white",
              "width": 0.5
             },
             "pattern": {
              "fillmode": "overlay",
              "size": 10,
              "solidity": 0.2
             }
            },
            "type": "bar"
           }
          ],
          "barpolar": [
           {
            "marker": {
             "line": {
              "color": "white",
              "width": 0.5
             },
             "pattern": {
              "fillmode": "overlay",
              "size": 10,
              "solidity": 0.2
             }
            },
            "type": "barpolar"
           }
          ],
          "carpet": [
           {
            "aaxis": {
             "endlinecolor": "#2a3f5f",
             "gridcolor": "#C8D4E3",
             "linecolor": "#C8D4E3",
             "minorgridcolor": "#C8D4E3",
             "startlinecolor": "#2a3f5f"
            },
            "baxis": {
             "endlinecolor": "#2a3f5f",
             "gridcolor": "#C8D4E3",
             "linecolor": "#C8D4E3",
             "minorgridcolor": "#C8D4E3",
             "startlinecolor": "#2a3f5f"
            },
            "type": "carpet"
           }
          ],
          "choropleth": [
           {
            "colorbar": {
             "outlinewidth": 0,
             "ticks": ""
            },
            "type": "choropleth"
           }
          ],
          "contour": [
           {
            "colorbar": {
             "outlinewidth": 0,
             "ticks": ""
            },
            "colorscale": [
             [
              0,
              "#0d0887"
             ],
             [
              0.1111111111111111,
              "#46039f"
             ],
             [
              0.2222222222222222,
              "#7201a8"
             ],
             [
              0.3333333333333333,
              "#9c179e"
             ],
             [
              0.4444444444444444,
              "#bd3786"
             ],
             [
              0.5555555555555556,
              "#d8576b"
             ],
             [
              0.6666666666666666,
              "#ed7953"
             ],
             [
              0.7777777777777778,
              "#fb9f3a"
             ],
             [
              0.8888888888888888,
              "#fdca26"
             ],
             [
              1,
              "#f0f921"
             ]
            ],
            "type": "contour"
           }
          ],
          "contourcarpet": [
           {
            "colorbar": {
             "outlinewidth": 0,
             "ticks": ""
            },
            "type": "contourcarpet"
           }
          ],
          "heatmap": [
           {
            "colorbar": {
             "outlinewidth": 0,
             "ticks": ""
            },
            "colorscale": [
             [
              0,
              "#0d0887"
             ],
             [
              0.1111111111111111,
              "#46039f"
             ],
             [
              0.2222222222222222,
              "#7201a8"
             ],
             [
              0.3333333333333333,
              "#9c179e"
             ],
             [
              0.4444444444444444,
              "#bd3786"
             ],
             [
              0.5555555555555556,
              "#d8576b"
             ],
             [
              0.6666666666666666,
              "#ed7953"
             ],
             [
              0.7777777777777778,
              "#fb9f3a"
             ],
             [
              0.8888888888888888,
              "#fdca26"
             ],
             [
              1,
              "#f0f921"
             ]
            ],
            "type": "heatmap"
           }
          ],
          "heatmapgl": [
           {
            "colorbar": {
             "outlinewidth": 0,
             "ticks": ""
            },
            "colorscale": [
             [
              0,
              "#0d0887"
             ],
             [
              0.1111111111111111,
              "#46039f"
             ],
             [
              0.2222222222222222,
              "#7201a8"
             ],
             [
              0.3333333333333333,
              "#9c179e"
             ],
             [
              0.4444444444444444,
              "#bd3786"
             ],
             [
              0.5555555555555556,
              "#d8576b"
             ],
             [
              0.6666666666666666,
              "#ed7953"
             ],
             [
              0.7777777777777778,
              "#fb9f3a"
             ],
             [
              0.8888888888888888,
              "#fdca26"
             ],
             [
              1,
              "#f0f921"
             ]
            ],
            "type": "heatmapgl"
           }
          ],
          "histogram": [
           {
            "marker": {
             "pattern": {
              "fillmode": "overlay",
              "size": 10,
              "solidity": 0.2
             }
            },
            "type": "histogram"
           }
          ],
          "histogram2d": [
           {
            "colorbar": {
             "outlinewidth": 0,
             "ticks": ""
            },
            "colorscale": [
             [
              0,
              "#0d0887"
             ],
             [
              0.1111111111111111,
              "#46039f"
             ],
             [
              0.2222222222222222,
              "#7201a8"
             ],
             [
              0.3333333333333333,
              "#9c179e"
             ],
             [
              0.4444444444444444,
              "#bd3786"
             ],
             [
              0.5555555555555556,
              "#d8576b"
             ],
             [
              0.6666666666666666,
              "#ed7953"
             ],
             [
              0.7777777777777778,
              "#fb9f3a"
             ],
             [
              0.8888888888888888,
              "#fdca26"
             ],
             [
              1,
              "#f0f921"
             ]
            ],
            "type": "histogram2d"
           }
          ],
          "histogram2dcontour": [
           {
            "colorbar": {
             "outlinewidth": 0,
             "ticks": ""
            },
            "colorscale": [
             [
              0,
              "#0d0887"
             ],
             [
              0.1111111111111111,
              "#46039f"
             ],
             [
              0.2222222222222222,
              "#7201a8"
             ],
             [
              0.3333333333333333,
              "#9c179e"
             ],
             [
              0.4444444444444444,
              "#bd3786"
             ],
             [
              0.5555555555555556,
              "#d8576b"
             ],
             [
              0.6666666666666666,
              "#ed7953"
             ],
             [
              0.7777777777777778,
              "#fb9f3a"
             ],
             [
              0.8888888888888888,
              "#fdca26"
             ],
             [
              1,
              "#f0f921"
             ]
            ],
            "type": "histogram2dcontour"
           }
          ],
          "mesh3d": [
           {
            "colorbar": {
             "outlinewidth": 0,
             "ticks": ""
            },
            "type": "mesh3d"
           }
          ],
          "parcoords": [
           {
            "line": {
             "colorbar": {
              "outlinewidth": 0,
              "ticks": ""
             }
            },
            "type": "parcoords"
           }
          ],
          "pie": [
           {
            "automargin": true,
            "type": "pie"
           }
          ],
          "scatter": [
           {
            "fillpattern": {
             "fillmode": "overlay",
             "size": 10,
             "solidity": 0.2
            },
            "type": "scatter"
           }
          ],
          "scatter3d": [
           {
            "line": {
             "colorbar": {
              "outlinewidth": 0,
              "ticks": ""
             }
            },
            "marker": {
             "colorbar": {
              "outlinewidth": 0,
              "ticks": ""
             }
            },
            "type": "scatter3d"
           }
          ],
          "scattercarpet": [
           {
            "marker": {
             "colorbar": {
              "outlinewidth": 0,
              "ticks": ""
             }
            },
            "type": "scattercarpet"
           }
          ],
          "scattergeo": [
           {
            "marker": {
             "colorbar": {
              "outlinewidth": 0,
              "ticks": ""
             }
            },
            "type": "scattergeo"
           }
          ],
          "scattergl": [
           {
            "marker": {
             "colorbar": {
              "outlinewidth": 0,
              "ticks": ""
             }
            },
            "type": "scattergl"
           }
          ],
          "scattermapbox": [
           {
            "marker": {
             "colorbar": {
              "outlinewidth": 0,
              "ticks": ""
             }
            },
            "type": "scattermapbox"
           }
          ],
          "scatterpolar": [
           {
            "marker": {
             "colorbar": {
              "outlinewidth": 0,
              "ticks": ""
             }
            },
            "type": "scatterpolar"
           }
          ],
          "scatterpolargl": [
           {
            "marker": {
             "colorbar": {
              "outlinewidth": 0,
              "ticks": ""
             }
            },
            "type": "scatterpolargl"
           }
          ],
          "scatterternary": [
           {
            "marker": {
             "colorbar": {
              "outlinewidth": 0,
              "ticks": ""
             }
            },
            "type": "scatterternary"
           }
          ],
          "surface": [
           {
            "colorbar": {
             "outlinewidth": 0,
             "ticks": ""
            },
            "colorscale": [
             [
              0,
              "#0d0887"
             ],
             [
              0.1111111111111111,
              "#46039f"
             ],
             [
              0.2222222222222222,
              "#7201a8"
             ],
             [
              0.3333333333333333,
              "#9c179e"
             ],
             [
              0.4444444444444444,
              "#bd3786"
             ],
             [
              0.5555555555555556,
              "#d8576b"
             ],
             [
              0.6666666666666666,
              "#ed7953"
             ],
             [
              0.7777777777777778,
              "#fb9f3a"
             ],
             [
              0.8888888888888888,
              "#fdca26"
             ],
             [
              1,
              "#f0f921"
             ]
            ],
            "type": "surface"
           }
          ],
          "table": [
           {
            "cells": {
             "fill": {
              "color": "#EBF0F8"
             },
             "line": {
              "color": "white"
             }
            },
            "header": {
             "fill": {
              "color": "#C8D4E3"
             },
             "line": {
              "color": "white"
             }
            },
            "type": "table"
           }
          ]
         },
         "layout": {
          "annotationdefaults": {
           "arrowcolor": "#2a3f5f",
           "arrowhead": 0,
           "arrowwidth": 1
          },
          "autotypenumbers": "strict",
          "coloraxis": {
           "colorbar": {
            "outlinewidth": 0,
            "ticks": ""
           }
          },
          "colorscale": {
           "diverging": [
            [
             0,
             "#8e0152"
            ],
            [
             0.1,
             "#c51b7d"
            ],
            [
             0.2,
             "#de77ae"
            ],
            [
             0.3,
             "#f1b6da"
            ],
            [
             0.4,
             "#fde0ef"
            ],
            [
             0.5,
             "#f7f7f7"
            ],
            [
             0.6,
             "#e6f5d0"
            ],
            [
             0.7,
             "#b8e186"
            ],
            [
             0.8,
             "#7fbc41"
            ],
            [
             0.9,
             "#4d9221"
            ],
            [
             1,
             "#276419"
            ]
           ],
           "sequential": [
            [
             0,
             "#0d0887"
            ],
            [
             0.1111111111111111,
             "#46039f"
            ],
            [
             0.2222222222222222,
             "#7201a8"
            ],
            [
             0.3333333333333333,
             "#9c179e"
            ],
            [
             0.4444444444444444,
             "#bd3786"
            ],
            [
             0.5555555555555556,
             "#d8576b"
            ],
            [
             0.6666666666666666,
             "#ed7953"
            ],
            [
             0.7777777777777778,
             "#fb9f3a"
            ],
            [
             0.8888888888888888,
             "#fdca26"
            ],
            [
             1,
             "#f0f921"
            ]
           ],
           "sequentialminus": [
            [
             0,
             "#0d0887"
            ],
            [
             0.1111111111111111,
             "#46039f"
            ],
            [
             0.2222222222222222,
             "#7201a8"
            ],
            [
             0.3333333333333333,
             "#9c179e"
            ],
            [
             0.4444444444444444,
             "#bd3786"
            ],
            [
             0.5555555555555556,
             "#d8576b"
            ],
            [
             0.6666666666666666,
             "#ed7953"
            ],
            [
             0.7777777777777778,
             "#fb9f3a"
            ],
            [
             0.8888888888888888,
             "#fdca26"
            ],
            [
             1,
             "#f0f921"
            ]
           ]
          },
          "colorway": [
           "#636efa",
           "#EF553B",
           "#00cc96",
           "#ab63fa",
           "#FFA15A",
           "#19d3f3",
           "#FF6692",
           "#B6E880",
           "#FF97FF",
           "#FECB52"
          ],
          "font": {
           "color": "#2a3f5f"
          },
          "geo": {
           "bgcolor": "white",
           "lakecolor": "white",
           "landcolor": "white",
           "showlakes": true,
           "showland": true,
           "subunitcolor": "#C8D4E3"
          },
          "hoverlabel": {
           "align": "left"
          },
          "hovermode": "closest",
          "mapbox": {
           "style": "light"
          },
          "paper_bgcolor": "white",
          "plot_bgcolor": "white",
          "polar": {
           "angularaxis": {
            "gridcolor": "#EBF0F8",
            "linecolor": "#EBF0F8",
            "ticks": ""
           },
           "bgcolor": "white",
           "radialaxis": {
            "gridcolor": "#EBF0F8",
            "linecolor": "#EBF0F8",
            "ticks": ""
           }
          },
          "scene": {
           "xaxis": {
            "backgroundcolor": "white",
            "gridcolor": "#DFE8F3",
            "gridwidth": 2,
            "linecolor": "#EBF0F8",
            "showbackground": true,
            "ticks": "",
            "zerolinecolor": "#EBF0F8"
           },
           "yaxis": {
            "backgroundcolor": "white",
            "gridcolor": "#DFE8F3",
            "gridwidth": 2,
            "linecolor": "#EBF0F8",
            "showbackground": true,
            "ticks": "",
            "zerolinecolor": "#EBF0F8"
           },
           "zaxis": {
            "backgroundcolor": "white",
            "gridcolor": "#DFE8F3",
            "gridwidth": 2,
            "linecolor": "#EBF0F8",
            "showbackground": true,
            "ticks": "",
            "zerolinecolor": "#EBF0F8"
           }
          },
          "shapedefaults": {
           "line": {
            "color": "#2a3f5f"
           }
          },
          "ternary": {
           "aaxis": {
            "gridcolor": "#DFE8F3",
            "linecolor": "#A2B1C6",
            "ticks": ""
           },
           "baxis": {
            "gridcolor": "#DFE8F3",
            "linecolor": "#A2B1C6",
            "ticks": ""
           },
           "bgcolor": "white",
           "caxis": {
            "gridcolor": "#DFE8F3",
            "linecolor": "#A2B1C6",
            "ticks": ""
           }
          },
          "title": {
           "x": 0.05
          },
          "xaxis": {
           "automargin": true,
           "gridcolor": "#EBF0F8",
           "linecolor": "#EBF0F8",
           "ticks": "",
           "title": {
            "standoff": 15
           },
           "zerolinecolor": "#EBF0F8",
           "zerolinewidth": 2
          },
          "yaxis": {
           "automargin": true,
           "gridcolor": "#EBF0F8",
           "linecolor": "#EBF0F8",
           "ticks": "",
           "title": {
            "standoff": 15
           },
           "zerolinecolor": "#EBF0F8",
           "zerolinewidth": 2
          }
         }
        },
        "title": {
         "text": "Top Scorers in IPL"
        },
        "xaxis": {
         "anchor": "y",
         "autorange": true,
         "domain": [
          0,
          1
         ],
         "range": [
          42.5,
          288.5
         ],
         "title": {
          "text": "target_runs"
         },
         "type": "linear"
        },
        "yaxis": {
         "anchor": "x",
         "autorange": true,
         "domain": [
          0,
          1
         ],
         "range": [
          0,
          442.10526315789474
         ],
         "title": {
          "text": "target_overs"
         },
         "type": "linear"
        }
       }
      },
      "image/png": "[encoded data removed]",
      "text/html": [
       "<div>                            <div id=\"5937ff75-ee8d-4e13-a44b-5592cf2dabbe\" class=\"plotly-graph-div\" style=\"height:525px; width:100%;\"></div>            <script type=\"text/javascript\">                require([\"plotly\"], function(Plotly) {                    window.PLOTLYENV=window.PLOTLYENV || {};                                    if (document.getElementById(\"5937ff75-ee8d-4e13-a44b-5592cf2dabbe\")) {                    Plotly.newPlot(                        \"5937ff75-ee8d-4e13-a44b-5592cf2dabbe\",                        [{\"alignmentgroup\":\"True\",\"hovertemplate\":\"target_runs=%{marker.color}<br>target_overs=%{y}<extra></extra>\",\"legendgroup\":\"\",\"marker\":{\"color\":[223.0,241.0,130.0,166.0,111.0,167.0,143.0,209.0,215.0,183.0,136.0,148.0,155.0,159.0,179.0,138.0,192.0,165.0,197.0,170.0,179.0,157.0,163.0,110.0,127.0,145.0,104.0,188.0,130.0,141.0,182.0,205.0,157.0,144.0,134.0,157.0,195.0,68.0,89.0,198.0,179.0,53.0,155.0,148.0,190.0,127.0,176.0,177.0,212.0,166.0,175.0,146.0,148.0,123.0,222.0,193.0,113.0,164.0,166.0,134.0,54.0,102.0,180.0,69.0,185.0,190.0,151.0,169.0,169.0,150.0,140.0,166.0,188.0,144.0,140.0,120.0,149.0,165.0,149.0,146.0,142.0,164.0,154.0,150.0,179.0,212.0,155.0,146.0,106.0,187.0,117.0,169.0,141.0,158.0,124.0,167.0,174.0,120.0,174.0,130.0,146.0,121.0,148.0,161.0,135.0,151.0,189.0,135.0,102.0,117.0,166.0,171.0,154.0,147.0,144.0,162.0,213.0,143.0,136.0,191.0,142.0,204.0,165.0,219.0,93.0,186.0,171.0,169.0,152.0,172.0,137.0,156.0,172.0,184.0,181.0,184.0,149.0,184.0,178.0,173.0,178.0,164.0,162.0,189.0,182.0,182.0,247.0,179.0,201.0,185.0,160.0,166.0,154.0,182.0,185.0,155.0,139.0,161.0,112.0,175.0,152.0,184.0,140.0,131.0,113.0,175.0,192.0,133.0,193.0,146.0,134.0,185.0,143.0,83.0,169.0,154.0,138.0,162.0,96.0,113.0,164.0,152.0,141.0,189.0,149.0,176.0,160.0,183.0,184.0,166.0,188.0,82.0,135.0,169.0,119.0,133.0,196.0,165.0,172.0,232.0,173.0,110.0,143.0,161.0,142.0,130.0,149.0,95.0,182.0,158.0,120.0,144.0,166.0,160.0,141.0,170.0,148.0,161.0,157.0,176.0,206.0,52.0,179.0,126.0,120.0,197.0,137.0,164.0,147.0,177.0,179.0,102.0,136.0,171.0,98.0,137.0,233.0,153.0,119.0,134.0,199.0,null,129.0,176.0,176.0,148.0,186.0,206.0,113.0,98.0,130.0,192.0,158.0,194.0,165.0,167.0,139.0,166.0,111.0,198.0,206.0,116.0,132.0,156.0,135.0,196.0,93.0,197.0,183.0,125.0,158.0,165.0,164.0,147.0,193.0,164.0,127.0,190.0,147.0,169.0,178.0,208.0,157.0,191.0,153.0,101.0,140.0,187.0,142.0,159.0,121.0,161.0,151.0,178.0,174.0,182.0,154.0,126.0,171.0,142.0,188.0,127.0,174.0,183.0,115.0,171.0,191.0,172.0,159.0,137.0,141.0,121.0,216.0,127.0,142.0,137.0,133.0,163.0,163.0,188.0,223.0,191.0,129.0,157.0,127.0,166.0,149.0,100.0,131.0,145.0,210.0,162.0,139.0,155.0,146.0,115.0,184.0,166.0,181.0,125.0,160.0,158.0,153.0,120.0,180.0,170.0,124.0,120.0,118.0,162.0,186.0,186.0,264.0,121.0,160.0,160.0,150.0,145.0,195.0,201.0,165.0,172.0,175.0,165.0,130.0,137.0,187.0,188.0,133.0,81.0,140.0,179.0,191.0,155.0,171.0,224.0,146.0,153.0,184.0,113.0,151.0,116.0,142.0,179.0,175.0,169.0,171.0,167.0,172.0,137.0,184.0,107.0,173.0,131.0,193.0,133.0,166.0,149.0,164.0,146.0,206.0,134.0,116.0,167.0,192.0,178.0,194.0,141.0,151.0,185.0,142.0,71.0,133.0,126.0,146.0,125.0,153.0,173.0,149.0,169.0,153.0,156.0,171.0,179.0,188.0,161.0,232.0,135.0,199.0,43.0,158.0,150.0,191.0,158.0,149.0,187.0,206.0,142.0,202.0,139.0,143.0,179.0,165.0,161.0,155.0,157.0,196.0,186.0,174.0,180.0,155.0,161.0,116.0,190.0,164.0,174.0,227.0,200.0,169.0,151.0,163.0,210.0,178.0,185.0,178.0,167.0,165.0,166.0,128.0,184.0,168.0,156.0,157.0,210.0,147.0,192.0,118.0,182.0,191.0,131.0,158.0,193.0,96.0,151.0,135.0,null,166.0,119.0,188.0,112.0,193.0,173.0,190.0,149.0,168.0,153.0,227.0,172.0,202.0,159.0,184.0,164.0,236.0,158.0,186.0,120.0,107.0,172.0,81.0,131.0,200.0,188.0,114.0,188.0,181.0,140.0,203.0,122.0,99.0,162.0,228.0,188.0,164.0,112.0,143.0,144.0,153.0,192.0,143.0,139.0,171.0,136.0,186.0,165.0,144.0,181.0,161.0,190.0,61.0,173.0,175.0,196.0,187.0,195.0,155.0,160.0,186.0,150.0,165.0,163.0,127.0,192.0,182.0,178.0,159.0,176.0,138.0,152.0,147.0,125.0,249.0,66.0,180.0,207.0,184.0,58.0,203.0,125.0,159.0,173.0,173.0,172.0,139.0,159.0,163.0,163.0,209.0,208.0,185.0,184.0,164.0,158.0,136.0,179.0,149.0,206.0,159.0,171.0,143.0,172.0,173.0,189.0,177.0,162.0,169.0,160.0,214.0,192.0,199.0,188.0,143.0,177.0,189.0,132.0,161.0,183.0,135.0,161.0,208.0,158.0,154.0,68.0,210.0,163.0,162.0,186.0,156.0,209.0,139.0,149.0,213.0,159.0,190.0,139.0,168.0,196.0,231.0,169.0,155.0,174.0,74.0,162.0,163.0,48.0,108.0,130.0,166.0,167.0,177.0,126.0,203.0,71.0,148.0,156.0,195.0,139.0,218.0,198.0,201.0,214.0,161.0,194.0,205.0,125.0,175.0,183.0,168.0,144.0,119.0,206.0,133.0,220.0,170.0,152.0,176.0,212.0,168.0,151.0,178.0,175.0,128.0,164.0,182.0,153.0,147.0,159.0,211.0,188.0,177.0,246.0,182.0,180.0,169.0,89.0,143.0,187.0,219.0,163.0,165.0,173.0,175.0,154.0,140.0,170.0,175.0,179.0,71.0,182.0,214.0,185.0,148.0,219.0,188.0,199.0,177.0,186.0,232.0,176.0,167.0,159.0,171.0,130.0,206.0,161.0,137.0,150.0,140.0,151.0,109.0,198.0,152.0,179.0,188.0,174.0,162.0,156.0,172.0,183.0,133.0,169.0,214.0,162.0,164.0,160.0,162.0,192.0,176.0,203.0,176.0,156.0,161.0,188.0,233.0,213.0,63.0,180.0,163.0,184.0,116.0,176.0,171.0,134.0,132.0,163.0,148.0,150.0,163.0,158.0,164.0,217.0,196.0,207.0,176.0,143.0,224.0,202.0,163.0,175.0,192.0,165.0,155.0,229.0,179.0,209.0,197.0,194.0,168.0,202.0,185.0,165.0,170.0,159.0,163.0,195.0,168.0,162.0,172.0,149.0,180.0,178.0,164.0,177.0,126.0,165.0,85.0,155.0,115.0,195.0,127.0,196.0,146.0,150.0,220.0,165.0,173.0,186.0,121.0,111.0,154.0,192.0,153.0,150.0,201.0,132.0,190.0,157.0,160.0,189.0,188.0,222.0,153.0,150.0,148.0,107.0,151.0,205.0,196.0,189.0,138.0,121.0,221.0,178.0,132.0,134.0,192.0,160.0,124.0,172.0,172.0,172.0,155.0,180.0,219.0,221.0,167.0,157.0,93.0,186.0,135.0,156.0,157.0,155.0,126.0,172.0,166.0,165.0,128.0,136.0,150.0,135.0,166.0,190.0,130.0,165.0,116.0,137.0,91.0,142.0,135.0,172.0,236.0,165.0,173.0,139.0,136.0,193.0,132.0,178.0,206.0,159.0,211.0,129.0,211.0,138.0,194.0,172.0,181.0,170.0,170.0,162.0,150.0,190.0,155.0,152.0,216.0,166.0,163.0,217.0,199.0,193.0,176.0,200.0,190.0,152.0,170.0,218.0,182.0,116.0,156.0,223.0,157.0,69.0,169.0,188.0,145.0,196.0,147.0,154.0,171.0,159.0,196.0,203.0,153.0,144.0,174.0,208.0,178.0,190.0,177.0,193.0,209.0,166.0,145.0,161.0,98.0,210.0,178.0,134.0,179.0,160.0,194.0,211.0,169.0,151.0,160.0,158.0,189.0,208.0,158.0,131.0,179.0,154.0,194.0,204.0,172.0,218.0,163.0,198.0,205.0,122.0,200.0,158.0,205.0,144.0,213.0,173.0,176.0,154.0,229.0,175.0,160.0,186.0,178.0,227.0,193.0,155.0,175.0,128.0,135.0,136.0,215.0,190.0,236.0,145.0,208.0,201.0,203.0,258.0,180.0,198.0,201.0,213.0,127.0,131.0,null,215.0,172.0,119.0,140.0,182.0,228.0,215.0,180.0,200.0,168.0,150.0,219.0,183.0,168.0,172.0,145.0,189.0,178.0,214.0,187.0,188.0,224.0,177.0,201.0,198.0,173.0,183.0,234.0,171.0,174.0,175.0,209.0,194.0,169.0,177.0,207.0,278.0,186.0,183.0,200.0,163.0,192.0,126.0,182.0,273.0,200.0,166.0,184.0,235.0,164.0,138.0,183.0,197.0,197.0,168.0,148.0,162.0,207.0,288.0,224.0,90.0,193.0,177.0,267.0,223.0,143.0,180.0,211.0,225.0,207.0,262.0,258.0,197.0,201.0,213.0,154.0,145.0,163.0,202.0,170.0,148.0,168.0,236.0,174.0,222.0,166.0,242.0,232.0,158.0,142.0,188.0,209.0,145.0,215.0,219.0,215.0,160.0,173.0,176.0,114.0],\"coloraxis\":\"coloraxis\",\"pattern\":{\"shape\":\"\"}},\"name\":\"\",\"offsetgroup\":\"\",\"orientation\":\"v\",\"showlegend\":false,\"textposition\":\"auto\",\"x\":[223.0,241.0,130.0,166.0,111.0,167.0,143.0,209.0,215.0,183.0,136.0,148.0,155.0,159.0,179.0,138.0,192.0,165.0,197.0,170.0,179.0,157.0,163.0,110.0,127.0,145.0,104.0,188.0,130.0,141.0,182.0,205.0,157.0,144.0,134.0,157.0,195.0,68.0,89.0,198.0,179.0,53.0,155.0,148.0,190.0,127.0,176.0,177.0,212.0,166.0,175.0,146.0,148.0,123.0,222.0,193.0,113.0,164.0,166.0,134.0,54.0,102.0,180.0,69.0,185.0,190.0,151.0,169.0,169.0,150.0,140.0,166.0,188.0,144.0,140.0,120.0,149.0,165.0,149.0,146.0,142.0,164.0,154.0,150.0,179.0,212.0,155.0,146.0,106.0,187.0,117.0,169.0,141.0,158.0,124.0,167.0,174.0,120.0,174.0,130.0,146.0,121.0,148.0,161.0,135.0,151.0,189.0,135.0,102.0,117.0,166.0,171.0,154.0,147.0,144.0,162.0,213.0,143.0,136.0,191.0,142.0,204.0,165.0,219.0,93.0,186.0,171.0,169.0,152.0,172.0,137.0,156.0,172.0,184.0,181.0,184.0,149.0,184.0,178.0,173.0,178.0,164.0,162.0,189.0,182.0,182.0,247.0,179.0,201.0,185.0,160.0,166.0,154.0,182.0,185.0,155.0,139.0,161.0,112.0,175.0,152.0,184.0,140.0,131.0,113.0,175.0,192.0,133.0,193.0,146.0,134.0,185.0,143.0,83.0,169.0,154.0,138.0,162.0,96.0,113.0,164.0,152.0,141.0,189.0,149.0,176.0,160.0,183.0,184.0,166.0,188.0,82.0,135.0,169.0,119.0,133.0,196.0,165.0,172.0,232.0,173.0,110.0,143.0,161.0,142.0,130.0,149.0,95.0,182.0,158.0,120.0,144.0,166.0,160.0,141.0,170.0,148.0,161.0,157.0,176.0,206.0,52.0,179.0,126.0,120.0,197.0,137.0,164.0,147.0,177.0,179.0,102.0,136.0,171.0,98.0,137.0,233.0,153.0,119.0,134.0,199.0,null,129.0,176.0,176.0,148.0,186.0,206.0,113.0,98.0,130.0,192.0,158.0,194.0,165.0,167.0,139.0,166.0,111.0,198.0,206.0,116.0,132.0,156.0,135.0,196.0,93.0,197.0,183.0,125.0,158.0,165.0,164.0,147.0,193.0,164.0,127.0,190.0,147.0,169.0,178.0,208.0,157.0,191.0,153.0,101.0,140.0,187.0,142.0,159.0,121.0,161.0,151.0,178.0,174.0,182.0,154.0,126.0,171.0,142.0,188.0,127.0,174.0,183.0,115.0,171.0,191.0,172.0,159.0,137.0,141.0,121.0,216.0,127.0,142.0,137.0,133.0,163.0,163.0,188.0,223.0,191.0,129.0,157.0,127.0,166.0,149.0,100.0,131.0,145.0,210.0,162.0,139.0,155.0,146.0,115.0,184.0,166.0,181.0,125.0,160.0,158.0,153.0,120.0,180.0,170.0,124.0,120.0,118.0,162.0,186.0,186.0,264.0,121.0,160.0,160.0,150.0,145.0,195.0,201.0,165.0,172.0,175.0,165.0,130.0,137.0,187.0,188.0,133.0,81.0,140.0,179.0,191.0,155.0,171.0,224.0,146.0,153.0,184.0,113.0,151.0,116.0,142.0,179.0,175.0,169.0,171.0,167.0,172.0,137.0,184.0,107.0,173.0,131.0,193.0,133.0,166.0,149.0,164.0,146.0,206.0,134.0,116.0,167.0,192.0,178.0,194.0,141.0,151.0,185.0,142.0,71.0,133.0,126.0,146.0,125.0,153.0,173.0,149.0,169.0,153.0,156.0,171.0,179.0,188.0,161.0,232.0,135.0,199.0,43.0,158.0,150.0,191.0,158.0,149.0,187.0,206.0,142.0,202.0,139.0,143.0,179.0,165.0,161.0,155.0,157.0,196.0,186.0,174.0,180.0,155.0,161.0,116.0,190.0,164.0,174.0,227.0,200.0,169.0,151.0,163.0,210.0,178.0,185.0,178.0,167.0,165.0,166.0,128.0,184.0,168.0,156.0,157.0,210.0,147.0,192.0,118.0,182.0,191.0,131.0,158.0,193.0,96.0,151.0,135.0,null,166.0,119.0,188.0,112.0,193.0,173.0,190.0,149.0,168.0,153.0,227.0,172.0,202.0,159.0,184.0,164.0,236.0,158.0,186.0,120.0,107.0,172.0,81.0,131.0,200.0,188.0,114.0,188.0,181.0,140.0,203.0,122.0,99.0,162.0,228.0,188.0,164.0,112.0,143.0,144.0,153.0,192.0,143.0,139.0,171.0,136.0,186.0,165.0,144.0,181.0,161.0,190.0,61.0,173.0,175.0,196.0,187.0,195.0,155.0,160.0,186.0,150.0,165.0,163.0,127.0,192.0,182.0,178.0,159.0,176.0,138.0,152.0,147.0,125.0,249.0,66.0,180.0,207.0,184.0,58.0,203.0,125.0,159.0,173.0,173.0,172.0,139.0,159.0,163.0,163.0,209.0,208.0,185.0,184.0,164.0,158.0,136.0,179.0,149.0,206.0,159.0,171.0,143.0,172.0,173.0,189.0,177.0,162.0,169.0,160.0,214.0,192.0,199.0,188.0,143.0,177.0,189.0,132.0,161.0,183.0,135.0,161.0,208.0,158.0,154.0,68.0,210.0,163.0,162.0,186.0,156.0,209.0,139.0,149.0,213.0,159.0,190.0,139.0,168.0,196.0,231.0,169.0,155.0,174.0,74.0,162.0,163.0,48.0,108.0,130.0,166.0,167.0,177.0,126.0,203.0,71.0,148.0,156.0,195.0,139.0,218.0,198.0,201.0,214.0,161.0,194.0,205.0,125.0,175.0,183.0,168.0,144.0,119.0,206.0,133.0,220.0,170.0,152.0,176.0,212.0,168.0,151.0,178.0,175.0,128.0,164.0,182.0,153.0,147.0,159.0,211.0,188.0,177.0,246.0,182.0,180.0,169.0,89.0,143.0,187.0,219.0,163.0,165.0,173.0,175.0,154.0,140.0,170.0,175.0,179.0,71.0,182.0,214.0,185.0,148.0,219.0,188.0,199.0,177.0,186.0,232.0,176.0,167.0,159.0,171.0,130.0,206.0,161.0,137.0,150.0,140.0,151.0,109.0,198.0,152.0,179.0,188.0,174.0,162.0,156.0,172.0,183.0,133.0,169.0,214.0,162.0,164.0,160.0,162.0,192.0,176.0,203.0,176.0,156.0,161.0,188.0,233.0,213.0,63.0,180.0,163.0,184.0,116.0,176.0,171.0,134.0,132.0,163.0,148.0,150.0,163.0,158.0,164.0,217.0,196.0,207.0,176.0,143.0,224.0,202.0,163.0,175.0,192.0,165.0,155.0,229.0,179.0,209.0,197.0,194.0,168.0,202.0,185.0,165.0,170.0,159.0,163.0,195.0,168.0,162.0,172.0,149.0,180.0,178.0,164.0,177.0,126.0,165.0,85.0,155.0,115.0,195.0,127.0,196.0,146.0,150.0,220.0,165.0,173.0,186.0,121.0,111.0,154.0,192.0,153.0,150.0,201.0,132.0,190.0,157.0,160.0,189.0,188.0,222.0,153.0,150.0,148.0,107.0,151.0,205.0,196.0,189.0,138.0,121.0,221.0,178.0,132.0,134.0,192.0,160.0,124.0,172.0,172.0,172.0,155.0,180.0,219.0,221.0,167.0,157.0,93.0,186.0,135.0,156.0,157.0,155.0,126.0,172.0,166.0,165.0,128.0,136.0,150.0,135.0,166.0,190.0,130.0,165.0,116.0,137.0,91.0,142.0,135.0,172.0,236.0,165.0,173.0,139.0,136.0,193.0,132.0,178.0,206.0,159.0,211.0,129.0,211.0,138.0,194.0,172.0,181.0,170.0,170.0,162.0,150.0,190.0,155.0,152.0,216.0,166.0,163.0,217.0,199.0,193.0,176.0,200.0,190.0,152.0,170.0,218.0,182.0,116.0,156.0,223.0,157.0,69.0,169.0,188.0,145.0,196.0,147.0,154.0,171.0,159.0,196.0,203.0,153.0,144.0,174.0,208.0,178.0,190.0,177.0,193.0,209.0,166.0,145.0,161.0,98.0,210.0,178.0,134.0,179.0,160.0,194.0,211.0,169.0,151.0,160.0,158.0,189.0,208.0,158.0,131.0,179.0,154.0,194.0,204.0,172.0,218.0,163.0,198.0,205.0,122.0,200.0,158.0,205.0,144.0,213.0,173.0,176.0,154.0,229.0,175.0,160.0,186.0,178.0,227.0,193.0,155.0,175.0,128.0,135.0,136.0,215.0,190.0,236.0,145.0,208.0,201.0,203.0,258.0,180.0,198.0,201.0,213.0,127.0,131.0,null,215.0,172.0,119.0,140.0,182.0,228.0,215.0,180.0,200.0,168.0,150.0,219.0,183.0,168.0,172.0,145.0,189.0,178.0,214.0,187.0,188.0,224.0,177.0,201.0,198.0,173.0,183.0,234.0,171.0,174.0,175.0,209.0,194.0,169.0,177.0,207.0,278.0,186.0,183.0,200.0,163.0,192.0,126.0,182.0,273.0,200.0,166.0,184.0,235.0,164.0,138.0,183.0,197.0,197.0,168.0,148.0,162.0,207.0,288.0,224.0,90.0,193.0,177.0,267.0,223.0,143.0,180.0,211.0,225.0,207.0,262.0,258.0,197.0,201.0,213.0,154.0,145.0,163.0,202.0,170.0,148.0,168.0,236.0,174.0,222.0,166.0,242.0,232.0,158.0,142.0,188.0,209.0,145.0,215.0,219.0,215.0,160.0,173.0,176.0,114.0],\"xaxis\":\"x\",\"y\":[20.0,20.0,20.0,20.0,20.0,20.0,20.0,20.0,20.0,20.0,20.0,20.0,20.0,20.0,20.0,20.0,20.0,20.0,20.0,20.0,20.0,20.0,20.0,20.0,20.0,20.0,20.0,20.0,16.0,20.0,20.0,20.0,20.0,20.0,20.0,20.0,20.0,20.0,8.0,20.0,20.0,8.0,20.0,20.0,20.0,20.0,20.0,20.0,20.0,20.0,20.0,20.0,20.0,18.0,20.0,20.0,20.0,20.0,20.0,20.0,6.0,20.0,20.0,9.2,20.0,20.0,20.0,20.0,20.0,20.0,20.0,20.0,20.0,20.0,20.0,20.0,20.0,20.0,20.0,20.0,20.0,20.0,20.0,20.0,20.0,20.0,20.0,20.0,20.0,18.0,20.0,20.0,20.0,20.0,20.0,20.0,20.0,20.0,20.0,20.0,20.0,20.0,20.0,20.0,20.0,20.0,20.0,20.0,20.0,20.0,20.0,20.0,20.0,20.0,20.0,20.0,20.0,20.0,20.0,20.0,20.0,20.0,20.0,20.0,20.0,20.0,20.0,20.0,20.0,20.0,20.0,20.0,20.0,20.0,20.0,20.0,20.0,20.0,20.0,20.0,20.0,20.0,20.0,20.0,20.0,20.0,20.0,20.0,20.0,20.0,20.0,20.0,20.0,20.0,20.0,20.0,20.0,20.0,20.0,20.0,20.0,20.0,20.0,20.0,20.0,20.0,20.0,20.0,20.0,20.0,20.0,20.0,20.0,20.0,20.0,20.0,20.0,20.0,20.0,20.0,20.0,20.0,20.0,20.0,20.0,20.0,20.0,20.0,20.0,20.0,20.0,20.0,17.0,20.0,20.0,20.0,20.0,20.0,20.0,20.0,20.0,20.0,20.0,20.0,20.0,20.0,20.0,20.0,20.0,20.0,20.0,20.0,20.0,20.0,20.0,20.0,20.0,20.0,20.0,20.0,20.0,10.0,20.0,20.0,20.0,20.0,20.0,20.0,20.0,20.0,20.0,13.0,20.0,20.0,20.0,20.0,20.0,20.0,20.0,20.0,20.0,null,20.0,20.0,20.0,20.0,20.0,20.0,20.0,12.0,20.0,20.0,20.0,20.0,20.0,20.0,20.0,20.0,20.0,20.0,20.0,20.0,20.0,20.0,20.0,20.0,20.0,20.0,20.0,20.0,20.0,20.0,20.0,20.0,20.0,20.0,20.0,20.0,20.0,20.0,20.0,20.0,20.0,20.0,20.0,20.0,20.0,20.0,20.0,20.0,20.0,20.0,20.0,20.0,20.0,20.0,20.0,20.0,20.0,20.0,20.0,20.0,20.0,20.0,20.0,20.0,20.0,20.0,20.0,20.0,20.0,20.0,20.0,20.0,20.0,20.0,20.0,20.0,20.0,20.0,20.0,20.0,20.0,20.0,20.0,20.0,20.0,20.0,20.0,20.0,20.0,20.0,20.0,20.0,20.0,20.0,20.0,20.0,20.0,20.0,20.0,20.0,20.0,20.0,20.0,20.0,20.0,20.0,20.0,20.0,20.0,20.0,20.0,20.0,20.0,20.0,20.0,20.0,20.0,20.0,20.0,20.0,20.0,20.0,20.0,20.0,20.0,20.0,20.0,20.0,20.0,20.0,20.0,20.0,20.0,20.0,20.0,20.0,20.0,20.0,20.0,20.0,20.0,20.0,20.0,20.0,20.0,20.0,20.0,20.0,20.0,8.0,20.0,20.0,20.0,20.0,20.0,20.0,20.0,20.0,20.0,20.0,20.0,20.0,20.0,20.0,20.0,20.0,20.0,20.0,20.0,20.0,20.0,20.0,20.0,20.0,20.0,20.0,17.0,20.0,20.0,20.0,20.0,20.0,20.0,20.0,20.0,20.0,20.0,5.0,20.0,20.0,20.0,20.0,20.0,20.0,20.0,20.0,20.0,20.0,20.0,20.0,20.0,20.0,20.0,20.0,20.0,20.0,20.0,20.0,20.0,20.0,20.0,20.0,20.0,20.0,20.0,20.0,20.0,20.0,20.0,20.0,20.0,20.0,20.0,20.0,20.0,20.0,20.0,20.0,20.0,20.0,20.0,20.0,20.0,20.0,12.0,20.0,20.0,20.0,20.0,20.0,20.0,20.0,20.0,null,20.0,20.0,20.0,10.0,20.0,20.0,20.0,20.0,20.0,20.0,20.0,20.0,20.0,20.0,20.0,20.0,20.0,20.0,20.0,20.0,10.0,20.0,6.0,20.0,20.0,20.0,20.0,20.0,20.0,20.0,20.0,20.0,20.0,20.0,20.0,20.0,20.0,20.0,20.0,20.0,20.0,20.0,20.0,20.0,20.0,20.0,20.0,20.0,20.0,20.0,20.0,20.0,11.0,20.0,20.0,20.0,20.0,20.0,20.0,20.0,20.0,20.0,20.0,20.0,20.0,20.0,20.0,20.0,20.0,20.0,20.0,20.0,20.0,20.0,20.0,9.0,20.0,20.0,20.0,11.0,14.0,20.0,20.0,20.0,20.0,20.0,20.0,20.0,20.0,20.0,20.0,20.0,20.0,20.0,20.0,20.0,20.0,20.0,20.0,20.0,20.0,20.0,20.0,20.0,20.0,20.0,20.0,20.0,20.0,20.0,20.0,20.0,20.0,20.0,20.0,20.0,20.0,20.0,20.0,20.0,20.0,20.0,20.0,20.0,20.0,20.0,20.0,20.0,20.0,20.0,20.0,20.0,20.0,20.0,20.0,20.0,20.0,20.0,20.0,20.0,20.0,20.0,20.0,20.0,20.0,20.0,20.0,6.0,20.0,20.0,20.0,20.0,20.0,20.0,20.0,6.0,20.0,20.0,20.0,20.0,20.0,20.0,20.0,20.0,20.0,20.0,20.0,13.0,20.0,20.0,20.0,20.0,20.0,20.0,20.0,20.0,20.0,20.0,20.0,20.0,20.0,12.0,20.0,20.0,20.0,20.0,20.0,20.0,20.0,20.0,20.0,20.0,20.0,20.0,20.0,20.0,20.0,20.0,20.0,20.0,20.0,20.0,20.0,20.0,20.0,20.0,20.0,20.0,20.0,20.0,20.0,20.0,20.0,20.0,20.0,20.0,20.0,20.0,20.0,20.0,20.0,20.0,20.0,20.0,20.0,20.0,20.0,20.0,20.0,20.0,20.0,20.0,20.0,20.0,20.0,20.0,20.0,20.0,20.0,20.0,20.0,20.0,20.0,20.0,20.0,20.0,20.0,20.0,20.0,20.0,20.0,20.0,20.0,20.0,20.0,20.0,20.0,20.0,5.0,20.0,20.0,20.0,20.0,20.0,20.0,20.0,20.0,20.0,20.0,20.0,20.0,20.0,20.0,20.0,20.0,20.0,20.0,20.0,20.0,20.0,20.0,20.0,20.0,20.0,20.0,20.0,20.0,20.0,20.0,20.0,20.0,20.0,20.0,20.0,20.0,20.0,20.0,20.0,20.0,20.0,20.0,20.0,20.0,20.0,20.0,20.0,20.0,20.0,20.0,20.0,20.0,20.0,20.0,20.0,20.0,20.0,20.0,20.0,20.0,20.0,20.0,20.0,20.0,20.0,20.0,20.0,20.0,20.0,20.0,20.0,20.0,20.0,20.0,20.0,20.0,20.0,20.0,20.0,20.0,20.0,20.0,20.0,20.0,20.0,20.0,20.0,20.0,20.0,20.0,20.0,20.0,20.0,20.0,20.0,20.0,20.0,20.0,20.0,20.0,20.0,20.0,20.0,20.0,20.0,20.0,20.0,20.0,20.0,20.0,20.0,20.0,20.0,20.0,20.0,20.0,20.0,20.0,20.0,20.0,20.0,20.0,20.0,20.0,20.0,20.0,20.0,20.0,20.0,20.0,20.0,20.0,20.0,20.0,20.0,20.0,20.0,20.0,20.0,20.0,20.0,20.0,20.0,20.0,20.0,20.0,20.0,20.0,20.0,20.0,20.0,20.0,20.0,20.0,20.0,20.0,20.0,20.0,20.0,20.0,20.0,20.0,20.0,20.0,20.0,20.0,20.0,20.0,20.0,20.0,20.0,20.0,20.0,20.0,20.0,20.0,20.0,20.0,20.0,20.0,20.0,20.0,20.0,20.0,20.0,20.0,20.0,20.0,20.0,20.0,20.0,20.0,20.0,20.0,20.0,20.0,20.0,20.0,20.0,20.0,20.0,20.0,20.0,20.0,20.0,20.0,16.0,20.0,20.0,20.0,20.0,20.0,20.0,20.0,20.0,20.0,20.0,20.0,20.0,20.0,20.0,20.0,20.0,20.0,20.0,20.0,20.0,20.0,20.0,20.0,20.0,20.0,20.0,20.0,20.0,20.0,20.0,20.0,20.0,20.0,20.0,20.0,20.0,20.0,20.0,20.0,20.0,20.0,20.0,null,20.0,20.0,20.0,20.0,20.0,20.0,20.0,20.0,20.0,20.0,20.0,20.0,20.0,20.0,20.0,20.0,20.0,20.0,20.0,20.0,20.0,20.0,20.0,20.0,20.0,20.0,20.0,20.0,15.0,20.0,20.0,20.0,20.0,20.0,20.0,20.0,20.0,20.0,20.0,20.0,20.0,20.0,20.0,20.0,20.0,20.0,20.0,20.0,20.0,20.0,20.0,20.0,20.0,20.0,20.0,20.0,20.0,20.0,20.0,20.0,20.0,20.0,20.0,20.0,20.0,20.0,20.0,20.0,20.0,20.0,20.0,20.0,20.0,20.0,20.0,20.0,20.0,20.0,20.0,20.0,20.0,20.0,20.0,20.0,20.0,20.0,20.0,20.0,16.0,20.0,20.0,20.0,20.0,20.0,20.0,20.0,20.0,20.0,20.0,20.0],\"yaxis\":\"y\",\"type\":\"bar\"}],                        {\"template\":{\"data\":{\"histogram2dcontour\":[{\"type\":\"histogram2dcontour\",\"colorbar\":{\"outlinewidth\":0,\"ticks\":\"\"},\"colorscale\":[[0.0,\"#0d0887\"],[0.1111111111111111,\"#46039f\"],[0.2222222222222222,\"#7201a8\"],[0.3333333333333333,\"#9c179e\"],[0.4444444444444444,\"#bd3786\"],[0.5555555555555556,\"#d8576b\"],[0.6666666666666666,\"#ed7953\"],[0.7777777777777778,\"#fb9f3a\"],[0.8888888888888888,\"#fdca26\"],[1.0,\"#f0f921\"]]}],\"choropleth\":[{\"type\":\"choropleth\",\"colorbar\":{\"outlinewidth\":0,\"ticks\":\"\"}}],\"histogram2d\":[{\"type\":\"histogram2d\",\"colorbar\":{\"outlinewidth\":0,\"ticks\":\"\"},\"colorscale\":[[0.0,\"#0d0887\"],[0.1111111111111111,\"#46039f\"],[0.2222222222222222,\"#7201a8\"],[0.3333333333333333,\"#9c179e\"],[0.4444444444444444,\"#bd3786\"],[0.5555555555555556,\"#d8576b\"],[0.6666666666666666,\"#ed7953\"],[0.7777777777777778,\"#fb9f3a\"],[0.8888888888888888,\"#fdca26\"],[1.0,\"#f0f921\"]]}],\"heatmap\":[{\"type\":\"heatmap\",\"colorbar\":{\"outlinewidth\":0,\"ticks\":\"\"},\"colorscale\":[[0.0,\"#0d0887\"],[0.1111111111111111,\"#46039f\"],[0.2222222222222222,\"#7201a8\"],[0.3333333333333333,\"#9c179e\"],[0.4444444444444444,\"#bd3786\"],[0.5555555555555556,\"#d8576b\"],[0.6666666666666666,\"#ed7953\"],[0.7777777777777778,\"#fb9f3a\"],[0.8888888888888888,\"#fdca26\"],[1.0,\"#f0f921\"]]}],\"heatmapgl\":[{\"type\":\"heatmapgl\",\"colorbar\":{\"outlinewidth\":0,\"ticks\":\"\"},\"colorscale\":[[0.0,\"#0d0887\"],[0.1111111111111111,\"#46039f\"],[0.2222222222222222,\"#7201a8\"],[0.3333333333333333,\"#9c179e\"],[0.4444444444444444,\"#bd3786\"],[0.5555555555555556,\"#d8576b\"],[0.6666666666666666,\"#ed7953\"],[0.7777777777777778,\"#fb9f3a\"],[0.8888888888888888,\"#fdca26\"],[1.0,\"#f0f921\"]]}],\"contourcarpet\":[{\"type\":\"contourcarpet\",\"colorbar\":{\"outlinewidth\":0,\"ticks\":\"\"}}],\"contour\":[{\"type\":\"contour\",\"colorbar\":{\"outlinewidth\":0,\"ticks\":\"\"},\"colorscale\":[[0.0,\"#0d0887\"],[0.1111111111111111,\"#46039f\"],[0.2222222222222222,\"#7201a8\"],[0.3333333333333333,\"#9c179e\"],[0.4444444444444444,\"#bd3786\"],[0.5555555555555556,\"#d8576b\"],[0.6666666666666666,\"#ed7953\"],[0.7777777777777778,\"#fb9f3a\"],[0.8888888888888888,\"#fdca26\"],[1.0,\"#f0f921\"]]}],\"surface\":[{\"type\":\"surface\",\"colorbar\":{\"outlinewidth\":0,\"ticks\":\"\"},\"colorscale\":[[0.0,\"#0d0887\"],[0.1111111111111111,\"#46039f\"],[0.2222222222222222,\"#7201a8\"],[0.3333333333333333,\"#9c179e\"],[0.4444444444444444,\"#bd3786\"],[0.5555555555555556,\"#d8576b\"],[0.6666666666666666,\"#ed7953\"],[0.7777777777777778,\"#fb9f3a\"],[0.8888888888888888,\"#fdca26\"],[1.0,\"#f0f921\"]]}],\"mesh3d\":[{\"type\":\"mesh3d\",\"colorbar\":{\"outlinewidth\":0,\"ticks\":\"\"}}],\"scatter\":[{\"fillpattern\":{\"fillmode\":\"overlay\",\"size\":10,\"solidity\":0.2},\"type\":\"scatter\"}],\"parcoords\":[{\"type\":\"parcoords\",\"line\":{\"colorbar\":{\"outlinewidth\":0,\"ticks\":\"\"}}}],\"scatterpolargl\":[{\"type\":\"scatterpolargl\",\"marker\":{\"colorbar\":{\"outlinewidth\":0,\"ticks\":\"\"}}}],\"bar\":[{\"error_x\":{\"color\":\"#2a3f5f\"},\"error_y\":{\"color\":\"#2a3f5f\"},\"marker\":{\"line\":{\"color\":\"white\",\"width\":0.5},\"pattern\":{\"fillmode\":\"overlay\",\"size\":10,\"solidity\":0.2}},\"type\":\"bar\"}],\"scattergeo\":[{\"type\":\"scattergeo\",\"marker\":{\"colorbar\":{\"outlinewidth\":0,\"ticks\":\"\"}}}],\"scatterpolar\":[{\"type\":\"scatterpolar\",\"marker\":{\"colorbar\":{\"outlinewidth\":0,\"ticks\":\"\"}}}],\"histogram\":[{\"marker\":{\"pattern\":{\"fillmode\":\"overlay\",\"size\":10,\"solidity\":0.2}},\"type\":\"histogram\"}],\"scattergl\":[{\"type\":\"scattergl\",\"marker\":{\"colorbar\":{\"outlinewidth\":0,\"ticks\":\"\"}}}],\"scatter3d\":[{\"type\":\"scatter3d\",\"line\":{\"colorbar\":{\"outlinewidth\":0,\"ticks\":\"\"}},\"marker\":{\"colorbar\":{\"outlinewidth\":0,\"ticks\":\"\"}}}],\"scattermapbox\":[{\"type\":\"scattermapbox\",\"marker\":{\"colorbar\":{\"outlinewidth\":0,\"ticks\":\"\"}}}],\"scatterternary\":[{\"type\":\"scatterternary\",\"marker\":{\"colorbar\":{\"outlinewidth\":0,\"ticks\":\"\"}}}],\"scattercarpet\":[{\"type\":\"scattercarpet\",\"marker\":{\"colorbar\":{\"outlinewidth\":0,\"ticks\":\"\"}}}],\"carpet\":[{\"aaxis\":{\"endlinecolor\":\"#2a3f5f\",\"gridcolor\":\"#C8D4E3\",\"linecolor\":\"#C8D4E3\",\"minorgridcolor\":\"#C8D4E3\",\"startlinecolor\":\"#2a3f5f\"},\"baxis\":{\"endlinecolor\":\"#2a3f5f\",\"gridcolor\":\"#C8D4E3\",\"linecolor\":\"#C8D4E3\",\"minorgridcolor\":\"#C8D4E3\",\"startlinecolor\":\"#2a3f5f\"},\"type\":\"carpet\"}],\"table\":[{\"cells\":{\"fill\":{\"color\":\"#EBF0F8\"},\"line\":{\"color\":\"white\"}},\"header\":{\"fill\":{\"color\":\"#C8D4E3\"},\"line\":{\"color\":\"white\"}},\"type\":\"table\"}],\"barpolar\":[{\"marker\":{\"line\":{\"color\":\"white\",\"width\":0.5},\"pattern\":{\"fillmode\":\"overlay\",\"size\":10,\"solidity\":0.2}},\"type\":\"barpolar\"}],\"pie\":[{\"automargin\":true,\"type\":\"pie\"}]},\"layout\":{\"autotypenumbers\":\"strict\",\"colorway\":[\"#636efa\",\"#EF553B\",\"#00cc96\",\"#ab63fa\",\"#FFA15A\",\"#19d3f3\",\"#FF6692\",\"#B6E880\",\"#FF97FF\",\"#FECB52\"],\"font\":{\"color\":\"#2a3f5f\"},\"hovermode\":\"closest\",\"hoverlabel\":{\"align\":\"left\"},\"paper_bgcolor\":\"white\",\"plot_bgcolor\":\"white\",\"polar\":{\"bgcolor\":\"white\",\"angularaxis\":{\"gridcolor\":\"#EBF0F8\",\"linecolor\":\"#EBF0F8\",\"ticks\":\"\"},\"radialaxis\":{\"gridcolor\":\"#EBF0F8\",\"linecolor\":\"#EBF0F8\",\"ticks\":\"\"}},\"ternary\":{\"bgcolor\":\"white\",\"aaxis\":{\"gridcolor\":\"#DFE8F3\",\"linecolor\":\"#A2B1C6\",\"ticks\":\"\"},\"baxis\":{\"gridcolor\":\"#DFE8F3\",\"linecolor\":\"#A2B1C6\",\"ticks\":\"\"},\"caxis\":{\"gridcolor\":\"#DFE8F3\",\"linecolor\":\"#A2B1C6\",\"ticks\":\"\"}},\"coloraxis\":{\"colorbar\":{\"outlinewidth\":0,\"ticks\":\"\"}},\"colorscale\":{\"sequential\":[[0.0,\"#0d0887\"],[0.1111111111111111,\"#46039f\"],[0.2222222222222222,\"#7201a8\"],[0.3333333333333333,\"#9c179e\"],[0.4444444444444444,\"#bd3786\"],[0.5555555555555556,\"#d8576b\"],[0.6666666666666666,\"#ed7953\"],[0.7777777777777778,\"#fb9f3a\"],[0.8888888888888888,\"#fdca26\"],[1.0,\"#f0f921\"]],\"sequentialminus\":[[0.0,\"#0d0887\"],[0.1111111111111111,\"#46039f\"],[0.2222222222222222,\"#7201a8\"],[0.3333333333333333,\"#9c179e\"],[0.4444444444444444,\"#bd3786\"],[0.5555555555555556,\"#d8576b\"],[0.6666666666666666,\"#ed7953\"],[0.7777777777777778,\"#fb9f3a\"],[0.8888888888888888,\"#fdca26\"],[1.0,\"#f0f921\"]],\"diverging\":[[0,\"#8e0152\"],[0.1,\"#c51b7d\"],[0.2,\"#de77ae\"],[0.3,\"#f1b6da\"],[0.4,\"#fde0ef\"],[0.5,\"#f7f7f7\"],[0.6,\"#e6f5d0\"],[0.7,\"#b8e186\"],[0.8,\"#7fbc41\"],[0.9,\"#4d9221\"],[1,\"#276419\"]]},\"xaxis\":{\"gridcolor\":\"#EBF0F8\",\"linecolor\":\"#EBF0F8\",\"ticks\":\"\",\"title\":{\"standoff\":15},\"zerolinecolor\":\"#EBF0F8\",\"automargin\":true,\"zerolinewidth\":2},\"yaxis\":{\"gridcolor\":\"#EBF0F8\",\"linecolor\":\"#EBF0F8\",\"ticks\":\"\",\"title\":{\"standoff\":15},\"zerolinecolor\":\"#EBF0F8\",\"automargin\":true,\"zerolinewidth\":2},\"scene\":{\"xaxis\":{\"backgroundcolor\":\"white\",\"gridcolor\":\"#DFE8F3\",\"linecolor\":\"#EBF0F8\",\"showbackground\":true,\"ticks\":\"\",\"zerolinecolor\":\"#EBF0F8\",\"gridwidth\":2},\"yaxis\":{\"backgroundcolor\":\"white\",\"gridcolor\":\"#DFE8F3\",\"linecolor\":\"#EBF0F8\",\"showbackground\":true,\"ticks\":\"\",\"zerolinecolor\":\"#EBF0F8\",\"gridwidth\":2},\"zaxis\":{\"backgroundcolor\":\"white\",\"gridcolor\":\"#DFE8F3\",\"linecolor\":\"#EBF0F8\",\"showbackground\":true,\"ticks\":\"\",\"zerolinecolor\":\"#EBF0F8\",\"gridwidth\":2}},\"shapedefaults\":{\"line\":{\"color\":\"#2a3f5f\"}},\"annotationdefaults\":{\"arrowcolor\":\"#2a3f5f\",\"arrowhead\":0,\"arrowwidth\":1},\"geo\":{\"bgcolor\":\"white\",\"landcolor\":\"white\",\"subunitcolor\":\"#C8D4E3\",\"showland\":true,\"showlakes\":true,\"lakecolor\":\"white\"},\"title\":{\"x\":0.05},\"mapbox\":{\"style\":\"light\"}}},\"xaxis\":{\"anchor\":\"y\",\"domain\":[0.0,1.0],\"title\":{\"text\":\"target_runs\"}},\"yaxis\":{\"anchor\":\"x\",\"domain\":[0.0,1.0],\"title\":{\"text\":\"target_overs\"}},\"coloraxis\":{\"colorbar\":{\"title\":{\"text\":\"target_runs\"}},\"colorscale\":[[0.0,\"#0d0887\"],[0.1111111111111111,\"#46039f\"],[0.2222222222222222,\"#7201a8\"],[0.3333333333333333,\"#9c179e\"],[0.4444444444444444,\"#bd3786\"],[0.5555555555555556,\"#d8576b\"],[0.6666666666666666,\"#ed7953\"],[0.7777777777777778,\"#fb9f3a\"],[0.8888888888888888,\"#fdca26\"],[1.0,\"#f0f921\"]]},\"legend\":{\"tracegroupgap\":0},\"title\":{\"text\":\"Top Scorers in IPL\"},\"barmode\":\"relative\"},                        {\"responsive\": true}                    ).then(function(){\n",
       "                            \n",
       "var gd = document.getElementById('5937ff75-ee8d-4e13-a44b-5592cf2dabbe');\n",
       "var x = new MutationObserver(function (mutations, observer) {{\n",
       "        var display = window.getComputedStyle(gd).display;\n",
       "        if (!display || display === 'none') {{\n",
       "            console.log([gd, 'removed!']);\n",
       "            Plotly.purge(gd);\n",
       "            observer.disconnect();\n",
       "        }}\n",
       "}});\n",
       "\n",
       "// Listen for the removal of the full notebook cells\n",
       "var notebookContainer = gd.closest('#notebook-container');\n",
       "if (notebookContainer) {{\n",
       "    x.observe(notebookContainer, {childList: true});\n",
       "}}\n",
       "\n",
       "// Listen for the clearing of the current output cell\n",
       "var outputEl = gd.closest('.output');\n",
       "if (outputEl) {{\n",
       "    x.observe(outputEl, {childList: true});\n",
       "}}\n",
       "\n",
       "                        })                };                });            </script>        </div>"
      ]
     },
     "metadata": {},
     "output_type": "display_data"
    }
   ],
   "source": [
    "figure = px.bar(data, \n",
    "                x=data[\"target_runs\"], \n",
    "                y = data[\"target_overs\"], \n",
    "                color = data[\"target_runs\"],\n",
    "                title=\"Top Scorers in IPL\")\n",
    "figure.show()"
   ]
  },
  {
   "cell_type": "code",
   "execution_count": 53,
   "id": "0d670c60-45ca-49b9-8baf-4bd8a32efdda",
   "metadata": {},
   "outputs": [
    {
     "data": {
      "application/vnd.plotly.v1+json": {
       "config": {
        "plotlyServerURL": "https://plot.ly"
       },
       "data": [
        {
         "alignmentgroup": "True",
         "hovertemplate": "player_of_match=%{x}<br>count=%{y}<extra></extra>",
         "legendgroup": "",
         "marker": {
          "color": "#636efa",
          "pattern": {
           "shape": ""
          }
         },
         "name": "",
         "offsetgroup": "",
         "orientation": "v",
         "showlegend": false,
         "textposition": "auto",
         "type": "bar",
         "x": [
          "BB McCullum",
          "MEK Hussey",
          "MF Maharoof",
          "MV Boucher",
          "DJ Hussey",
          "SR Watson",
          "V Sehwag",
          "ML Hayden",
          "YK Pathan",
          "KC Sangakkara",
          "SR Watson",
          "JDP Oram",
          "AC Gilchrist",
          "SM Katich",
          "MS Dhoni",
          "ST Jayasuriya",
          "GD McGrath",
          "SE Marsh",
          "SA Asnodkar",
          "V Sehwag",
          "IK Pathan",
          "P Kumar",
          "SM Pollock",
          "Sohail Tanvir",
          "S Sreesanth",
          "AC Gilchrist",
          "A Nehra",
          "MS Dhoni",
          "SC Ganguly",
          "YK Pathan",
          "L Balaji",
          "SC Ganguly",
          "SR Watson",
          "SE Marsh",
          "Shoaib Akhtar",
          "ST Jayasuriya",
          "A Mishra",
          "SM Pollock",
          "DPMD Jayawardene",
          "GC Smith",
          "DJ Bravo",
          "M Ntini",
          "SP Goswami",
          "YK Pathan",
          "SE Marsh",
          "A Kumble",
          "SE Marsh",
          "KD Karthik",
          "JA Morkel",
          "R Vinay Kumar",
          "Umar Gul",
          "Sohail Tanvir",
          "SK Raina",
          "CRD Fernando",
          "SE Marsh",
          "SR Watson",
          "M Ntini",
          "YK Pathan",
          "SR Tendulkar",
          "R Dravid",
          "DL Vettori",
          "RP Singh",
          "M Muralitharan",
          "CH Gayle",
          "AC Gilchrist",
          "AB de Villiers",
          "YK Pathan",
          "RS Bopara",
          "PP Ojha",
          "TM Dilshan",
          "KC Sangakkara",
          "HH Gibbs",
          "SR Tendulkar",
          "YK Pathan",
          "MV Boucher",
          "KC Sangakkara",
          "DP Nannes",
          "SK Raina",
          "JP Duminy",
          "Yuvraj Singh",
          "YK Pathan",
          "SB Jakati",
          "DPMD Jayawardene",
          "JH Kallis",
          "MS Dhoni",
          "GC Smith",
          "G Gambhir",
          "RG Sharma",
          "A Singh",
          "ML Hayden",
          "A Nehra",
          "DPMD Jayawardene",
          "S Badrinath",
          "JP Duminy",
          "A Mishra",
          "DR Smith",
          "LRPL Taylor",
          "Harbhajan Singh",
          "R Bhatia",
          "LRPL Taylor",
          "SK Warne",
          "B Lee",
          "ML Hayden",
          "RG Sharma",
          "Yuvraj Singh",
          "AB de Villiers",
          "BJ Hodge",
          "JH Kallis",
          "LR Shukla",
          "M Muralitharan",
          "V Sehwag",
          "MK Pandey",
          "AC Gilchrist",
          "MK Pandey",
          "A Kumble",
          "AD Mathews",
          "YK Pathan",
          "G Gambhir",
          "MK Tiwary",
          "WPUJC Vaas",
          "V Sehwag",
          "JH Kallis",
          "MS Dhoni",
          "SR Tendulkar",
          "JH Kallis",
          "ML Hayden",
          "A Symonds",
          "AA Jhunjhunwala",
          "JH Kallis",
          "A Symonds",
          "J Theron",
          "SR Tendulkar",
          "RV Uthappa",
          "AC Voges",
          "SR Tendulkar",
          "KM Jadhav",
          "YK Pathan",
          "MK Tiwary",
          "NV Ojha",
          "Harbhajan Singh",
          "DA Warner",
          "SL Malinga",
          "M Vijay",
          "KD Karthik",
          "SC Ganguly",
          "KP Pietersen",
          "M Vijay",
          "AT Rayudu",
          "DPMD Jayawardene",
          "PD Collingwood",
          "SK Warne",
          "SK Raina",
          "MJ Lumb",
          "SC Ganguly",
          "TL Suman",
          "KC Sangakkara",
          "RJ Harris",
          "R Vinay Kumar",
          "PP Chawla",
          "SR Tendulkar",
          "Harmeet Singh",
          "KA Pollard",
          "R Ashwin",
          "KP Pietersen",
          "G Gambhir",
          "RG Sharma",
          "R McLaren",
          "JD Unadkat",
          "MS Dhoni",
          "A Symonds",
          "M Kartik",
          "KA Pollard",
          "DE Bollinger",
          "A Kumble",
          "SK Raina",
          "S Anirudha",
          "SK Trivedi",
          "AB de Villiers",
          "SL Malinga",
          "SB Wagh",
          "JH Kallis",
          "SK Warne",
          "SR Tendulkar",
          "PC Valthaty",
          "MD Mishra",
          "DW Steyn",
          "G Gambhir",
          "BB McCullum",
          "MEK Hussey",
          "PC Valthaty",
          "Yuvraj Singh",
          "L Balaji",
          "BB McCullum",
          "S Sohal",
          "MM Patel",
          "DPMD Jayawardene",
          "SE Marsh",
          "Harbhajan Singh",
          "CH Gayle",
          "DA Warner",
          "SL Malinga",
          "SK Warne",
          "MEK Hussey",
          "V Kohli",
          "DE Bollinger",
          "I Sharma",
          "MK Tiwary",
          "J Botha",
          "V Kohli",
          "V Sehwag",
          "Iqbal Abdulla",
          "LRPL Taylor",
          "JA Morkel",
          "KA Pollard",
          "P Parameswaran",
          "YK Pathan",
          "MEK Hussey",
          "R Sharma",
          "BJ Hodge",
          "V Sehwag",
          "CH Gayle",
          "Iqbal Abdulla",
          "AT Rayudu",
          "CH Gayle",
          "R Sharma",
          "M Vijay",
          "MR Marsh",
          "BA Bhatt",
          "S Aravind",
          "MS Dhoni",
          "KD Karthik",
          "CH Gayle",
          "A Mishra",
          "PP Chawla",
          "BJ Hodge",
          "A Mishra",
          "AC Gilchrist",
          "WP Saha",
          "YK Pathan",
          "SR Watson",
          "S Dhawan",
          null,
          "CH Gayle",
          "JEC Franklin",
          "SK Raina",
          "MM Patel",
          "CH Gayle",
          "M Vijay",
          "RE Levi",
          "IK Pathan",
          "SPD Smith",
          "AM Rahane",
          "AB de Villiers",
          "RA Jadeja",
          "BJ Hodge",
          "MN Samuels",
          "RG Sharma",
          "L Balaji",
          "M Morkel",
          "KA Pollard",
          "F du Plessis",
          "AD Mascarenhas",
          "Shakib Al Hasan",
          "JD Ryder",
          "SP Narine",
          "AM Rahane",
          "S Nadeem",
          "BJ Hodge",
          "CH Gayle",
          "G Gambhir",
          "KP Pietersen",
          "KMDN Kulasekara",
          "CH Gayle",
          "F du Plessis",
          "SC Ganguly",
          "SE Marsh",
          "B Lee",
          "AB de Villiers",
          "V Sehwag",
          "AT Rayudu",
          "CL White",
          "V Sehwag",
          "Mandeep Singh",
          "G Gambhir",
          "V Sehwag",
          "DW Steyn",
          "G Gambhir",
          "KC Sangakkara",
          "P Negi",
          "Azhar Mahmood",
          "SL Malinga",
          "SK Raina",
          "SP Narine",
          "SR Watson",
          "DR Smith",
          "AB de Villiers",
          "JH Kallis",
          "SR Watson",
          "Mandeep Singh",
          "CH Gayle",
          "DA Warner",
          "BW Hilfenhaus",
          "CH Gayle",
          "RG Sharma",
          "BW Hilfenhaus",
          "A Chandila",
          "DJ Hussey",
          "AT Rayudu",
          "MEK Hussey",
          "UT Yadav",
          "SP Narine",
          "AC Gilchrist",
          "CH Gayle",
          "DW Steyn",
          "UT Yadav",
          "Shakib Al Hasan",
          "DW Steyn",
          "DR Smith",
          "YK Pathan",
          "MS Dhoni",
          "M Vijay",
          "MS Bisla",
          "SP Narine",
          "CH Gayle",
          "A Mishra",
          "R Dravid",
          "KA Pollard",
          "M Vohra",
          "GH Vihari",
          "SK Trivedi",
          "KD Karthik",
          "V Kohli",
          "MEK Hussey",
          "CH Gayle",
          "AJ Finch",
          "A Mishra",
          "RG Sharma",
          "RA Jadeja",
          "G Gambhir",
          "JP Faulkner",
          "SPD Smith",
          "MS Gony",
          "V Kohli",
          "A Mishra",
          "AM Rahane",
          "MEK Hussey",
          "GH Vihari",
          "RA Jadeja",
          "R Vinay Kumar",
          "V Sehwag",
          "DA Miller",
          "MEK Hussey",
          "CH Gayle",
          "Harmeet Singh",
          "DR Smith",
          "MS Dhoni",
          "JH Kallis",
          "JP Faulkner",
          "DR Smith",
          "MEK Hussey",
          "DA Warner",
          "SV Samson",
          "RG Sharma",
          "MS Dhoni",
          "I Sharma",
          "DA Warner",
          "SK Raina",
          "AB de Villiers",
          "YK Pathan",
          "DJG Sammy",
          "MG Johnson",
          "AM Rahane",
          "DA Miller",
          "AM Rahane",
          "SR Tendulkar",
          "SK Raina",
          "KK Cooper",
          "G Gambhir",
          "JD Unadkat",
          "MG Johnson",
          "PA Patel",
          "JH Kallis",
          "SR Watson",
          "KA Pollard",
          "AC Gilchrist",
          "MS Dhoni",
          "MK Pandey",
          "AP Tare",
          "DA Miller",
          "A Mishra",
          "Azhar Mahmood",
          "V Kohli",
          "LJ Wright",
          "PA Patel",
          "MEK Hussey",
          "BJ Hodge",
          "Harbhajan Singh",
          "KA Pollard",
          "JH Kallis",
          "YS Chahal",
          "GJ Maxwell",
          "AM Rahane",
          "PA Patel",
          "JP Duminy",
          "GJ Maxwell",
          "SK Raina",
          "GJ Maxwell",
          "RA Jadeja",
          "CA Lynn",
          "AJ Finch",
          "MM Sharma",
          "PV Tambe",
          "Sandeep Sharma",
          "M Vijay",
          "DR Smith",
          "Sandeep Sharma",
          "JP Faulkner",
          "B Kumar",
          "RA Jadeja",
          "CJ Anderson",
          "KK Nair",
          "AB de Villiers",
          "PV Tambe",
          "DR Smith",
          "RG Sharma",
          "G Gambhir",
          "GJ Maxwell",
          "B Kumar",
          "Sandeep Sharma",
          "DW Steyn",
          "DR Smith",
          "G Gambhir",
          "JP Faulkner",
          "AT Rayudu",
          "RA Jadeja",
          "Yuvraj Singh",
          "WP Saha",
          "RV Uthappa",
          "AM Rahane",
          "AB de Villiers",
          "UT Yadav",
          "MEK Hussey",
          "AR Patel",
          "DA Warner",
          "RV Uthappa",
          "LMP Simmons",
          "RV Uthappa",
          "DA Warner",
          "MEK Hussey",
          "SE Marsh",
          "MS Dhoni",
          "YK Pathan",
          "M Vohra",
          "CJ Anderson",
          "UT Yadav",
          "SK Raina",
          "V Sehwag",
          "MK Pandey",
          "M Morkel",
          "A Nehra",
          "JP Faulkner",
          "BB McCullum",
          "CH Gayle",
          "DJ Hooda",
          "GJ Bailey",
          "DA Warner",
          "SPD Smith",
          "MA Agarwal",
          "AM Rahane",
          "A Nehra",
          "JP Duminy",
          "AD Russell",
          "AM Rahane",
          "Harbhajan Singh",
          "UT Yadav",
          "SE Marsh",
          "DA Warner",
          "SK Raina",
          "SS Iyer",
          "MA Starc",
          "SL Malinga",
          "BB McCullum",
          "VR Aaron",
          "TA Boult",
          "DJ Bravo",
          null,
          "AD Russell",
          "NM Coulter-Nile",
          "AT Rayudu",
          "Mandeep Singh",
          "DA Warner",
          "LMP Simmons",
          "AM Rahane",
          "SK Raina",
          "UT Yadav",
          "Harbhajan Singh",
          "CH Gayle",
          "PP Chawla",
          "EJG Morgan",
          "HH Pandya",
          "AD Russell",
          "MC Henriques",
          "AB de Villiers",
          "RA Jadeja",
          "DA Warner",
          "Z Khan",
          "AR Patel",
          "HH Pandya",
          "V Kohli",
          "P Negi",
          "SR Watson",
          null,
          "MJ McClenaghan",
          "KA Pollard",
          "AB de Villiers",
          "A Nehra",
          "RG Sharma",
          "AM Rahane",
          "AD Russell",
          "AJ Finch",
          "AB de Villiers",
          "RG Sharma",
          "AJ Finch",
          "A Mishra",
          "G Gambhir",
          "AJ Finch",
          "M Vohra",
          "Q de Kock",
          "DA Warner",
          "RV Uthappa",
          "RG Sharma",
          "B Kumar",
          "AB de Villiers",
          "SV Samson",
          "Mustafizur Rahman",
          "V Kohli",
          "SA Yadav",
          "PA Patel",
          "AB Dinda",
          "CH Morris",
          "RG Sharma",
          "DR Smith",
          "CR Brathwaite",
          "DA Warner",
          "AR Patel",
          "RG Sharma",
          "AD Russell",
          "RR Pant",
          "AD Russell",
          "AM Rahane",
          "B Kumar",
          "V Kohli",
          "MP Stoinis",
          "A Nehra",
          "P Kumar",
          "SR Watson",
          "A Zampa",
          "KH Pandya",
          "CH Morris",
          "MP Stoinis",
          "AB de Villiers",
          "YK Pathan",
          "HM Amla",
          "KH Pandya",
          "V Kohli",
          "AB Dinda",
          "V Kohli",
          "DR Smith",
          "KK Nair",
          "MS Dhoni",
          "SK Raina",
          "YK Pathan",
          "V Kohli",
          "AB de Villiers",
          "MC Henriques",
          "DA Warner",
          "BCJ Cutting",
          "Yuvraj Singh",
          "SPD Smith",
          "CA Lynn",
          "GJ Maxwell",
          "KM Jadhav",
          "Rashid Khan",
          "N Rana",
          "AR Patel",
          "SV Samson",
          "JJ Bumrah",
          "SP Narine",
          "KA Pollard",
          "AJ Tye",
          "RV Uthappa",
          "CJ Anderson",
          "N Rana",
          "BA Stokes",
          "NM Coulter-Nile",
          "B Kumar",
          "CH Gayle",
          "KS Williamson",
          "JC Buttler",
          "SK Raina",
          "MJ McClenaghan",
          "MS Dhoni",
          "HM Amla",
          "NM Coulter-Nile",
          "BA Stokes",
          "RV Uthappa",
          "AJ Tye",
          "G Gambhir",
          "Rashid Khan",
          "LH Ferguson",
          "KH Pandya",
          "Sandeep Sharma",
          "DA Warner",
          "RG Sharma",
          "BA Stokes",
          "Mohammed Shami",
          "RA Tripathi",
          "RR Pant",
          "Sandeep Sharma",
          "JD Unadkat",
          "LMP Simmons",
          "SP Narine",
          "DR Smith",
          "S Dhawan",
          "MM Sharma",
          "SS Iyer",
          "WP Saha",
          "KK Nair",
          "Mohammed Siraj",
          "AT Rayudu",
          "JD Unadkat",
          "HV Patel",
          "Washington Sundar",
          "NM Coulter-Nile",
          "KV Sharma",
          "KH Pandya",
          "DJ Bravo",
          "KL Rahul",
          "SP Narine",
          "S Dhawan",
          "SW Billings",
          "SV Samson",
          "Rashid Khan",
          "UT Yadav",
          "JJ Roy",
          "B Stanlake",
          "SV Samson",
          "CH Gayle",
          "N Rana",
          "RG Sharma",
          "N Rana",
          "CH Gayle",
          "SR Watson",
          "KL Rahul",
          "AB de Villiers",
          "AT Rayudu",
          "JC Archer",
          "AS Rajpoot",
          "Rashid Khan",
          "MS Dhoni",
          "AS Rajpoot",
          "SS Iyer",
          "RG Sharma",
          "KS Williamson",
          "CA Lynn",
          "SR Watson",
          "TG Southee",
          "RR Pant",
          "SP Narine",
          "SA Yadav",
          "RA Jadeja",
          "Rashid Khan",
          "HH Pandya",
          "Mujeeb Ur Rahman",
          "KS Williamson",
          "JC Buttler",
          "Ishan Kishan",
          "S Dhawan",
          "JC Buttler",
          "SP Narine",
          "AB de Villiers",
          "AT Rayudu",
          "JC Buttler",
          "UT Yadav",
          "Kuldeep Yadav",
          "JJ Bumrah",
          "AB de Villiers",
          "HV Patel",
          "S Gopal",
          "CA Lynn",
          "A Mishra",
          "L Ngidi",
          "F du Plessis",
          "AD Russell",
          "Rashid Khan",
          "SR Watson",
          "Harbhajan Singh",
          "AD Russell",
          "RR Pant",
          "CH Gayle",
          "SR Watson",
          "AD Russell",
          "JJ Bumrah",
          "Rashid Khan",
          "MA Agarwal",
          "PP Shaw",
          "JM Bairstow",
          "MS Dhoni",
          "SM Curran",
          "S Gopal",
          "HH Pandya",
          "JM Bairstow",
          "AD Russell",
          "Harbhajan Singh",
          "AS Joseph",
          "K Rabada",
          "HF Gurney",
          "KL Rahul",
          "DL Chahar",
          "KA Pollard",
          "MS Dhoni",
          "S Dhawan",
          "JC Buttler",
          "AB de Villiers",
          "Imran Tahir",
          "KMA Paul",
          "SL Malinga",
          "R Ashwin",
          "DA Warner",
          "HH Pandya",
          "V Kohli",
          "SPD Smith",
          "SS Iyer",
          "KK Ahmed",
          "PA Patel",
          "RR Pant",
          "SR Watson",
          "AB de Villiers",
          "VR Aaron",
          "RG Sharma",
          "JD Unadkat",
          "S Dhawan",
          "AD Russell",
          "DA Warner",
          null,
          "MS Dhoni",
          "JJ Bumrah",
          "Shubman Gill",
          "A Mishra",
          "SO Hetmyer",
          "KL Rahul",
          "HH Pandya",
          "SA Yadav",
          "RR Pant",
          "F du Plessis",
          "JJ Bumrah",
          "AT Rayudu",
          "MP Stoinis",
          "YS Chahal",
          "SV Samson",
          "RG Sharma",
          "KL Rahul",
          "PP Shaw",
          "Shubman Gill",
          "SV Samson",
          "AB de Villiers",
          "Rashid Khan",
          "Shivam Mavi",
          "KA Pollard",
          "PK Garg",
          "YS Chahal",
          "SS Iyer",
          "SR Watson",
          "TA Boult",
          "AR Patel",
          "SA Yadav",
          "RA Tripathi",
          "JM Bairstow",
          "R Ashwin",
          "KD Karthik",
          "V Kohli",
          "R Tewatia",
          "Q de Kock",
          "AB de Villiers",
          "RA Jadeja",
          "A Nortje",
          "KL Rahul",
          "Q de Kock",
          "S Dhawan",
          "AB de Villiers",
          "LH Ferguson",
          "KL Rahul",
          "JC Buttler",
          "S Dhawan",
          "Mohammed Siraj",
          "MK Pandey",
          "TA Boult",
          "CV Varun",
          "CJ Jordan",
          "BA Stokes",
          "RD Gaikwad",
          "CH Gayle",
          "WP Saha",
          "SA Yadav",
          "RD Gaikwad",
          "BA Stokes",
          "Sandeep Sharma",
          "Ishan Kishan",
          "RD Gaikwad",
          "PJ Cummins",
          "A Nortje",
          "S Nadeem",
          "JJ Bumrah",
          "KS Williamson",
          "MP Stoinis",
          "TA Boult",
          "HV Patel",
          "S Dhawan",
          "N Rana",
          "SV Samson",
          "RD Chahar",
          "GJ Maxwell",
          "JD Unadkat",
          "DL Chahar",
          "KA Pollard",
          "AB de Villiers",
          "S Dhawan",
          "MM Ali",
          "A Mishra",
          "JM Bairstow",
          "F du Plessis",
          "D Padikkal",
          "KL Rahul",
          "CH Morris",
          "RA Jadeja",
          "PP Shaw",
          "EJG Morgan",
          "AB de Villiers",
          "RD Gaikwad",
          "Q de Kock",
          "PP Shaw",
          "Harpreet Brar",
          "KA Pollard",
          "JC Buttler",
          "MA Agarwal",
          "RD Gaikwad",
          "CV Varun",
          "Kartik Tyagi",
          "A Nortje",
          "SP Narine",
          "DJ Bravo",
          "SS Iyer",
          "JO Holder",
          "RA Jadeja",
          "GJ Maxwell",
          "JJ Roy",
          "SP Narine",
          "KA Pollard",
          "YS Chahal",
          "JR Hazlewood",
          "KL Rahul",
          "RD Gaikwad",
          "AR Patel",
          "GJ Maxwell",
          "Shubman Gill",
          "AR Patel",
          "NM Coulter-Nile",
          "KS Williamson",
          "KL Rahul",
          "Shivam Mavi",
          "Ishan Kishan",
          "KS Bharat",
          "RD Gaikwad",
          "SP Narine",
          "VR Iyer",
          "F du Plessis",
          "UT Yadav",
          "Kuldeep Yadav",
          "OF Smith",
          "Mohammed Shami",
          "SV Samson",
          "PWH de Silva",
          "E Lewis",
          "UT Yadav",
          "JC Buttler",
          "LH Ferguson",
          "LS Livingstone",
          "Avesh Khan",
          "KD Karthik",
          "PJ Cummins",
          "Q de Kock",
          "Shubman Gill",
          "Abhishek Sharma",
          "Anuj Rawat",
          "Kuldeep Yadav",
          "YS Chahal",
          "KS Williamson",
          "S Dube",
          "MA Agarwal",
          "HH Pandya",
          "RA Tripathi",
          "KL Rahul",
          "KD Karthik",
          "Umran Malik",
          "DA Miller",
          "YS Chahal",
          "F du Plessis",
          "Kuldeep Yadav",
          "Mukesh Choudhary",
          "JC Buttler",
          "Rashid Khan",
          "M Jansen",
          "KL Rahul",
          "S Dhawan",
          "R Parag",
          "Umran Malik",
          "Kuldeep Yadav",
          "KH Pandya",
          "R Tewatia",
          "SA Yadav",
          "Mohsin Khan",
          "RD Gaikwad",
          "RK Singh",
          "K Rabada",
          "HV Patel",
          "DA Warner",
          "TH David",
          "YBK Jaiswal",
          "Avesh Khan",
          "PWH de Silva",
          "DP Conway",
          "JJ Bumrah",
          "Shubman Gill",
          "MR Marsh",
          "DR Sams",
          "JM Bairstow",
          "AD Russell",
          "WP Saha",
          "TA Boult",
          "SN Thakur",
          "RA Tripathi",
          "Q de Kock",
          "V Kohli",
          "R Ashwin",
          "JJ Bumrah",
          "Harpreet Brar",
          "DA Miller",
          "RM Patidar",
          "JC Buttler",
          "HH Pandya",
          "Rashid Khan",
          "Arshdeep Singh",
          "MA Wood",
          "JC Buttler",
          "F du Plessis",
          "MM Ali",
          "B Sai Sudharsan",
          "NT Ellis",
          "SN Thakur",
          "KH Pandya",
          "YBK Jaiswal",
          "RA Jadeja",
          "RK Singh",
          "S Dhawan",
          "N Pooran",
          "RG Sharma",
          "R Ashwin",
          "MM Sharma",
          "HC Brook",
          "V Kohli",
          "Sikandar Raza",
          "VR Iyer",
          "SO Hetmyer",
          "DP Conway",
          "C Green",
          "MP Stoinis",
          "Mohammed Siraj",
          "I Sharma",
          "RA Jadeja",
          "MM Sharma",
          "SM Curran",
          "GJ Maxwell",
          "AM Rahane",
          "AR Patel",
          "A Manohar",
          "CV Varun",
          "YBK Jaiswal",
          "MP Stoinis",
          "J Little",
          "MR Marsh",
          "DP Conway",
          "YBK Jaiswal",
          "F du Plessis",
          "Mohammed Shami",
          null,
          "Ishan Kishan",
          "CV Varun",
          "Rashid Khan",
          "M Pathirana",
          "PD Salt",
          "Shubman Gill",
          "GD Phillips",
          "AD Russell",
          "SA Yadav",
          "RA Jadeja",
          "YBK Jaiswal",
          "SA Yadav",
          "PN Mankad",
          "P Simran Singh",
          "WD Parnell",
          "RK Singh",
          "Shubman Gill",
          "MP Stoinis",
          "RR Rossouw",
          "V Kohli",
          "D Padikkal",
          "RD Gaikwad",
          "N Pooran",
          "C Green",
          "Shubman Gill",
          "RD Gaikwad",
          "Akash Madhwal",
          "Shubman Gill",
          "DP Conway",
          "Mustafizur Rahman",
          "SM Curran",
          "AD Russell",
          "SV Samson",
          "B Sai Sudharsan",
          "V Kohli",
          "S Dube",
          "Abhishek Sharma",
          "R Parag",
          "SP Narine",
          "MP Yadav",
          "MM Sharma",
          "KK Ahmed",
          "TA Boult",
          "MP Yadav",
          "SP Narine",
          "Shashank Singh",
          "Abhishek Sharma",
          "JC Buttler",
          "R Shepherd",
          "Yash Thakur",
          "RA Jadeja",
          "Nithish Kumar Reddy",
          "Rashid Khan",
          "JJ Bumrah",
          "Kuldeep Yadav",
          "SO Hetmyer",
          "PD Salt",
          "M Pathirana",
          "TM Head",
          "JC Buttler",
          "RR Pant",
          "JJ Bumrah",
          "KL Rahul",
          "TM Head",
          "AD Russell",
          "R Sai Kishore",
          "Sandeep Sharma",
          "MP Stoinis",
          "RR Pant",
          "RM Patidar",
          "JM Bairstow",
          "J Fraser-McGurk",
          "SV Samson",
          "WG Jacks",
          "RD Gaikwad",
          "CV Varun",
          "MP Stoinis",
          "Harpreet Brar",
          "B Kumar",
          "VR Iyer",
          "Mohammed Siraj",
          "RA Jadeja",
          "SP Narine",
          "SA Yadav",
          "Kuldeep Yadav",
          "TM Head",
          "V Kohli",
          "Shubman Gill",
          "CV Varun",
          "Simarjeet Singh",
          "C Green",
          "I Sharma",
          "SM Curran",
          "N Pooran",
          "F du Plessis",
          "Abhishek Sharma",
          "MA Starc",
          "R Ashwin",
          "Shahbaz Ahmed",
          "MA Starc"
         ],
         "xaxis": "x",
         "y": [
          1,
          1,
          1,
          1,
          1,
          1,
          1,
          1,
          1,
          1,
          1,
          1,
          1,
          1,
          1,
          1,
          1,
          1,
          1,
          1,
          1,
          1,
          1,
          1,
          1,
          1,
          1,
          1,
          1,
          1,
          1,
          1,
          1,
          1,
          1,
          1,
          1,
          1,
          1,
          1,
          1,
          1,
          1,
          1,
          1,
          1,
          1,
          1,
          1,
          1,
          1,
          1,
          1,
          1,
          1,
          1,
          1,
          1,
          1,
          1,
          1,
          1,
          1,
          1,
          1,
          1,
          1,
          1,
          1,
          1,
          1,
          1,
          1,
          1,
          1,
          1,
          1,
          1,
          1,
          1,
          1,
          1,
          1,
          1,
          1,
          1,
          1,
          1,
          1,
          1,
          1,
          1,
          1,
          1,
          1,
          1,
          1,
          1,
          1,
          1,
          1,
          1,
          1,
          1,
          1,
          1,
          1,
          1,
          1,
          1,
          1,
          1,
          1,
          1,
          1,
          1,
          1,
          1,
          1,
          1,
          1,
          1,
          1,
          1,
          1,
          1,
          1,
          1,
          1,
          1,
          1,
          1,
          1,
          1,
          1,
          1,
          1,
          1,
          1,
          1,
          1,
          1,
          1,
          1,
          1,
          1,
          1,
          1,
          1,
          1,
          1,
          1,
          1,
          1,
          1,
          1,
          1,
          1,
          1,
          1,
          1,
          1,
          1,
          1,
          1,
          1,
          1,
          1,
          1,
          1,
          1,
          1,
          1,
          1,
          1,
          1,
          1,
          1,
          1,
          1,
          1,
          1,
          1,
          1,
          1,
          1,
          1,
          1,
          1,
          1,
          1,
          1,
          1,
          1,
          1,
          1,
          1,
          1,
          1,
          1,
          1,
          1,
          1,
          1,
          1,
          1,
          1,
          1,
          1,
          1,
          1,
          1,
          1,
          1,
          1,
          1,
          1,
          1,
          1,
          1,
          1,
          1,
          1,
          1,
          1,
          1,
          1,
          1,
          1,
          1,
          1,
          1,
          1,
          1,
          1,
          1,
          1,
          1,
          1,
          1,
          1,
          1,
          1,
          1,
          1,
          1,
          1,
          1,
          1,
          1,
          1,
          1,
          1,
          1,
          1,
          1,
          1,
          1,
          1,
          1,
          1,
          1,
          1,
          1,
          1,
          1,
          1,
          1,
          1,
          1,
          1,
          1,
          1,
          1,
          1,
          1,
          1,
          1,
          1,
          1,
          1,
          1,
          1,
          1,
          1,
          1,
          1,
          1,
          1,
          1,
          1,
          1,
          1,
          1,
          1,
          1,
          1,
          1,
          1,
          1,
          1,
          1,
          1,
          1,
          1,
          1,
          1,
          1,
          1,
          1,
          1,
          1,
          1,
          1,
          1,
          1,
          1,
          1,
          1,
          1,
          1,
          1,
          1,
          1,
          1,
          1,
          1,
          1,
          1,
          1,
          1,
          1,
          1,
          1,
          1,
          1,
          1,
          1,
          1,
          1,
          1,
          1,
          1,
          1,
          1,
          1,
          1,
          1,
          1,
          1,
          1,
          1,
          1,
          1,
          1,
          1,
          1,
          1,
          1,
          1,
          1,
          1,
          1,
          1,
          1,
          1,
          1,
          1,
          1,
          1,
          1,
          1,
          1,
          1,
          1,
          1,
          1,
          1,
          1,
          1,
          1,
          1,
          1,
          1,
          1,
          1,
          1,
          1,
          1,
          1,
          1,
          1,
          1,
          1,
          1,
          1,
          1,
          1,
          1,
          1,
          1,
          1,
          1,
          1,
          1,
          1,
          1,
          1,
          1,
          1,
          1,
          1,
          1,
          1,
          1,
          1,
          1,
          1,
          1,
          1,
          1,
          1,
          1,
          1,
          1,
          1,
          1,
          1,
          1,
          1,
          1,
          1,
          1,
          1,
          1,
          1,
          1,
          1,
          1,
          1,
          1,
          1,
          1,
          1,
          1,
          1,
          1,
          1,
          1,
          1,
          1,
          1,
          1,
          1,
          1,
          1,
          1,
          1,
          1,
          1,
          1,
          1,
          1,
          1,
          1,
          1,
          1,
          1,
          1,
          1,
          1,
          1,
          1,
          1,
          1,
          1,
          1,
          1,
          1,
          1,
          1,
          1,
          1,
          1,
          1,
          1,
          1,
          1,
          1,
          1,
          1,
          1,
          1,
          1,
          1,
          1,
          1,
          1,
          1,
          1,
          1,
          1,
          1,
          1,
          1,
          1,
          1,
          1,
          1,
          1,
          1,
          1,
          1,
          1,
          1,
          1,
          1,
          1,
          1,
          1,
          1,
          1,
          1,
          1,
          1,
          1,
          1,
          1,
          1,
          1,
          1,
          1,
          1,
          1,
          1,
          1,
          1,
          1,
          1,
          1,
          1,
          1,
          1,
          1,
          1,
          1,
          1,
          1,
          1,
          1,
          1,
          1,
          1,
          1,
          1,
          1,
          1,
          1,
          1,
          1,
          1,
          1,
          1,
          1,
          1,
          1,
          1,
          1,
          1,
          1,
          1,
          1,
          1,
          1,
          1,
          1,
          1,
          1,
          1,
          1,
          1,
          1,
          1,
          1,
          1,
          1,
          1,
          1,
          1,
          1,
          1,
          1,
          1,
          1,
          1,
          1,
          1,
          1,
          1,
          1,
          1,
          1,
          1,
          1,
          1,
          1,
          1,
          1,
          1,
          1,
          1,
          1,
          1,
          1,
          1,
          1,
          1,
          1,
          1,
          1,
          1,
          1,
          1,
          1,
          1,
          1,
          1,
          1,
          1,
          1,
          1,
          1,
          1,
          1,
          1,
          1,
          1,
          1,
          1,
          1,
          1,
          1,
          1,
          1,
          1,
          1,
          1,
          1,
          1,
          1,
          1,
          1,
          1,
          1,
          1,
          1,
          1,
          1,
          1,
          1,
          1,
          1,
          1,
          1,
          1,
          1,
          1,
          1,
          1,
          1,
          1,
          1,
          1,
          1,
          1,
          1,
          1,
          1,
          1,
          1,
          1,
          1,
          1,
          1,
          1,
          1,
          1,
          1,
          1,
          1,
          1,
          1,
          1,
          1,
          1,
          1,
          1,
          1,
          1,
          1,
          1,
          1,
          1,
          1,
          1,
          1,
          1,
          1,
          1,
          1,
          1,
          1,
          1,
          1,
          1,
          1,
          1,
          1,
          1,
          1,
          1,
          1,
          1,
          1,
          1,
          1,
          1,
          1,
          1,
          1,
          1,
          1,
          1,
          1,
          1,
          1,
          1,
          1,
          1,
          1,
          1,
          1,
          1,
          1,
          1,
          1,
          1,
          1,
          1,
          1,
          1,
          1,
          1,
          1,
          1,
          1,
          1,
          1,
          1,
          1,
          1,
          1,
          1,
          1,
          1,
          1,
          1,
          1,
          1,
          1,
          1,
          1,
          1,
          1,
          1,
          1,
          1,
          1,
          1,
          1,
          1,
          1,
          1,
          1,
          1,
          1,
          1,
          1,
          1,
          1,
          1,
          1,
          1,
          1,
          1,
          1,
          1,
          1,
          1,
          1,
          1,
          1,
          1,
          1,
          1,
          1,
          1,
          1,
          1,
          1,
          1,
          1,
          1,
          1,
          1,
          1,
          1,
          1,
          1,
          1,
          1,
          1,
          1,
          1,
          1,
          1,
          1,
          1,
          1,
          1,
          1,
          1,
          1,
          1,
          1,
          1,
          1,
          1,
          1,
          1,
          1,
          1,
          1,
          1,
          1,
          1,
          1,
          1,
          1,
          1,
          1,
          1,
          1,
          1,
          1,
          1,
          1,
          1,
          1,
          1,
          1,
          1,
          1,
          1,
          1,
          1,
          1,
          1,
          1,
          1,
          1,
          1,
          1,
          1,
          1,
          1,
          1,
          1,
          1,
          1,
          1,
          1,
          1,
          1,
          1,
          1,
          1,
          1,
          1,
          1,
          1,
          1,
          1,
          1,
          1,
          1,
          1,
          1,
          1,
          1,
          1,
          1,
          1,
          1,
          1,
          1,
          1,
          1,
          1,
          1,
          1,
          1,
          1,
          1,
          1,
          1,
          1,
          1,
          1,
          1,
          1,
          1,
          1,
          1,
          1,
          1,
          1,
          1,
          1,
          1,
          1,
          1,
          1,
          1,
          1,
          1,
          1,
          1,
          1,
          1,
          1,
          1,
          1,
          1,
          1,
          1,
          1,
          1,
          1,
          1,
          1,
          1,
          1,
          1,
          1,
          1,
          1,
          1,
          1,
          1,
          1,
          1,
          1,
          1,
          1,
          1,
          1,
          1,
          1,
          1,
          1,
          1,
          1,
          1,
          1,
          1,
          1,
          1,
          1,
          1,
          1,
          1,
          1,
          1,
          1,
          1,
          1,
          1,
          1,
          1,
          1,
          1,
          1,
          1,
          1,
          1,
          1,
          1,
          1,
          1,
          1,
          1,
          1,
          1,
          1,
          1,
          1,
          1,
          1,
          1,
          1,
          1,
          1,
          1,
          1,
          1,
          1,
          1,
          1,
          1,
          1,
          1,
          1,
          1,
          1,
          1,
          1,
          1,
          1,
          1,
          1,
          1,
          1,
          1,
          1,
          1,
          1,
          1,
          1,
          1,
          1,
          1,
          1,
          1,
          1,
          1,
          1,
          1,
          1,
          1,
          1,
          1,
          1,
          1,
          1,
          1,
          1,
          1,
          1,
          1,
          1,
          1,
          1,
          1,
          1,
          1,
          1,
          1,
          1,
          1,
          1,
          1,
          1,
          1,
          1,
          1,
          1,
          1,
          1,
          1,
          1,
          1,
          1,
          1,
          1,
          1,
          1,
          1,
          1,
          1,
          1,
          1,
          1,
          1,
          1
         ],
         "yaxis": "y"
        }
       ],
       "layout": {
        "autosize": true,
        "barmode": "relative",
        "legend": {
         "tracegroupgap": 0
        },
        "template": {
         "data": {
          "bar": [
           {
            "error_x": {
             "color": "#2a3f5f"
            },
            "error_y": {
             "color": "#2a3f5f"
            },
            "marker": {
             "line": {
              "color": "white",
              "width": 0.5
             },
             "pattern": {
              "fillmode": "overlay",
              "size": 10,
              "solidity": 0.2
             }
            },
            "type": "bar"
           }
          ],
          "barpolar": [
           {
            "marker": {
             "line": {
              "color": "white",
              "width": 0.5
             },
             "pattern": {
              "fillmode": "overlay",
              "size": 10,
              "solidity": 0.2
             }
            },
            "type": "barpolar"
           }
          ],
          "carpet": [
           {
            "aaxis": {
             "endlinecolor": "#2a3f5f",
             "gridcolor": "#C8D4E3",
             "linecolor": "#C8D4E3",
             "minorgridcolor": "#C8D4E3",
             "startlinecolor": "#2a3f5f"
            },
            "baxis": {
             "endlinecolor": "#2a3f5f",
             "gridcolor": "#C8D4E3",
             "linecolor": "#C8D4E3",
             "minorgridcolor": "#C8D4E3",
             "startlinecolor": "#2a3f5f"
            },
            "type": "carpet"
           }
          ],
          "choropleth": [
           {
            "colorbar": {
             "outlinewidth": 0,
             "ticks": ""
            },
            "type": "choropleth"
           }
          ],
          "contour": [
           {
            "colorbar": {
             "outlinewidth": 0,
             "ticks": ""
            },
            "colorscale": [
             [
              0,
              "#0d0887"
             ],
             [
              0.1111111111111111,
              "#46039f"
             ],
             [
              0.2222222222222222,
              "#7201a8"
             ],
             [
              0.3333333333333333,
              "#9c179e"
             ],
             [
              0.4444444444444444,
              "#bd3786"
             ],
             [
              0.5555555555555556,
              "#d8576b"
             ],
             [
              0.6666666666666666,
              "#ed7953"
             ],
             [
              0.7777777777777778,
              "#fb9f3a"
             ],
             [
              0.8888888888888888,
              "#fdca26"
             ],
             [
              1,
              "#f0f921"
             ]
            ],
            "type": "contour"
           }
          ],
          "contourcarpet": [
           {
            "colorbar": {
             "outlinewidth": 0,
             "ticks": ""
            },
            "type": "contourcarpet"
           }
          ],
          "heatmap": [
           {
            "colorbar": {
             "outlinewidth": 0,
             "ticks": ""
            },
            "colorscale": [
             [
              0,
              "#0d0887"
             ],
             [
              0.1111111111111111,
              "#46039f"
             ],
             [
              0.2222222222222222,
              "#7201a8"
             ],
             [
              0.3333333333333333,
              "#9c179e"
             ],
             [
              0.4444444444444444,
              "#bd3786"
             ],
             [
              0.5555555555555556,
              "#d8576b"
             ],
             [
              0.6666666666666666,
              "#ed7953"
             ],
             [
              0.7777777777777778,
              "#fb9f3a"
             ],
             [
              0.8888888888888888,
              "#fdca26"
             ],
             [
              1,
              "#f0f921"
             ]
            ],
            "type": "heatmap"
           }
          ],
          "heatmapgl": [
           {
            "colorbar": {
             "outlinewidth": 0,
             "ticks": ""
            },
            "colorscale": [
             [
              0,
              "#0d0887"
             ],
             [
              0.1111111111111111,
              "#46039f"
             ],
             [
              0.2222222222222222,
              "#7201a8"
             ],
             [
              0.3333333333333333,
              "#9c179e"
             ],
             [
              0.4444444444444444,
              "#bd3786"
             ],
             [
              0.5555555555555556,
              "#d8576b"
             ],
             [
              0.6666666666666666,
              "#ed7953"
             ],
             [
              0.7777777777777778,
              "#fb9f3a"
             ],
             [
              0.8888888888888888,
              "#fdca26"
             ],
             [
              1,
              "#f0f921"
             ]
            ],
            "type": "heatmapgl"
           }
          ],
          "histogram": [
           {
            "marker": {
             "pattern": {
              "fillmode": "overlay",
              "size": 10,
              "solidity": 0.2
             }
            },
            "type": "histogram"
           }
          ],
          "histogram2d": [
           {
            "colorbar": {
             "outlinewidth": 0,
             "ticks": ""
            },
            "colorscale": [
             [
              0,
              "#0d0887"
             ],
             [
              0.1111111111111111,
              "#46039f"
             ],
             [
              0.2222222222222222,
              "#7201a8"
             ],
             [
              0.3333333333333333,
              "#9c179e"
             ],
             [
              0.4444444444444444,
              "#bd3786"
             ],
             [
              0.5555555555555556,
              "#d8576b"
             ],
             [
              0.6666666666666666,
              "#ed7953"
             ],
             [
              0.7777777777777778,
              "#fb9f3a"
             ],
             [
              0.8888888888888888,
              "#fdca26"
             ],
             [
              1,
              "#f0f921"
             ]
            ],
            "type": "histogram2d"
           }
          ],
          "histogram2dcontour": [
           {
            "colorbar": {
             "outlinewidth": 0,
             "ticks": ""
            },
            "colorscale": [
             [
              0,
              "#0d0887"
             ],
             [
              0.1111111111111111,
              "#46039f"
             ],
             [
              0.2222222222222222,
              "#7201a8"
             ],
             [
              0.3333333333333333,
              "#9c179e"
             ],
             [
              0.4444444444444444,
              "#bd3786"
             ],
             [
              0.5555555555555556,
              "#d8576b"
             ],
             [
              0.6666666666666666,
              "#ed7953"
             ],
             [
              0.7777777777777778,
              "#fb9f3a"
             ],
             [
              0.8888888888888888,
              "#fdca26"
             ],
             [
              1,
              "#f0f921"
             ]
            ],
            "type": "histogram2dcontour"
           }
          ],
          "mesh3d": [
           {
            "colorbar": {
             "outlinewidth": 0,
             "ticks": ""
            },
            "type": "mesh3d"
           }
          ],
          "parcoords": [
           {
            "line": {
             "colorbar": {
              "outlinewidth": 0,
              "ticks": ""
             }
            },
            "type": "parcoords"
           }
          ],
          "pie": [
           {
            "automargin": true,
            "type": "pie"
           }
          ],
          "scatter": [
           {
            "fillpattern": {
             "fillmode": "overlay",
             "size": 10,
             "solidity": 0.2
            },
            "type": "scatter"
           }
          ],
          "scatter3d": [
           {
            "line": {
             "colorbar": {
              "outlinewidth": 0,
              "ticks": ""
             }
            },
            "marker": {
             "colorbar": {
              "outlinewidth": 0,
              "ticks": ""
             }
            },
            "type": "scatter3d"
           }
          ],
          "scattercarpet": [
           {
            "marker": {
             "colorbar": {
              "outlinewidth": 0,
              "ticks": ""
             }
            },
            "type": "scattercarpet"
           }
          ],
          "scattergeo": [
           {
            "marker": {
             "colorbar": {
              "outlinewidth": 0,
              "ticks": ""
             }
            },
            "type": "scattergeo"
           }
          ],
          "scattergl": [
           {
            "marker": {
             "colorbar": {
              "outlinewidth": 0,
              "ticks": ""
             }
            },
            "type": "scattergl"
           }
          ],
          "scattermapbox": [
           {
            "marker": {
             "colorbar": {
              "outlinewidth": 0,
              "ticks": ""
             }
            },
            "type": "scattermapbox"
           }
          ],
          "scatterpolar": [
           {
            "marker": {
             "colorbar": {
              "outlinewidth": 0,
              "ticks": ""
             }
            },
            "type": "scatterpolar"
           }
          ],
          "scatterpolargl": [
           {
            "marker": {
             "colorbar": {
              "outlinewidth": 0,
              "ticks": ""
             }
            },
            "type": "scatterpolargl"
           }
          ],
          "scatterternary": [
           {
            "marker": {
             "colorbar": {
              "outlinewidth": 0,
              "ticks": ""
             }
            },
            "type": "scatterternary"
           }
          ],
          "surface": [
           {
            "colorbar": {
             "outlinewidth": 0,
             "ticks": ""
            },
            "colorscale": [
             [
              0,
              "#0d0887"
             ],
             [
              0.1111111111111111,
              "#46039f"
             ],
             [
              0.2222222222222222,
              "#7201a8"
             ],
             [
              0.3333333333333333,
              "#9c179e"
             ],
             [
              0.4444444444444444,
              "#bd3786"
             ],
             [
              0.5555555555555556,
              "#d8576b"
             ],
             [
              0.6666666666666666,
              "#ed7953"
             ],
             [
              0.7777777777777778,
              "#fb9f3a"
             ],
             [
              0.8888888888888888,
              "#fdca26"
             ],
             [
              1,
              "#f0f921"
             ]
            ],
            "type": "surface"
           }
          ],
          "table": [
           {
            "cells": {
             "fill": {
              "color": "#EBF0F8"
             },
             "line": {
              "color": "white"
             }
            },
            "header": {
             "fill": {
              "color": "#C8D4E3"
             },
             "line": {
              "color": "white"
             }
            },
            "type": "table"
           }
          ]
         },
         "layout": {
          "annotationdefaults": {
           "arrowcolor": "#2a3f5f",
           "arrowhead": 0,
           "arrowwidth": 1
          },
          "autotypenumbers": "strict",
          "coloraxis": {
           "colorbar": {
            "outlinewidth": 0,
            "ticks": ""
           }
          },
          "colorscale": {
           "diverging": [
            [
             0,
             "#8e0152"
            ],
            [
             0.1,
             "#c51b7d"
            ],
            [
             0.2,
             "#de77ae"
            ],
            [
             0.3,
             "#f1b6da"
            ],
            [
             0.4,
             "#fde0ef"
            ],
            [
             0.5,
             "#f7f7f7"
            ],
            [
             0.6,
             "#e6f5d0"
            ],
            [
             0.7,
             "#b8e186"
            ],
            [
             0.8,
             "#7fbc41"
            ],
            [
             0.9,
             "#4d9221"
            ],
            [
             1,
             "#276419"
            ]
           ],
           "sequential": [
            [
             0,
             "#0d0887"
            ],
            [
             0.1111111111111111,
             "#46039f"
            ],
            [
             0.2222222222222222,
             "#7201a8"
            ],
            [
             0.3333333333333333,
             "#9c179e"
            ],
            [
             0.4444444444444444,
             "#bd3786"
            ],
            [
             0.5555555555555556,
             "#d8576b"
            ],
            [
             0.6666666666666666,
             "#ed7953"
            ],
            [
             0.7777777777777778,
             "#fb9f3a"
            ],
            [
             0.8888888888888888,
             "#fdca26"
            ],
            [
             1,
             "#f0f921"
            ]
           ],
           "sequentialminus": [
            [
             0,
             "#0d0887"
            ],
            [
             0.1111111111111111,
             "#46039f"
            ],
            [
             0.2222222222222222,
             "#7201a8"
            ],
            [
             0.3333333333333333,
             "#9c179e"
            ],
            [
             0.4444444444444444,
             "#bd3786"
            ],
            [
             0.5555555555555556,
             "#d8576b"
            ],
            [
             0.6666666666666666,
             "#ed7953"
            ],
            [
             0.7777777777777778,
             "#fb9f3a"
            ],
            [
             0.8888888888888888,
             "#fdca26"
            ],
            [
             1,
             "#f0f921"
            ]
           ]
          },
          "colorway": [
           "#636efa",
           "#EF553B",
           "#00cc96",
           "#ab63fa",
           "#FFA15A",
           "#19d3f3",
           "#FF6692",
           "#B6E880",
           "#FF97FF",
           "#FECB52"
          ],
          "font": {
           "color": "#2a3f5f"
          },
          "geo": {
           "bgcolor": "white",
           "lakecolor": "white",
           "landcolor": "white",
           "showlakes": true,
           "showland": true,
           "subunitcolor": "#C8D4E3"
          },
          "hoverlabel": {
           "align": "left"
          },
          "hovermode": "closest",
          "mapbox": {
           "style": "light"
          },
          "paper_bgcolor": "white",
          "plot_bgcolor": "white",
          "polar": {
           "angularaxis": {
            "gridcolor": "#EBF0F8",
            "linecolor": "#EBF0F8",
            "ticks": ""
           },
           "bgcolor": "white",
           "radialaxis": {
            "gridcolor": "#EBF0F8",
            "linecolor": "#EBF0F8",
            "ticks": ""
           }
          },
          "scene": {
           "xaxis": {
            "backgroundcolor": "white",
            "gridcolor": "#DFE8F3",
            "gridwidth": 2,
            "linecolor": "#EBF0F8",
            "showbackground": true,
            "ticks": "",
            "zerolinecolor": "#EBF0F8"
           },
           "yaxis": {
            "backgroundcolor": "white",
            "gridcolor": "#DFE8F3",
            "gridwidth": 2,
            "linecolor": "#EBF0F8",
            "showbackground": true,
            "ticks": "",
            "zerolinecolor": "#EBF0F8"
           },
           "zaxis": {
            "backgroundcolor": "white",
            "gridcolor": "#DFE8F3",
            "gridwidth": 2,
            "linecolor": "#EBF0F8",
            "showbackground": true,
            "ticks": "",
            "zerolinecolor": "#EBF0F8"
           }
          },
          "shapedefaults": {
           "line": {
            "color": "#2a3f5f"
           }
          },
          "ternary": {
           "aaxis": {
            "gridcolor": "#DFE8F3",
            "linecolor": "#A2B1C6",
            "ticks": ""
           },
           "baxis": {
            "gridcolor": "#DFE8F3",
            "linecolor": "#A2B1C6",
            "ticks": ""
           },
           "bgcolor": "white",
           "caxis": {
            "gridcolor": "#DFE8F3",
            "linecolor": "#A2B1C6",
            "ticks": ""
           }
          },
          "title": {
           "x": 0.05
          },
          "xaxis": {
           "automargin": true,
           "gridcolor": "#EBF0F8",
           "linecolor": "#EBF0F8",
           "ticks": "",
           "title": {
            "standoff": 15
           },
           "zerolinecolor": "#EBF0F8",
           "zerolinewidth": 2
          },
          "yaxis": {
           "automargin": true,
           "gridcolor": "#EBF0F8",
           "linecolor": "#EBF0F8",
           "ticks": "",
           "title": {
            "standoff": 15
           },
           "zerolinecolor": "#EBF0F8",
           "zerolinewidth": 2
          }
         }
        },
        "title": {
         "text": "Player of the Match Awards in IPL"
        },
        "xaxis": {
         "anchor": "y",
         "autorange": true,
         "domain": [
          0,
          1
         ],
         "range": [
          -0.5,
          290.5
         ],
         "title": {
          "text": "player_of_match"
         },
         "type": "category"
        },
        "yaxis": {
         "anchor": "x",
         "autorange": true,
         "domain": [
          0,
          1
         ],
         "range": [
          0,
          26.315789473684212
         ],
         "title": {
          "text": "count"
         },
         "type": "linear"
        }
       }
      },
      "image/png": "[encoded data removed]",
      "text/html": [
       "<div>                            <div id=\"5d715704-21f0-445b-9748-5360511bdfa7\" class=\"plotly-graph-div\" style=\"height:525px; width:100%;\"></div>            <script type=\"text/javascript\">                require([\"plotly\"], function(Plotly) {                    window.PLOTLYENV=window.PLOTLYENV || {};                                    if (document.getElementById(\"5d715704-21f0-445b-9748-5360511bdfa7\")) {                    Plotly.newPlot(                        \"5d715704-21f0-445b-9748-5360511bdfa7\",                        [{\"alignmentgroup\":\"True\",\"hovertemplate\":\"player_of_match=%{x}<br>count=%{y}<extra></extra>\",\"legendgroup\":\"\",\"marker\":{\"color\":\"#636efa\",\"pattern\":{\"shape\":\"\"}},\"name\":\"\",\"offsetgroup\":\"\",\"orientation\":\"v\",\"showlegend\":false,\"textposition\":\"auto\",\"x\":[\"BB McCullum\",\"MEK Hussey\",\"MF Maharoof\",\"MV Boucher\",\"DJ Hussey\",\"SR Watson\",\"V Sehwag\",\"ML Hayden\",\"YK Pathan\",\"KC Sangakkara\",\"SR Watson\",\"JDP Oram\",\"AC Gilchrist\",\"SM Katich\",\"MS Dhoni\",\"ST Jayasuriya\",\"GD McGrath\",\"SE Marsh\",\"SA Asnodkar\",\"V Sehwag\",\"IK Pathan\",\"P Kumar\",\"SM Pollock\",\"Sohail Tanvir\",\"S Sreesanth\",\"AC Gilchrist\",\"A Nehra\",\"MS Dhoni\",\"SC Ganguly\",\"YK Pathan\",\"L Balaji\",\"SC Ganguly\",\"SR Watson\",\"SE Marsh\",\"Shoaib Akhtar\",\"ST Jayasuriya\",\"A Mishra\",\"SM Pollock\",\"DPMD Jayawardene\",\"GC Smith\",\"DJ Bravo\",\"M Ntini\",\"SP Goswami\",\"YK Pathan\",\"SE Marsh\",\"A Kumble\",\"SE Marsh\",\"KD Karthik\",\"JA Morkel\",\"R Vinay Kumar\",\"Umar Gul\",\"Sohail Tanvir\",\"SK Raina\",\"CRD Fernando\",\"SE Marsh\",\"SR Watson\",\"M Ntini\",\"YK Pathan\",\"SR Tendulkar\",\"R Dravid\",\"DL Vettori\",\"RP Singh\",\"M Muralitharan\",\"CH Gayle\",\"AC Gilchrist\",\"AB de Villiers\",\"YK Pathan\",\"RS Bopara\",\"PP Ojha\",\"TM Dilshan\",\"KC Sangakkara\",\"HH Gibbs\",\"SR Tendulkar\",\"YK Pathan\",\"MV Boucher\",\"KC Sangakkara\",\"DP Nannes\",\"SK Raina\",\"JP Duminy\",\"Yuvraj Singh\",\"YK Pathan\",\"SB Jakati\",\"DPMD Jayawardene\",\"JH Kallis\",\"MS Dhoni\",\"GC Smith\",\"G Gambhir\",\"RG Sharma\",\"A Singh\",\"ML Hayden\",\"A Nehra\",\"DPMD Jayawardene\",\"S Badrinath\",\"JP Duminy\",\"A Mishra\",\"DR Smith\",\"LRPL Taylor\",\"Harbhajan Singh\",\"R Bhatia\",\"LRPL Taylor\",\"SK Warne\",\"B Lee\",\"ML Hayden\",\"RG Sharma\",\"Yuvraj Singh\",\"AB de Villiers\",\"BJ Hodge\",\"JH Kallis\",\"LR Shukla\",\"M Muralitharan\",\"V Sehwag\",\"MK Pandey\",\"AC Gilchrist\",\"MK Pandey\",\"A Kumble\",\"AD Mathews\",\"YK Pathan\",\"G Gambhir\",\"MK Tiwary\",\"WPUJC Vaas\",\"V Sehwag\",\"JH Kallis\",\"MS Dhoni\",\"SR Tendulkar\",\"JH Kallis\",\"ML Hayden\",\"A Symonds\",\"AA Jhunjhunwala\",\"JH Kallis\",\"A Symonds\",\"J Theron\",\"SR Tendulkar\",\"RV Uthappa\",\"AC Voges\",\"SR Tendulkar\",\"KM Jadhav\",\"YK Pathan\",\"MK Tiwary\",\"NV Ojha\",\"Harbhajan Singh\",\"DA Warner\",\"SL Malinga\",\"M Vijay\",\"KD Karthik\",\"SC Ganguly\",\"KP Pietersen\",\"M Vijay\",\"AT Rayudu\",\"DPMD Jayawardene\",\"PD Collingwood\",\"SK Warne\",\"SK Raina\",\"MJ Lumb\",\"SC Ganguly\",\"TL Suman\",\"KC Sangakkara\",\"RJ Harris\",\"R Vinay Kumar\",\"PP Chawla\",\"SR Tendulkar\",\"Harmeet Singh\",\"KA Pollard\",\"R Ashwin\",\"KP Pietersen\",\"G Gambhir\",\"RG Sharma\",\"R McLaren\",\"JD Unadkat\",\"MS Dhoni\",\"A Symonds\",\"M Kartik\",\"KA Pollard\",\"DE Bollinger\",\"A Kumble\",\"SK Raina\",\"S Anirudha\",\"SK Trivedi\",\"AB de Villiers\",\"SL Malinga\",\"SB Wagh\",\"JH Kallis\",\"SK Warne\",\"SR Tendulkar\",\"PC Valthaty\",\"MD Mishra\",\"DW Steyn\",\"G Gambhir\",\"BB McCullum\",\"MEK Hussey\",\"PC Valthaty\",\"Yuvraj Singh\",\"L Balaji\",\"BB McCullum\",\"S Sohal\",\"MM Patel\",\"DPMD Jayawardene\",\"SE Marsh\",\"Harbhajan Singh\",\"CH Gayle\",\"DA Warner\",\"SL Malinga\",\"SK Warne\",\"MEK Hussey\",\"V Kohli\",\"DE Bollinger\",\"I Sharma\",\"MK Tiwary\",\"J Botha\",\"V Kohli\",\"V Sehwag\",\"Iqbal Abdulla\",\"LRPL Taylor\",\"JA Morkel\",\"KA Pollard\",\"P Parameswaran\",\"YK Pathan\",\"MEK Hussey\",\"R Sharma\",\"BJ Hodge\",\"V Sehwag\",\"CH Gayle\",\"Iqbal Abdulla\",\"AT Rayudu\",\"CH Gayle\",\"R Sharma\",\"M Vijay\",\"MR Marsh\",\"BA Bhatt\",\"S Aravind\",\"MS Dhoni\",\"KD Karthik\",\"CH Gayle\",\"A Mishra\",\"PP Chawla\",\"BJ Hodge\",\"A Mishra\",\"AC Gilchrist\",\"WP Saha\",\"YK Pathan\",\"SR Watson\",\"S Dhawan\",null,\"CH Gayle\",\"JEC Franklin\",\"SK Raina\",\"MM Patel\",\"CH Gayle\",\"M Vijay\",\"RE Levi\",\"IK Pathan\",\"SPD Smith\",\"AM Rahane\",\"AB de Villiers\",\"RA Jadeja\",\"BJ Hodge\",\"MN Samuels\",\"RG Sharma\",\"L Balaji\",\"M Morkel\",\"KA Pollard\",\"F du Plessis\",\"AD Mascarenhas\",\"Shakib Al Hasan\",\"JD Ryder\",\"SP Narine\",\"AM Rahane\",\"S Nadeem\",\"BJ Hodge\",\"CH Gayle\",\"G Gambhir\",\"KP Pietersen\",\"KMDN Kulasekara\",\"CH Gayle\",\"F du Plessis\",\"SC Ganguly\",\"SE Marsh\",\"B Lee\",\"AB de Villiers\",\"V Sehwag\",\"AT Rayudu\",\"CL White\",\"V Sehwag\",\"Mandeep Singh\",\"G Gambhir\",\"V Sehwag\",\"DW Steyn\",\"G Gambhir\",\"KC Sangakkara\",\"P Negi\",\"Azhar Mahmood\",\"SL Malinga\",\"SK Raina\",\"SP Narine\",\"SR Watson\",\"DR Smith\",\"AB de Villiers\",\"JH Kallis\",\"SR Watson\",\"Mandeep Singh\",\"CH Gayle\",\"DA Warner\",\"BW Hilfenhaus\",\"CH Gayle\",\"RG Sharma\",\"BW Hilfenhaus\",\"A Chandila\",\"DJ Hussey\",\"AT Rayudu\",\"MEK Hussey\",\"UT Yadav\",\"SP Narine\",\"AC Gilchrist\",\"CH Gayle\",\"DW Steyn\",\"UT Yadav\",\"Shakib Al Hasan\",\"DW Steyn\",\"DR Smith\",\"YK Pathan\",\"MS Dhoni\",\"M Vijay\",\"MS Bisla\",\"SP Narine\",\"CH Gayle\",\"A Mishra\",\"R Dravid\",\"KA Pollard\",\"M Vohra\",\"GH Vihari\",\"SK Trivedi\",\"KD Karthik\",\"V Kohli\",\"MEK Hussey\",\"CH Gayle\",\"AJ Finch\",\"A Mishra\",\"RG Sharma\",\"RA Jadeja\",\"G Gambhir\",\"JP Faulkner\",\"SPD Smith\",\"MS Gony\",\"V Kohli\",\"A Mishra\",\"AM Rahane\",\"MEK Hussey\",\"GH Vihari\",\"RA Jadeja\",\"R Vinay Kumar\",\"V Sehwag\",\"DA Miller\",\"MEK Hussey\",\"CH Gayle\",\"Harmeet Singh\",\"DR Smith\",\"MS Dhoni\",\"JH Kallis\",\"JP Faulkner\",\"DR Smith\",\"MEK Hussey\",\"DA Warner\",\"SV Samson\",\"RG Sharma\",\"MS Dhoni\",\"I Sharma\",\"DA Warner\",\"SK Raina\",\"AB de Villiers\",\"YK Pathan\",\"DJG Sammy\",\"MG Johnson\",\"AM Rahane\",\"DA Miller\",\"AM Rahane\",\"SR Tendulkar\",\"SK Raina\",\"KK Cooper\",\"G Gambhir\",\"JD Unadkat\",\"MG Johnson\",\"PA Patel\",\"JH Kallis\",\"SR Watson\",\"KA Pollard\",\"AC Gilchrist\",\"MS Dhoni\",\"MK Pandey\",\"AP Tare\",\"DA Miller\",\"A Mishra\",\"Azhar Mahmood\",\"V Kohli\",\"LJ Wright\",\"PA Patel\",\"MEK Hussey\",\"BJ Hodge\",\"Harbhajan Singh\",\"KA Pollard\",\"JH Kallis\",\"YS Chahal\",\"GJ Maxwell\",\"AM Rahane\",\"PA Patel\",\"JP Duminy\",\"GJ Maxwell\",\"SK Raina\",\"GJ Maxwell\",\"RA Jadeja\",\"CA Lynn\",\"AJ Finch\",\"MM Sharma\",\"PV Tambe\",\"Sandeep Sharma\",\"M Vijay\",\"DR Smith\",\"Sandeep Sharma\",\"JP Faulkner\",\"B Kumar\",\"RA Jadeja\",\"CJ Anderson\",\"KK Nair\",\"AB de Villiers\",\"PV Tambe\",\"DR Smith\",\"RG Sharma\",\"G Gambhir\",\"GJ Maxwell\",\"B Kumar\",\"Sandeep Sharma\",\"DW Steyn\",\"DR Smith\",\"G Gambhir\",\"JP Faulkner\",\"AT Rayudu\",\"RA Jadeja\",\"Yuvraj Singh\",\"WP Saha\",\"RV Uthappa\",\"AM Rahane\",\"AB de Villiers\",\"UT Yadav\",\"MEK Hussey\",\"AR Patel\",\"DA Warner\",\"RV Uthappa\",\"LMP Simmons\",\"RV Uthappa\",\"DA Warner\",\"MEK Hussey\",\"SE Marsh\",\"MS Dhoni\",\"YK Pathan\",\"M Vohra\",\"CJ Anderson\",\"UT Yadav\",\"SK Raina\",\"V Sehwag\",\"MK Pandey\",\"M Morkel\",\"A Nehra\",\"JP Faulkner\",\"BB McCullum\",\"CH Gayle\",\"DJ Hooda\",\"GJ Bailey\",\"DA Warner\",\"SPD Smith\",\"MA Agarwal\",\"AM Rahane\",\"A Nehra\",\"JP Duminy\",\"AD Russell\",\"AM Rahane\",\"Harbhajan Singh\",\"UT Yadav\",\"SE Marsh\",\"DA Warner\",\"SK Raina\",\"SS Iyer\",\"MA Starc\",\"SL Malinga\",\"BB McCullum\",\"VR Aaron\",\"TA Boult\",\"DJ Bravo\",null,\"AD Russell\",\"NM Coulter-Nile\",\"AT Rayudu\",\"Mandeep Singh\",\"DA Warner\",\"LMP Simmons\",\"AM Rahane\",\"SK Raina\",\"UT Yadav\",\"Harbhajan Singh\",\"CH Gayle\",\"PP Chawla\",\"EJG Morgan\",\"HH Pandya\",\"AD Russell\",\"MC Henriques\",\"AB de Villiers\",\"RA Jadeja\",\"DA Warner\",\"Z Khan\",\"AR Patel\",\"HH Pandya\",\"V Kohli\",\"P Negi\",\"SR Watson\",null,\"MJ McClenaghan\",\"KA Pollard\",\"AB de Villiers\",\"A Nehra\",\"RG Sharma\",\"AM Rahane\",\"AD Russell\",\"AJ Finch\",\"AB de Villiers\",\"RG Sharma\",\"AJ Finch\",\"A Mishra\",\"G Gambhir\",\"AJ Finch\",\"M Vohra\",\"Q de Kock\",\"DA Warner\",\"RV Uthappa\",\"RG Sharma\",\"B Kumar\",\"AB de Villiers\",\"SV Samson\",\"Mustafizur Rahman\",\"V Kohli\",\"SA Yadav\",\"PA Patel\",\"AB Dinda\",\"CH Morris\",\"RG Sharma\",\"DR Smith\",\"CR Brathwaite\",\"DA Warner\",\"AR Patel\",\"RG Sharma\",\"AD Russell\",\"RR Pant\",\"AD Russell\",\"AM Rahane\",\"B Kumar\",\"V Kohli\",\"MP Stoinis\",\"A Nehra\",\"P Kumar\",\"SR Watson\",\"A Zampa\",\"KH Pandya\",\"CH Morris\",\"MP Stoinis\",\"AB de Villiers\",\"YK Pathan\",\"HM Amla\",\"KH Pandya\",\"V Kohli\",\"AB Dinda\",\"V Kohli\",\"DR Smith\",\"KK Nair\",\"MS Dhoni\",\"SK Raina\",\"YK Pathan\",\"V Kohli\",\"AB de Villiers\",\"MC Henriques\",\"DA Warner\",\"BCJ Cutting\",\"Yuvraj Singh\",\"SPD Smith\",\"CA Lynn\",\"GJ Maxwell\",\"KM Jadhav\",\"Rashid Khan\",\"N Rana\",\"AR Patel\",\"SV Samson\",\"JJ Bumrah\",\"SP Narine\",\"KA Pollard\",\"AJ Tye\",\"RV Uthappa\",\"CJ Anderson\",\"N Rana\",\"BA Stokes\",\"NM Coulter-Nile\",\"B Kumar\",\"CH Gayle\",\"KS Williamson\",\"JC Buttler\",\"SK Raina\",\"MJ McClenaghan\",\"MS Dhoni\",\"HM Amla\",\"NM Coulter-Nile\",\"BA Stokes\",\"RV Uthappa\",\"AJ Tye\",\"G Gambhir\",\"Rashid Khan\",\"LH Ferguson\",\"KH Pandya\",\"Sandeep Sharma\",\"DA Warner\",\"RG Sharma\",\"BA Stokes\",\"Mohammed Shami\",\"RA Tripathi\",\"RR Pant\",\"Sandeep Sharma\",\"JD Unadkat\",\"LMP Simmons\",\"SP Narine\",\"DR Smith\",\"S Dhawan\",\"MM Sharma\",\"SS Iyer\",\"WP Saha\",\"KK Nair\",\"Mohammed Siraj\",\"AT Rayudu\",\"JD Unadkat\",\"HV Patel\",\"Washington Sundar\",\"NM Coulter-Nile\",\"KV Sharma\",\"KH Pandya\",\"DJ Bravo\",\"KL Rahul\",\"SP Narine\",\"S Dhawan\",\"SW Billings\",\"SV Samson\",\"Rashid Khan\",\"UT Yadav\",\"JJ Roy\",\"B Stanlake\",\"SV Samson\",\"CH Gayle\",\"N Rana\",\"RG Sharma\",\"N Rana\",\"CH Gayle\",\"SR Watson\",\"KL Rahul\",\"AB de Villiers\",\"AT Rayudu\",\"JC Archer\",\"AS Rajpoot\",\"Rashid Khan\",\"MS Dhoni\",\"AS Rajpoot\",\"SS Iyer\",\"RG Sharma\",\"KS Williamson\",\"CA Lynn\",\"SR Watson\",\"TG Southee\",\"RR Pant\",\"SP Narine\",\"SA Yadav\",\"RA Jadeja\",\"Rashid Khan\",\"HH Pandya\",\"Mujeeb Ur Rahman\",\"KS Williamson\",\"JC Buttler\",\"Ishan Kishan\",\"S Dhawan\",\"JC Buttler\",\"SP Narine\",\"AB de Villiers\",\"AT Rayudu\",\"JC Buttler\",\"UT Yadav\",\"Kuldeep Yadav\",\"JJ Bumrah\",\"AB de Villiers\",\"HV Patel\",\"S Gopal\",\"CA Lynn\",\"A Mishra\",\"L Ngidi\",\"F du Plessis\",\"AD Russell\",\"Rashid Khan\",\"SR Watson\",\"Harbhajan Singh\",\"AD Russell\",\"RR Pant\",\"CH Gayle\",\"SR Watson\",\"AD Russell\",\"JJ Bumrah\",\"Rashid Khan\",\"MA Agarwal\",\"PP Shaw\",\"JM Bairstow\",\"MS Dhoni\",\"SM Curran\",\"S Gopal\",\"HH Pandya\",\"JM Bairstow\",\"AD Russell\",\"Harbhajan Singh\",\"AS Joseph\",\"K Rabada\",\"HF Gurney\",\"KL Rahul\",\"DL Chahar\",\"KA Pollard\",\"MS Dhoni\",\"S Dhawan\",\"JC Buttler\",\"AB de Villiers\",\"Imran Tahir\",\"KMA Paul\",\"SL Malinga\",\"R Ashwin\",\"DA Warner\",\"HH Pandya\",\"V Kohli\",\"SPD Smith\",\"SS Iyer\",\"KK Ahmed\",\"PA Patel\",\"RR Pant\",\"SR Watson\",\"AB de Villiers\",\"VR Aaron\",\"RG Sharma\",\"JD Unadkat\",\"S Dhawan\",\"AD Russell\",\"DA Warner\",null,\"MS Dhoni\",\"JJ Bumrah\",\"Shubman Gill\",\"A Mishra\",\"SO Hetmyer\",\"KL Rahul\",\"HH Pandya\",\"SA Yadav\",\"RR Pant\",\"F du Plessis\",\"JJ Bumrah\",\"AT Rayudu\",\"MP Stoinis\",\"YS Chahal\",\"SV Samson\",\"RG Sharma\",\"KL Rahul\",\"PP Shaw\",\"Shubman Gill\",\"SV Samson\",\"AB de Villiers\",\"Rashid Khan\",\"Shivam Mavi\",\"KA Pollard\",\"PK Garg\",\"YS Chahal\",\"SS Iyer\",\"SR Watson\",\"TA Boult\",\"AR Patel\",\"SA Yadav\",\"RA Tripathi\",\"JM Bairstow\",\"R Ashwin\",\"KD Karthik\",\"V Kohli\",\"R Tewatia\",\"Q de Kock\",\"AB de Villiers\",\"RA Jadeja\",\"A Nortje\",\"KL Rahul\",\"Q de Kock\",\"S Dhawan\",\"AB de Villiers\",\"LH Ferguson\",\"KL Rahul\",\"JC Buttler\",\"S Dhawan\",\"Mohammed Siraj\",\"MK Pandey\",\"TA Boult\",\"CV Varun\",\"CJ Jordan\",\"BA Stokes\",\"RD Gaikwad\",\"CH Gayle\",\"WP Saha\",\"SA Yadav\",\"RD Gaikwad\",\"BA Stokes\",\"Sandeep Sharma\",\"Ishan Kishan\",\"RD Gaikwad\",\"PJ Cummins\",\"A Nortje\",\"S Nadeem\",\"JJ Bumrah\",\"KS Williamson\",\"MP Stoinis\",\"TA Boult\",\"HV Patel\",\"S Dhawan\",\"N Rana\",\"SV Samson\",\"RD Chahar\",\"GJ Maxwell\",\"JD Unadkat\",\"DL Chahar\",\"KA Pollard\",\"AB de Villiers\",\"S Dhawan\",\"MM Ali\",\"A Mishra\",\"JM Bairstow\",\"F du Plessis\",\"D Padikkal\",\"KL Rahul\",\"CH Morris\",\"RA Jadeja\",\"PP Shaw\",\"EJG Morgan\",\"AB de Villiers\",\"RD Gaikwad\",\"Q de Kock\",\"PP Shaw\",\"Harpreet Brar\",\"KA Pollard\",\"JC Buttler\",\"MA Agarwal\",\"RD Gaikwad\",\"CV Varun\",\"Kartik Tyagi\",\"A Nortje\",\"SP Narine\",\"DJ Bravo\",\"SS Iyer\",\"JO Holder\",\"RA Jadeja\",\"GJ Maxwell\",\"JJ Roy\",\"SP Narine\",\"KA Pollard\",\"YS Chahal\",\"JR Hazlewood\",\"KL Rahul\",\"RD Gaikwad\",\"AR Patel\",\"GJ Maxwell\",\"Shubman Gill\",\"AR Patel\",\"NM Coulter-Nile\",\"KS Williamson\",\"KL Rahul\",\"Shivam Mavi\",\"Ishan Kishan\",\"KS Bharat\",\"RD Gaikwad\",\"SP Narine\",\"VR Iyer\",\"F du Plessis\",\"UT Yadav\",\"Kuldeep Yadav\",\"OF Smith\",\"Mohammed Shami\",\"SV Samson\",\"PWH de Silva\",\"E Lewis\",\"UT Yadav\",\"JC Buttler\",\"LH Ferguson\",\"LS Livingstone\",\"Avesh Khan\",\"KD Karthik\",\"PJ Cummins\",\"Q de Kock\",\"Shubman Gill\",\"Abhishek Sharma\",\"Anuj Rawat\",\"Kuldeep Yadav\",\"YS Chahal\",\"KS Williamson\",\"S Dube\",\"MA Agarwal\",\"HH Pandya\",\"RA Tripathi\",\"KL Rahul\",\"KD Karthik\",\"Umran Malik\",\"DA Miller\",\"YS Chahal\",\"F du Plessis\",\"Kuldeep Yadav\",\"Mukesh Choudhary\",\"JC Buttler\",\"Rashid Khan\",\"M Jansen\",\"KL Rahul\",\"S Dhawan\",\"R Parag\",\"Umran Malik\",\"Kuldeep Yadav\",\"KH Pandya\",\"R Tewatia\",\"SA Yadav\",\"Mohsin Khan\",\"RD Gaikwad\",\"RK Singh\",\"K Rabada\",\"HV Patel\",\"DA Warner\",\"TH David\",\"YBK Jaiswal\",\"Avesh Khan\",\"PWH de Silva\",\"DP Conway\",\"JJ Bumrah\",\"Shubman Gill\",\"MR Marsh\",\"DR Sams\",\"JM Bairstow\",\"AD Russell\",\"WP Saha\",\"TA Boult\",\"SN Thakur\",\"RA Tripathi\",\"Q de Kock\",\"V Kohli\",\"R Ashwin\",\"JJ Bumrah\",\"Harpreet Brar\",\"DA Miller\",\"RM Patidar\",\"JC Buttler\",\"HH Pandya\",\"Rashid Khan\",\"Arshdeep Singh\",\"MA Wood\",\"JC Buttler\",\"F du Plessis\",\"MM Ali\",\"B Sai Sudharsan\",\"NT Ellis\",\"SN Thakur\",\"KH Pandya\",\"YBK Jaiswal\",\"RA Jadeja\",\"RK Singh\",\"S Dhawan\",\"N Pooran\",\"RG Sharma\",\"R Ashwin\",\"MM Sharma\",\"HC Brook\",\"V Kohli\",\"Sikandar Raza\",\"VR Iyer\",\"SO Hetmyer\",\"DP Conway\",\"C Green\",\"MP Stoinis\",\"Mohammed Siraj\",\"I Sharma\",\"RA Jadeja\",\"MM Sharma\",\"SM Curran\",\"GJ Maxwell\",\"AM Rahane\",\"AR Patel\",\"A Manohar\",\"CV Varun\",\"YBK Jaiswal\",\"MP Stoinis\",\"J Little\",\"MR Marsh\",\"DP Conway\",\"YBK Jaiswal\",\"F du Plessis\",\"Mohammed Shami\",null,\"Ishan Kishan\",\"CV Varun\",\"Rashid Khan\",\"M Pathirana\",\"PD Salt\",\"Shubman Gill\",\"GD Phillips\",\"AD Russell\",\"SA Yadav\",\"RA Jadeja\",\"YBK Jaiswal\",\"SA Yadav\",\"PN Mankad\",\"P Simran Singh\",\"WD Parnell\",\"RK Singh\",\"Shubman Gill\",\"MP Stoinis\",\"RR Rossouw\",\"V Kohli\",\"D Padikkal\",\"RD Gaikwad\",\"N Pooran\",\"C Green\",\"Shubman Gill\",\"RD Gaikwad\",\"Akash Madhwal\",\"Shubman Gill\",\"DP Conway\",\"Mustafizur Rahman\",\"SM Curran\",\"AD Russell\",\"SV Samson\",\"B Sai Sudharsan\",\"V Kohli\",\"S Dube\",\"Abhishek Sharma\",\"R Parag\",\"SP Narine\",\"MP Yadav\",\"MM Sharma\",\"KK Ahmed\",\"TA Boult\",\"MP Yadav\",\"SP Narine\",\"Shashank Singh\",\"Abhishek Sharma\",\"JC Buttler\",\"R Shepherd\",\"Yash Thakur\",\"RA Jadeja\",\"Nithish Kumar Reddy\",\"Rashid Khan\",\"JJ Bumrah\",\"Kuldeep Yadav\",\"SO Hetmyer\",\"PD Salt\",\"M Pathirana\",\"TM Head\",\"JC Buttler\",\"RR Pant\",\"JJ Bumrah\",\"KL Rahul\",\"TM Head\",\"AD Russell\",\"R Sai Kishore\",\"Sandeep Sharma\",\"MP Stoinis\",\"RR Pant\",\"RM Patidar\",\"JM Bairstow\",\"J Fraser-McGurk\",\"SV Samson\",\"WG Jacks\",\"RD Gaikwad\",\"CV Varun\",\"MP Stoinis\",\"Harpreet Brar\",\"B Kumar\",\"VR Iyer\",\"Mohammed Siraj\",\"RA Jadeja\",\"SP Narine\",\"SA Yadav\",\"Kuldeep Yadav\",\"TM Head\",\"V Kohli\",\"Shubman Gill\",\"CV Varun\",\"Simarjeet Singh\",\"C Green\",\"I Sharma\",\"SM Curran\",\"N Pooran\",\"F du Plessis\",\"Abhishek Sharma\",\"MA Starc\",\"R Ashwin\",\"Shahbaz Ahmed\",\"MA Starc\"],\"xaxis\":\"x\",\"y\":[1,1,1,1,1,1,1,1,1,1,1,1,1,1,1,1,1,1,1,1,1,1,1,1,1,1,1,1,1,1,1,1,1,1,1,1,1,1,1,1,1,1,1,1,1,1,1,1,1,1,1,1,1,1,1,1,1,1,1,1,1,1,1,1,1,1,1,1,1,1,1,1,1,1,1,1,1,1,1,1,1,1,1,1,1,1,1,1,1,1,1,1,1,1,1,1,1,1,1,1,1,1,1,1,1,1,1,1,1,1,1,1,1,1,1,1,1,1,1,1,1,1,1,1,1,1,1,1,1,1,1,1,1,1,1,1,1,1,1,1,1,1,1,1,1,1,1,1,1,1,1,1,1,1,1,1,1,1,1,1,1,1,1,1,1,1,1,1,1,1,1,1,1,1,1,1,1,1,1,1,1,1,1,1,1,1,1,1,1,1,1,1,1,1,1,1,1,1,1,1,1,1,1,1,1,1,1,1,1,1,1,1,1,1,1,1,1,1,1,1,1,1,1,1,1,1,1,1,1,1,1,1,1,1,1,1,1,1,1,1,1,1,1,1,1,1,1,1,1,1,1,1,1,1,1,1,1,1,1,1,1,1,1,1,1,1,1,1,1,1,1,1,1,1,1,1,1,1,1,1,1,1,1,1,1,1,1,1,1,1,1,1,1,1,1,1,1,1,1,1,1,1,1,1,1,1,1,1,1,1,1,1,1,1,1,1,1,1,1,1,1,1,1,1,1,1,1,1,1,1,1,1,1,1,1,1,1,1,1,1,1,1,1,1,1,1,1,1,1,1,1,1,1,1,1,1,1,1,1,1,1,1,1,1,1,1,1,1,1,1,1,1,1,1,1,1,1,1,1,1,1,1,1,1,1,1,1,1,1,1,1,1,1,1,1,1,1,1,1,1,1,1,1,1,1,1,1,1,1,1,1,1,1,1,1,1,1,1,1,1,1,1,1,1,1,1,1,1,1,1,1,1,1,1,1,1,1,1,1,1,1,1,1,1,1,1,1,1,1,1,1,1,1,1,1,1,1,1,1,1,1,1,1,1,1,1,1,1,1,1,1,1,1,1,1,1,1,1,1,1,1,1,1,1,1,1,1,1,1,1,1,1,1,1,1,1,1,1,1,1,1,1,1,1,1,1,1,1,1,1,1,1,1,1,1,1,1,1,1,1,1,1,1,1,1,1,1,1,1,1,1,1,1,1,1,1,1,1,1,1,1,1,1,1,1,1,1,1,1,1,1,1,1,1,1,1,1,1,1,1,1,1,1,1,1,1,1,1,1,1,1,1,1,1,1,1,1,1,1,1,1,1,1,1,1,1,1,1,1,1,1,1,1,1,1,1,1,1,1,1,1,1,1,1,1,1,1,1,1,1,1,1,1,1,1,1,1,1,1,1,1,1,1,1,1,1,1,1,1,1,1,1,1,1,1,1,1,1,1,1,1,1,1,1,1,1,1,1,1,1,1,1,1,1,1,1,1,1,1,1,1,1,1,1,1,1,1,1,1,1,1,1,1,1,1,1,1,1,1,1,1,1,1,1,1,1,1,1,1,1,1,1,1,1,1,1,1,1,1,1,1,1,1,1,1,1,1,1,1,1,1,1,1,1,1,1,1,1,1,1,1,1,1,1,1,1,1,1,1,1,1,1,1,1,1,1,1,1,1,1,1,1,1,1,1,1,1,1,1,1,1,1,1,1,1,1,1,1,1,1,1,1,1,1,1,1,1,1,1,1,1,1,1,1,1,1,1,1,1,1,1,1,1,1,1,1,1,1,1,1,1,1,1,1,1,1,1,1,1,1,1,1,1,1,1,1,1,1,1,1,1,1,1,1,1,1,1,1,1,1,1,1,1,1,1,1,1,1,1,1,1,1,1,1,1,1,1,1,1,1,1,1,1,1,1,1,1,1,1,1,1,1,1,1,1,1,1,1,1,1,1,1,1,1,1,1,1,1,1,1,1,1,1,1,1,1,1,1,1,1,1,1,1,1,1,1,1,1,1,1,1,1,1,1,1,1,1,1,1,1,1,1,1,1,1,1,1,1,1,1,1,1,1,1,1,1,1,1,1,1,1,1,1,1,1,1,1,1,1,1,1,1,1,1,1,1,1,1,1,1,1,1,1,1,1,1,1,1,1,1,1,1,1,1,1,1,1,1,1,1,1,1,1,1,1,1,1,1,1,1,1,1,1,1,1,1,1,1,1,1,1,1,1,1,1,1,1,1,1,1,1,1,1,1,1,1,1,1,1,1,1,1,1,1,1,1,1,1,1,1,1,1,1,1,1,1,1,1,1,1,1,1,1,1,1,1,1,1,1,1,1,1,1,1,1,1,1,1,1,1,1,1,1,1,1,1,1,1,1,1,1,1,1,1,1,1,1,1,1,1,1,1,1,1,1,1,1,1,1,1,1,1,1,1,1,1,1,1,1,1,1,1,1,1,1,1,1,1,1,1,1,1,1,1,1],\"yaxis\":\"y\",\"type\":\"bar\"}],                        {\"template\":{\"data\":{\"histogram2dcontour\":[{\"type\":\"histogram2dcontour\",\"colorbar\":{\"outlinewidth\":0,\"ticks\":\"\"},\"colorscale\":[[0.0,\"#0d0887\"],[0.1111111111111111,\"#46039f\"],[0.2222222222222222,\"#7201a8\"],[0.3333333333333333,\"#9c179e\"],[0.4444444444444444,\"#bd3786\"],[0.5555555555555556,\"#d8576b\"],[0.6666666666666666,\"#ed7953\"],[0.7777777777777778,\"#fb9f3a\"],[0.8888888888888888,\"#fdca26\"],[1.0,\"#f0f921\"]]}],\"choropleth\":[{\"type\":\"choropleth\",\"colorbar\":{\"outlinewidth\":0,\"ticks\":\"\"}}],\"histogram2d\":[{\"type\":\"histogram2d\",\"colorbar\":{\"outlinewidth\":0,\"ticks\":\"\"},\"colorscale\":[[0.0,\"#0d0887\"],[0.1111111111111111,\"#46039f\"],[0.2222222222222222,\"#7201a8\"],[0.3333333333333333,\"#9c179e\"],[0.4444444444444444,\"#bd3786\"],[0.5555555555555556,\"#d8576b\"],[0.6666666666666666,\"#ed7953\"],[0.7777777777777778,\"#fb9f3a\"],[0.8888888888888888,\"#fdca26\"],[1.0,\"#f0f921\"]]}],\"heatmap\":[{\"type\":\"heatmap\",\"colorbar\":{\"outlinewidth\":0,\"ticks\":\"\"},\"colorscale\":[[0.0,\"#0d0887\"],[0.1111111111111111,\"#46039f\"],[0.2222222222222222,\"#7201a8\"],[0.3333333333333333,\"#9c179e\"],[0.4444444444444444,\"#bd3786\"],[0.5555555555555556,\"#d8576b\"],[0.6666666666666666,\"#ed7953\"],[0.7777777777777778,\"#fb9f3a\"],[0.8888888888888888,\"#fdca26\"],[1.0,\"#f0f921\"]]}],\"heatmapgl\":[{\"type\":\"heatmapgl\",\"colorbar\":{\"outlinewidth\":0,\"ticks\":\"\"},\"colorscale\":[[0.0,\"#0d0887\"],[0.1111111111111111,\"#46039f\"],[0.2222222222222222,\"#7201a8\"],[0.3333333333333333,\"#9c179e\"],[0.4444444444444444,\"#bd3786\"],[0.5555555555555556,\"#d8576b\"],[0.6666666666666666,\"#ed7953\"],[0.7777777777777778,\"#fb9f3a\"],[0.8888888888888888,\"#fdca26\"],[1.0,\"#f0f921\"]]}],\"contourcarpet\":[{\"type\":\"contourcarpet\",\"colorbar\":{\"outlinewidth\":0,\"ticks\":\"\"}}],\"contour\":[{\"type\":\"contour\",\"colorbar\":{\"outlinewidth\":0,\"ticks\":\"\"},\"colorscale\":[[0.0,\"#0d0887\"],[0.1111111111111111,\"#46039f\"],[0.2222222222222222,\"#7201a8\"],[0.3333333333333333,\"#9c179e\"],[0.4444444444444444,\"#bd3786\"],[0.5555555555555556,\"#d8576b\"],[0.6666666666666666,\"#ed7953\"],[0.7777777777777778,\"#fb9f3a\"],[0.8888888888888888,\"#fdca26\"],[1.0,\"#f0f921\"]]}],\"surface\":[{\"type\":\"surface\",\"colorbar\":{\"outlinewidth\":0,\"ticks\":\"\"},\"colorscale\":[[0.0,\"#0d0887\"],[0.1111111111111111,\"#46039f\"],[0.2222222222222222,\"#7201a8\"],[0.3333333333333333,\"#9c179e\"],[0.4444444444444444,\"#bd3786\"],[0.5555555555555556,\"#d8576b\"],[0.6666666666666666,\"#ed7953\"],[0.7777777777777778,\"#fb9f3a\"],[0.8888888888888888,\"#fdca26\"],[1.0,\"#f0f921\"]]}],\"mesh3d\":[{\"type\":\"mesh3d\",\"colorbar\":{\"outlinewidth\":0,\"ticks\":\"\"}}],\"scatter\":[{\"fillpattern\":{\"fillmode\":\"overlay\",\"size\":10,\"solidity\":0.2},\"type\":\"scatter\"}],\"parcoords\":[{\"type\":\"parcoords\",\"line\":{\"colorbar\":{\"outlinewidth\":0,\"ticks\":\"\"}}}],\"scatterpolargl\":[{\"type\":\"scatterpolargl\",\"marker\":{\"colorbar\":{\"outlinewidth\":0,\"ticks\":\"\"}}}],\"bar\":[{\"error_x\":{\"color\":\"#2a3f5f\"},\"error_y\":{\"color\":\"#2a3f5f\"},\"marker\":{\"line\":{\"color\":\"white\",\"width\":0.5},\"pattern\":{\"fillmode\":\"overlay\",\"size\":10,\"solidity\":0.2}},\"type\":\"bar\"}],\"scattergeo\":[{\"type\":\"scattergeo\",\"marker\":{\"colorbar\":{\"outlinewidth\":0,\"ticks\":\"\"}}}],\"scatterpolar\":[{\"type\":\"scatterpolar\",\"marker\":{\"colorbar\":{\"outlinewidth\":0,\"ticks\":\"\"}}}],\"histogram\":[{\"marker\":{\"pattern\":{\"fillmode\":\"overlay\",\"size\":10,\"solidity\":0.2}},\"type\":\"histogram\"}],\"scattergl\":[{\"type\":\"scattergl\",\"marker\":{\"colorbar\":{\"outlinewidth\":0,\"ticks\":\"\"}}}],\"scatter3d\":[{\"type\":\"scatter3d\",\"line\":{\"colorbar\":{\"outlinewidth\":0,\"ticks\":\"\"}},\"marker\":{\"colorbar\":{\"outlinewidth\":0,\"ticks\":\"\"}}}],\"scattermapbox\":[{\"type\":\"scattermapbox\",\"marker\":{\"colorbar\":{\"outlinewidth\":0,\"ticks\":\"\"}}}],\"scatterternary\":[{\"type\":\"scatterternary\",\"marker\":{\"colorbar\":{\"outlinewidth\":0,\"ticks\":\"\"}}}],\"scattercarpet\":[{\"type\":\"scattercarpet\",\"marker\":{\"colorbar\":{\"outlinewidth\":0,\"ticks\":\"\"}}}],\"carpet\":[{\"aaxis\":{\"endlinecolor\":\"#2a3f5f\",\"gridcolor\":\"#C8D4E3\",\"linecolor\":\"#C8D4E3\",\"minorgridcolor\":\"#C8D4E3\",\"startlinecolor\":\"#2a3f5f\"},\"baxis\":{\"endlinecolor\":\"#2a3f5f\",\"gridcolor\":\"#C8D4E3\",\"linecolor\":\"#C8D4E3\",\"minorgridcolor\":\"#C8D4E3\",\"startlinecolor\":\"#2a3f5f\"},\"type\":\"carpet\"}],\"table\":[{\"cells\":{\"fill\":{\"color\":\"#EBF0F8\"},\"line\":{\"color\":\"white\"}},\"header\":{\"fill\":{\"color\":\"#C8D4E3\"},\"line\":{\"color\":\"white\"}},\"type\":\"table\"}],\"barpolar\":[{\"marker\":{\"line\":{\"color\":\"white\",\"width\":0.5},\"pattern\":{\"fillmode\":\"overlay\",\"size\":10,\"solidity\":0.2}},\"type\":\"barpolar\"}],\"pie\":[{\"automargin\":true,\"type\":\"pie\"}]},\"layout\":{\"autotypenumbers\":\"strict\",\"colorway\":[\"#636efa\",\"#EF553B\",\"#00cc96\",\"#ab63fa\",\"#FFA15A\",\"#19d3f3\",\"#FF6692\",\"#B6E880\",\"#FF97FF\",\"#FECB52\"],\"font\":{\"color\":\"#2a3f5f\"},\"hovermode\":\"closest\",\"hoverlabel\":{\"align\":\"left\"},\"paper_bgcolor\":\"white\",\"plot_bgcolor\":\"white\",\"polar\":{\"bgcolor\":\"white\",\"angularaxis\":{\"gridcolor\":\"#EBF0F8\",\"linecolor\":\"#EBF0F8\",\"ticks\":\"\"},\"radialaxis\":{\"gridcolor\":\"#EBF0F8\",\"linecolor\":\"#EBF0F8\",\"ticks\":\"\"}},\"ternary\":{\"bgcolor\":\"white\",\"aaxis\":{\"gridcolor\":\"#DFE8F3\",\"linecolor\":\"#A2B1C6\",\"ticks\":\"\"},\"baxis\":{\"gridcolor\":\"#DFE8F3\",\"linecolor\":\"#A2B1C6\",\"ticks\":\"\"},\"caxis\":{\"gridcolor\":\"#DFE8F3\",\"linecolor\":\"#A2B1C6\",\"ticks\":\"\"}},\"coloraxis\":{\"colorbar\":{\"outlinewidth\":0,\"ticks\":\"\"}},\"colorscale\":{\"sequential\":[[0.0,\"#0d0887\"],[0.1111111111111111,\"#46039f\"],[0.2222222222222222,\"#7201a8\"],[0.3333333333333333,\"#9c179e\"],[0.4444444444444444,\"#bd3786\"],[0.5555555555555556,\"#d8576b\"],[0.6666666666666666,\"#ed7953\"],[0.7777777777777778,\"#fb9f3a\"],[0.8888888888888888,\"#fdca26\"],[1.0,\"#f0f921\"]],\"sequentialminus\":[[0.0,\"#0d0887\"],[0.1111111111111111,\"#46039f\"],[0.2222222222222222,\"#7201a8\"],[0.3333333333333333,\"#9c179e\"],[0.4444444444444444,\"#bd3786\"],[0.5555555555555556,\"#d8576b\"],[0.6666666666666666,\"#ed7953\"],[0.7777777777777778,\"#fb9f3a\"],[0.8888888888888888,\"#fdca26\"],[1.0,\"#f0f921\"]],\"diverging\":[[0,\"#8e0152\"],[0.1,\"#c51b7d\"],[0.2,\"#de77ae\"],[0.3,\"#f1b6da\"],[0.4,\"#fde0ef\"],[0.5,\"#f7f7f7\"],[0.6,\"#e6f5d0\"],[0.7,\"#b8e186\"],[0.8,\"#7fbc41\"],[0.9,\"#4d9221\"],[1,\"#276419\"]]},\"xaxis\":{\"gridcolor\":\"#EBF0F8\",\"linecolor\":\"#EBF0F8\",\"ticks\":\"\",\"title\":{\"standoff\":15},\"zerolinecolor\":\"#EBF0F8\",\"automargin\":true,\"zerolinewidth\":2},\"yaxis\":{\"gridcolor\":\"#EBF0F8\",\"linecolor\":\"#EBF0F8\",\"ticks\":\"\",\"title\":{\"standoff\":15},\"zerolinecolor\":\"#EBF0F8\",\"automargin\":true,\"zerolinewidth\":2},\"scene\":{\"xaxis\":{\"backgroundcolor\":\"white\",\"gridcolor\":\"#DFE8F3\",\"linecolor\":\"#EBF0F8\",\"showbackground\":true,\"ticks\":\"\",\"zerolinecolor\":\"#EBF0F8\",\"gridwidth\":2},\"yaxis\":{\"backgroundcolor\":\"white\",\"gridcolor\":\"#DFE8F3\",\"linecolor\":\"#EBF0F8\",\"showbackground\":true,\"ticks\":\"\",\"zerolinecolor\":\"#EBF0F8\",\"gridwidth\":2},\"zaxis\":{\"backgroundcolor\":\"white\",\"gridcolor\":\"#DFE8F3\",\"linecolor\":\"#EBF0F8\",\"showbackground\":true,\"ticks\":\"\",\"zerolinecolor\":\"#EBF0F8\",\"gridwidth\":2}},\"shapedefaults\":{\"line\":{\"color\":\"#2a3f5f\"}},\"annotationdefaults\":{\"arrowcolor\":\"#2a3f5f\",\"arrowhead\":0,\"arrowwidth\":1},\"geo\":{\"bgcolor\":\"white\",\"landcolor\":\"white\",\"subunitcolor\":\"#C8D4E3\",\"showland\":true,\"showlakes\":true,\"lakecolor\":\"white\"},\"title\":{\"x\":0.05},\"mapbox\":{\"style\":\"light\"}}},\"xaxis\":{\"anchor\":\"y\",\"domain\":[0.0,1.0],\"title\":{\"text\":\"player_of_match\"}},\"yaxis\":{\"anchor\":\"x\",\"domain\":[0.0,1.0],\"title\":{\"text\":\"count\"}},\"legend\":{\"tracegroupgap\":0},\"title\":{\"text\":\"Player of the Match Awards in IPL\"},\"barmode\":\"relative\"},                        {\"responsive\": true}                    ).then(function(){\n",
       "                            \n",
       "var gd = document.getElementById('5d715704-21f0-445b-9748-5360511bdfa7');\n",
       "var x = new MutationObserver(function (mutations, observer) {{\n",
       "        var display = window.getComputedStyle(gd).display;\n",
       "        if (!display || display === 'none') {{\n",
       "            console.log([gd, 'removed!']);\n",
       "            Plotly.purge(gd);\n",
       "            observer.disconnect();\n",
       "        }}\n",
       "}});\n",
       "\n",
       "// Listen for the removal of the full notebook cells\n",
       "var notebookContainer = gd.closest('#notebook-container');\n",
       "if (notebookContainer) {{\n",
       "    x.observe(notebookContainer, {childList: true});\n",
       "}}\n",
       "\n",
       "// Listen for the clearing of the current output cell\n",
       "var outputEl = gd.closest('.output');\n",
       "if (outputEl) {{\n",
       "    x.observe(outputEl, {childList: true});\n",
       "}}\n",
       "\n",
       "                        })                };                });            </script>        </div>"
      ]
     },
     "metadata": {},
     "output_type": "display_data"
    }
   ],
   "source": [
    "figure = px.bar(data, \n",
    "                x = data[\"player_of_match\"], \n",
    "                title=\"Player of the Match Awards in IPL\")\n",
    "figure.show()"
   ]
  },
  {
   "cell_type": "code",
   "execution_count": null,
   "id": "409b2154-bebc-4ea9-9566-83e92f1d4887",
   "metadata": {},
   "outputs": [],
   "source": []
  }
 ],
 "metadata": {
  "kernelspec": {
   "display_name": "Python 3 (ipykernel)",
   "language": "python",
   "name": "python3"
  },
  "language_info": {
   "codemirror_mode": {
    "name": "ipython",
    "version": 3
   },
   "file_extension": ".py",
   "mimetype": "text/x-python",
   "name": "python",
   "nbconvert_exporter": "python",
   "pygments_lexer": "ipython3",
   "version": "3.11.7"
  }
 },
 "nbformat": 4,
 "nbformat_minor": 5
}
