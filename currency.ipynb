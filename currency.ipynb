{
 "cells": [
  {
   "cell_type": "code",
   "execution_count": 1,
   "id": "0fce535c",
   "metadata": {},
   "outputs": [],
   "source": [
    "from currency_converter import CurrencyConverter\n",
    "c = CurrencyConverter()"
   ]
  },
  {
   "cell_type": "code",
   "execution_count": 2,
   "id": "d003585b",
   "metadata": {},
   "outputs": [
    {
     "data": {
      "text/plain": [
       "0.645611741636461"
      ]
     },
     "execution_count": 2,
     "metadata": {},
     "output_type": "execute_result"
    }
   ],
   "source": [
    "c.convert(100, 'JPY', 'USD')"
   ]
  },
  {
   "cell_type": "code",
   "execution_count": 3,
   "id": "4a032b35",
   "metadata": {},
   "outputs": [],
   "source": [
    "import tkinter as tk                                                                                                                                                                                                                                                                                                                                                                                                                              \n",
    "from tkinter import ttk\n",
    "\n",
    "root = tk.Tk()\n",
    "root.title(\"Currency Converter\")\n",
    "root.geometry(\"300x200\")\n",
    "c=CurrencyConverter() \n",
    "\n",
    "def currency_converter(currency1,currency2,Amount):\n",
    "    #c=CurrencyConverter()    \n",
    "    converted_amount=c.convert(Amount,currency1,currency2)\n",
    "    return converted_amount\n",
    "#currency_converter('JPY','INR',100) \n",
    "\n",
    "def convert():\n",
    "    Amount=Amount_Entry.get()\n",
    "    currency1=currency1_combobox.get()\n",
    "    currency2=currency2_combobox.get()\n",
    "    if currency1 and currency2:\n",
    "        converted_amount= currency_converter(currency1,currency2,Amount)\n",
    "    result.config(text=str(Amount) + \" \" + currency1 + \" = \" + str(converted_amount) + \" \" + currency2)\n",
    "\n",
    "Amount_label = tk.Label(root, text=\"Amount Button\")\n",
    "Amount_label.pack()\n",
    "\n",
    "Amount_Entry=ttk.Entry(root)\n",
    "Amount_Entry.pack()\n",
    "\n",
    "currency1_label = tk.Label(root, text=\"Currency1\")\n",
    "currency1_label.pack()\n",
    "\n",
    "currency1_Entry=ttk.Entry(root)\n",
    "currency1_label.pack()\n",
    "currency1_combobox=ttk.Combobox(root, values=list(c.currencies))\n",
    "currency1_combobox.pack()\n",
    "\n",
    "currency2_label = tk.Label(root, text=\"Currency2\")\n",
    "currency2_label.pack()\n",
    "\n",
    "currency2_Entry=ttk.Entry(root)\n",
    "currency2_label.pack()\n",
    "currency2_combobox=ttk.Combobox(root, values=list(c.currencies))\n",
    "currency2_combobox.pack()\n",
    "\n",
    "convert_button=ttk.Button(root, text=\"Button to Convert Currency\",command=convert)\n",
    "convert_button.pack()\n",
    "\n",
    "result=ttk.Label(root, text=\"\")\n",
    "result.pack()\n",
    "\n",
    "root.mainloop()\n"
   ]
  },
  {
   "cell_type": "code",
   "execution_count": null,
   "id": "9310689e",
   "metadata": {},
   "outputs": [],
   "source": []
  }
 ],
 "metadata": {
  "kernelspec": {
   "display_name": "Python 3 (ipykernel)",
   "language": "python",
   "name": "python3"
  },
  "language_info": {
   "codemirror_mode": {
    "name": "ipython",
    "version": 3
   },
   "file_extension": ".py",
   "mimetype": "text/x-python",
   "name": "python",
   "nbconvert_exporter": "python",
   "pygments_lexer": "ipython3",
   "version": "3.11.5"
  }
 },
 "nbformat": 4,
 "nbformat_minor": 5
}
